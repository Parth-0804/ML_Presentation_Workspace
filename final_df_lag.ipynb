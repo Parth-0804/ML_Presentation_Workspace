{
 "cells": [
  {
   "cell_type": "markdown",
   "metadata": {},
   "source": [
    "# Predicting Wait Times with Lag Features and Differencing\n",
    "\n",
    "In this notebook, we will build a time series forecasting model to predict wait times. We'll use a linear regression model and engineer features using two common techniques:\n",
    "\n",
    "1.  **Lag Features**: We will create features that represent past values of the time series. This helps the model understand the state of the system at previous time steps.\n",
    "2.  **Differencing**: To stabilize the time series and make it easier to model, we will predict the *change* in wait time from one period to the next, rather than the absolute wait time itself.\n",
    "\n",
    "Let's get started!\n",
    "\n",
    "### 1. Importing Libraries and Loading Data\n",
    "\n",
    "First, we import the necessary Python libraries, including `pandas` for data manipulation and `scikit-learn` for building the linear regression model. We then load the `final_df.csv` dataset."
   ]
  },
  {
   "cell_type": "code",
   "execution_count": null,
   "metadata": {},
   "outputs": [],
   "source": [
    "import pandas as pd\n",
    "import numpy as np\n",
    "from sklearn.model_selection import train_test_split\n",
    "from sklearn.linear_model import LinearRegression\n",
    "from sklearn import metrics\n",
    "import matplotlib.pyplot as plt\n",
    "import seaborn as sns\n",
    "\n",
    "# Load the dataset\n",
    "try:\n",
    "    df = pd.read_csv('final_df.csv')\n",
    "    # Assuming the unnamed column is an old index, we drop it.\n",
    "    if 'Unnamed: 0' in df.columns:\n",
    "        df = df.drop('Unnamed: 0', axis=1)\n",
    "except FileNotFoundError:\n",
    "    print(\"Please make sure 'final_df.csv' is in the same directory.\")\n",
    "    df = pd.DataFrame() # Create an empty dataframe to avoid further errors\n",
    "\n",
    "df.head()"
   ]
  },
  {
   "cell_type": "markdown",
   "metadata": {},
   "source": [
    "### 2. Creating Lag Features\n",
    "\n",
    "Now, we'll implement the function to create a lagged version of our dataframe. We will create 10 lags for each feature. This means that for each row (time step), we will have new columns containing the values of all features from the previous 10 time steps."
   ]
  },
  {
   "cell_type": "code",
   "execution_count": null,
   "metadata": {},
   "outputs": [],
   "source": [
    "# Make a copy of the original dataframe\n",
    "df_lagged = df.copy()\n",
    "\n",
    "# Define the size of the trailing window for lagging\n",
    "trailing_window_size = 10\n",
    "\n",
    "# Loop to create lagged columns\n",
    "for window in range(1, trailing_window_size + 1):\n",
    "    shifted = df.shift(window)\n",
    "    shifted.columns = [x + \"_lag\" + str(window) for x in df.columns]\n",
    "    df_lagged = pd.concat((df_lagged, shifted), axis=1)\n",
    "\n",
    "# The lagging process creates missing values (NaNs) for the first few rows.\n",
    "# We need to drop these rows as they cannot be used for training.\n",
    "df_lagged = df_lagged.dropna()\n",
    "\n",
    "print(\"Shape of the new lagged dataframe:\", df_lagged.shape)\n",
    "df_lagged.head()"
   ]
  },
  {
   "cell_type": "markdown",
   "metadata": {},
   "source": [
    "### 3. Preparing Data for Modeling\n",
    "\n",
    "Our goal is to predict `wait_time_minutes`. We will use the lagged features we just created as our predictors (`X`). For our target (`y`), we will use the *difference* in `wait_time_minutes` from one step to the next. This helps to make the target variable more stationary."
   ]
  },
  {
   "cell_type": "code",
   "execution_count": null,
   "metadata": {},
   "outputs": [],
   "source": [
    "# The original columns are no longer needed as predictors, since we have the lags.\n",
    "# We will keep the target 'wait_time_minutes' to calculate its difference.\n",
    "feature_columns = [col for col in df_lagged.columns if 'lag' in col]\n",
    "X = df_lagged[feature_columns]\n",
    "\n",
    "# Create the differenced target variable 'y'\n",
    "# This calculates the change in wait time from the previous step to the current one.\n",
    "y = df_lagged['wait_time_minutes'].diff()\n",
    "\n",
    "# The differencing operation creates one NaN value at the start, which we remove.\n",
    "# We must also remove the corresponding row from our features 'X' to keep them aligned.\n",
    "y = y.dropna()\n",
    "X = X.iloc[1:]\n",
    "\n",
    "print(\"Shape of features (X):\", X.shape)\n",
    "print(\"Shape of target (y):\", y.shape)"
   ]
  },
  {
   "cell_type": "markdown",
   "metadata": {},
   "source": [
    "### 4. Splitting Data into Training and Testing Sets\n",
    "\n",
    "For time series data, it's crucial to split the data chronologically. We will train the model on the earlier portion of the data and test it on the more recent portion. We'll use an 80/20 split."
   ]
  },
  {
   "cell_type": "code",
   "execution_count": null,
   "metadata": {},
   "outputs": [],
   "source": [
    "# Calculate the split point\n",
    "split_index = int(len(X) * 0.8)\n",
    "\n",
    "# Split the data\n",
    "X_train, X_test = X[:split_index], X[split_index:]\n",
    "y_train, y_test = y[:split_index], y[split_index:]\n",
    "\n",
    "print(\"Training set size:\", len(X_train))\n",
    "print(\"Testing set size:\", len(X_test))"
   ]
  },
  {
   "cell_type": "markdown",
   "metadata": {},
   "source": [
    "### 5. Training the Linear Regression Model\n",
    "\n",
    "Now we can instantiate and train our `LinearRegression` model using the training data."
   ]
  },
  {
   "cell_type": "code",
   "execution_count": null,
   "metadata": {},
   "outputs": [],
   "source": [
    "# Initialize the model\n",
    "model = LinearRegression()\n",
    "\n",
    "# Train the model\n",
    "model.fit(X_train, y_train)\n",
    "\n",
    "print(\"Linear Regression model trained successfully!\")"
   ]
  },
  {
   "cell_type": "markdown",
   "metadata": {},
   "source": [
    "### 6. Making Predictions and Evaluating the Model\n",
    "\n",
    "With the model trained, we can make predictions on the test set and evaluate its performance using standard regression metrics: Mean Absolute Error (MAE), Mean Squared Error (MSE), and R-squared."
   ]
  },
  {
   "cell_type": "code",
   "execution_count": null,
   "metadata": {},
   "outputs": [],
   "source": [
    "# Make predictions on the test data\n",
    "y_pred = model.predict(X_test)\n",
    "\n",
    "# Calculate evaluation metrics\n",
    "mae = metrics.mean_absolute_error(y_test, y_pred)\n",
    "mse = metrics.mean_squared_error(y_test, y_pred)\n",
    "rmse = np.sqrt(mse)\n",
    "r2 = metrics.r2_score(y_test, y_pred)\n",
    "\n",
    "print('--- Model Evaluation ---')\n",
    "print('Mean Absolute Error (MAE):', round(mae, 2))\n",
    "print('Mean Squared Error (MSE):', round(mse, 2))\n",
    "print('Root Mean Squared Error (RMSE):', round(rmse, 2))\n",
    "print('R-squared (R²):', round(r2, 2))"
   ]
  },
  {
   "cell_type": "markdown",
   "metadata": {},
   "source": [
    "### 7. Visualizing the Results\n",
    "\n",
    "Finally, let's create a plot to visually compare the actual changes in wait time versus the predicted changes. This gives us a more intuitive understanding of the model's performance."
   ]
  },
  {
   "cell_type": "code",
   "execution_count": null,
   "metadata": {},
   "outputs": [],
   "source": [
    "plt.style.use('seaborn-v0_8-whitegrid')\n",
    "fig, ax = plt.subplots(figsize=(15, 6))\n",
    "\n",
    "ax.plot(y_test.values, label='Actual Change in Wait Time', color='dodgerblue', linewidth=2)\n",
    "ax.plot(y_pred, label='Predicted Change in Wait Time', color='tomato', linestyle='--')\n",
    "\n",
    "ax.set_title('Actual vs. Predicted Change in Wait Time', fontsize=16)\n",
    "ax.set_xlabel('Time Steps (in test set)')\n",
    "ax.set_ylabel('Change in Wait Time (Minutes)')\n",
    "ax.legend()\n",
    "ax.grid(True)\n",
    "plt.show()"
   ]
  }
 ],
 "metadata": {
  "kernelspec": {
   "display_name": "Python 3 (ipykernel)",
   "language": "python",
   "name": "python3"
  },
  "language_info": {
   "codemirror_mode": {
    "name": "ipython",
    "version": 3
   },
   "file_extension": ".py",
   "mimetype": "text/x-python",
   "name": "python",
   "nbconvert_exporter": "python",
   "pygments_lexer": "ipython3",
   "version": "3.12.2"
  }
 },
 "nbformat": 4,
 "nbformat_minor": 4
}
