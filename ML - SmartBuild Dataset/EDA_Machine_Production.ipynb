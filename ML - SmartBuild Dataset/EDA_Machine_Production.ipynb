{
 "cells": [
  {
   "cell_type": "markdown",
   "id": "7569de8b",
   "metadata": {},
   "source": [
    "# Exploratory Data Analysis (EDA)\n",
    "\n",
    "This notebook explores and summarizes the datasets:\n",
    "- **Machine_Settings_Log_01.csv**\n",
    "- **Production_Log_01.csv**\n",
    "\n",
    "---"
   ]
  },
  {
   "cell_type": "markdown",
   "id": "8b49a841",
   "metadata": {},
   "source": [
    "## 1. Imports and Settings"
   ]
  },
  {
   "cell_type": "code",
   "execution_count": 1,
   "id": "c7f08ca8",
   "metadata": {},
   "outputs": [],
   "source": [
    "import pandas as pd\n",
    "import numpy as np\n",
    "import matplotlib.pyplot as plt\n",
    "import seaborn as sns\n",
    "\n",
    "# Plot settings\n",
    "plt.style.use('seaborn-v0_8-darkgrid')\n",
    "%matplotlib inline"
   ]
  },
  {
   "cell_type": "markdown",
   "id": "64968dc9",
   "metadata": {},
   "source": [
    "## 2. Load the Data"
   ]
  },
  {
   "cell_type": "code",
   "execution_count": 2,
   "id": "dc874c1d",
   "metadata": {},
   "outputs": [
    {
     "name": "stdout",
     "output_type": "stream",
     "text": [
      "Machine Settings shape: (10000, 3)\n",
      "Production Log shape: (10000, 20)\n"
     ]
    }
   ],
   "source": [
    "# Update path if running elsewhere\n",
    "machine = pd.read_csv('Machine_Settings_Log_01.csv')\n",
    "production = pd.read_csv('Production_Log_01.csv')\n",
    "\n",
    "print(f'Machine Settings shape: {machine.shape}')\n",
    "print(f'Production Log shape: {production.shape}')"
   ]
  },
  {
   "cell_type": "code",
   "execution_count": 6,
   "id": "83a00a97",
   "metadata": {},
   "outputs": [
    {
     "data": {
      "text/plain": [
       "(10000, 22)"
      ]
     },
     "execution_count": 6,
     "metadata": {},
     "output_type": "execute_result"
    }
   ],
   "source": [
    "merged_df = pd.merge(machine, production, on='configuration_log_ID', how='inner')\n",
    "merged_df.shape"
   ]
  },
  {
   "cell_type": "code",
   "execution_count": 5,
   "id": "41344ab2",
   "metadata": {},
   "outputs": [
    {
     "data": {
      "text/plain": [
       "(10000, 22)"
      ]
     },
     "execution_count": 5,
     "metadata": {},
     "output_type": "execute_result"
    }
   ],
   "source": [
    "merged_df_t = pd.merge(machine, production, on='configuration_log_ID', how='outer')\n",
    "merged_df_t.shape"
   ]
  },
  {
   "cell_type": "code",
   "execution_count": 13,
   "id": "6010aba3",
   "metadata": {},
   "outputs": [
    {
     "name": "stdout",
     "output_type": "stream",
     "text": [
      "<class 'pandas.core.frame.DataFrame'>\n",
      "RangeIndex: 10000 entries, 0 to 9999\n",
      "Data columns (total 22 columns):\n",
      " #   Column                Non-Null Count  Dtype  \n",
      "---  ------                --------------  -----  \n",
      " 0   configuration_log_ID  10000 non-null  int64  \n",
      " 1   gear                  10000 non-null  int64  \n",
      " 2   rotation_speed        10000 non-null  float64\n",
      " 3   id                    10000 non-null  int64  \n",
      " 4   width                 10000 non-null  float64\n",
      " 5   height                10000 non-null  float64\n",
      " 6   ionizationclass       10000 non-null  object \n",
      " 7   FluxCompensation      10000 non-null  object \n",
      " 8   pressure              10000 non-null  float64\n",
      " 9   karma                 10000 non-null  float64\n",
      " 10  modulation            10000 non-null  float64\n",
      " 11  weight_in_kg          10000 non-null  float64\n",
      " 12  weight_in_g           10000 non-null  float64\n",
      " 13  error                 10000 non-null  object \n",
      " 14  error_type            3365 non-null   object \n",
      " 15  Quality               10000 non-null  float64\n",
      " 16  reflectionScore       10000 non-null  float64\n",
      " 17  distortion            10000 non-null  float64\n",
      " 18  nicesness             10000 non-null  float64\n",
      " 19  smartness             10000 non-null  float64\n",
      " 20  multideminsionality   10000 non-null  object \n",
      " 21  roughness             10000 non-null  float64\n",
      "dtypes: float64(14), int64(3), object(5)\n",
      "memory usage: 1.7+ MB\n"
     ]
    },
    {
     "data": {
      "text/html": [
       "<div>\n",
       "<style scoped>\n",
       "    .dataframe tbody tr th:only-of-type {\n",
       "        vertical-align: middle;\n",
       "    }\n",
       "\n",
       "    .dataframe tbody tr th {\n",
       "        vertical-align: top;\n",
       "    }\n",
       "\n",
       "    .dataframe thead th {\n",
       "        text-align: right;\n",
       "    }\n",
       "</style>\n",
       "<table border=\"1\" class=\"dataframe\">\n",
       "  <thead>\n",
       "    <tr style=\"text-align: right;\">\n",
       "      <th></th>\n",
       "      <th>configuration_log_ID</th>\n",
       "      <th>gear</th>\n",
       "      <th>rotation_speed</th>\n",
       "      <th>id</th>\n",
       "      <th>width</th>\n",
       "      <th>height</th>\n",
       "      <th>ionizationclass</th>\n",
       "      <th>FluxCompensation</th>\n",
       "      <th>pressure</th>\n",
       "      <th>karma</th>\n",
       "      <th>...</th>\n",
       "      <th>weight_in_g</th>\n",
       "      <th>error</th>\n",
       "      <th>error_type</th>\n",
       "      <th>Quality</th>\n",
       "      <th>reflectionScore</th>\n",
       "      <th>distortion</th>\n",
       "      <th>nicesness</th>\n",
       "      <th>smartness</th>\n",
       "      <th>multideminsionality</th>\n",
       "      <th>roughness</th>\n",
       "    </tr>\n",
       "  </thead>\n",
       "  <tbody>\n",
       "    <tr>\n",
       "      <th>0</th>\n",
       "      <td>1</td>\n",
       "      <td>2</td>\n",
       "      <td>122.121415</td>\n",
       "      <td>1</td>\n",
       "      <td>137.419169</td>\n",
       "      <td>44.326218</td>\n",
       "      <td>C</td>\n",
       "      <td>IV</td>\n",
       "      <td>103.937207</td>\n",
       "      <td>976.538993</td>\n",
       "      <td>...</td>\n",
       "      <td>8.370683e+08</td>\n",
       "      <td>no</td>\n",
       "      <td>NaN</td>\n",
       "      <td>95.489138</td>\n",
       "      <td>703.193051</td>\n",
       "      <td>49.666361</td>\n",
       "      <td>139.496837</td>\n",
       "      <td>2964.217002</td>\n",
       "      <td>no</td>\n",
       "      <td>123.202181</td>\n",
       "    </tr>\n",
       "    <tr>\n",
       "      <th>1</th>\n",
       "      <td>2</td>\n",
       "      <td>1</td>\n",
       "      <td>111.977476</td>\n",
       "      <td>2</td>\n",
       "      <td>98.706037</td>\n",
       "      <td>41.619531</td>\n",
       "      <td>A</td>\n",
       "      <td>II</td>\n",
       "      <td>101.177877</td>\n",
       "      <td>1031.806826</td>\n",
       "      <td>...</td>\n",
       "      <td>4.355043e+08</td>\n",
       "      <td>no</td>\n",
       "      <td>NaN</td>\n",
       "      <td>98.262642</td>\n",
       "      <td>663.936149</td>\n",
       "      <td>52.826310</td>\n",
       "      <td>100.380138</td>\n",
       "      <td>2733.298369</td>\n",
       "      <td>yes</td>\n",
       "      <td>111.040858</td>\n",
       "    </tr>\n",
       "    <tr>\n",
       "      <th>2</th>\n",
       "      <td>3</td>\n",
       "      <td>1</td>\n",
       "      <td>137.268544</td>\n",
       "      <td>3</td>\n",
       "      <td>117.262568</td>\n",
       "      <td>41.421088</td>\n",
       "      <td>A</td>\n",
       "      <td>III</td>\n",
       "      <td>99.381956</td>\n",
       "      <td>840.246668</td>\n",
       "      <td>...</td>\n",
       "      <td>5.995707e+08</td>\n",
       "      <td>no</td>\n",
       "      <td>NaN</td>\n",
       "      <td>98.472489</td>\n",
       "      <td>674.814037</td>\n",
       "      <td>51.967423</td>\n",
       "      <td>115.995772</td>\n",
       "      <td>2716.279965</td>\n",
       "      <td>no</td>\n",
       "      <td>138.439571</td>\n",
       "    </tr>\n",
       "    <tr>\n",
       "      <th>3</th>\n",
       "      <td>4</td>\n",
       "      <td>2</td>\n",
       "      <td>125.719071</td>\n",
       "      <td>4</td>\n",
       "      <td>122.657252</td>\n",
       "      <td>41.202308</td>\n",
       "      <td>A</td>\n",
       "      <td>I</td>\n",
       "      <td>101.833664</td>\n",
       "      <td>964.391122</td>\n",
       "      <td>...</td>\n",
       "      <td>6.498897e+08</td>\n",
       "      <td>no</td>\n",
       "      <td>NaN</td>\n",
       "      <td>97.107023</td>\n",
       "      <td>661.281569</td>\n",
       "      <td>47.626823</td>\n",
       "      <td>121.383895</td>\n",
       "      <td>2694.883523</td>\n",
       "      <td>no</td>\n",
       "      <td>125.939831</td>\n",
       "    </tr>\n",
       "    <tr>\n",
       "      <th>4</th>\n",
       "      <td>5</td>\n",
       "      <td>1</td>\n",
       "      <td>134.710713</td>\n",
       "      <td>5</td>\n",
       "      <td>118.085366</td>\n",
       "      <td>43.418485</td>\n",
       "      <td>C</td>\n",
       "      <td>I</td>\n",
       "      <td>95.246304</td>\n",
       "      <td>859.331870</td>\n",
       "      <td>...</td>\n",
       "      <td>6.054444e+08</td>\n",
       "      <td>no</td>\n",
       "      <td>NaN</td>\n",
       "      <td>92.994235</td>\n",
       "      <td>684.026152</td>\n",
       "      <td>47.420237</td>\n",
       "      <td>118.633440</td>\n",
       "      <td>2885.260257</td>\n",
       "      <td>no</td>\n",
       "      <td>135.123613</td>\n",
       "    </tr>\n",
       "  </tbody>\n",
       "</table>\n",
       "<p>5 rows × 22 columns</p>\n",
       "</div>"
      ],
      "text/plain": [
       "   configuration_log_ID  gear  rotation_speed  id       width     height  \\\n",
       "0                     1     2      122.121415   1  137.419169  44.326218   \n",
       "1                     2     1      111.977476   2   98.706037  41.619531   \n",
       "2                     3     1      137.268544   3  117.262568  41.421088   \n",
       "3                     4     2      125.719071   4  122.657252  41.202308   \n",
       "4                     5     1      134.710713   5  118.085366  43.418485   \n",
       "\n",
       "  ionizationclass FluxCompensation    pressure        karma  ...  \\\n",
       "0               C               IV  103.937207   976.538993  ...   \n",
       "1               A               II  101.177877  1031.806826  ...   \n",
       "2               A              III   99.381956   840.246668  ...   \n",
       "3               A                I  101.833664   964.391122  ...   \n",
       "4               C                I   95.246304   859.331870  ...   \n",
       "\n",
       "    weight_in_g  error  error_type    Quality reflectionScore  distortion  \\\n",
       "0  8.370683e+08     no         NaN  95.489138      703.193051   49.666361   \n",
       "1  4.355043e+08     no         NaN  98.262642      663.936149   52.826310   \n",
       "2  5.995707e+08     no         NaN  98.472489      674.814037   51.967423   \n",
       "3  6.498897e+08     no         NaN  97.107023      661.281569   47.626823   \n",
       "4  6.054444e+08     no         NaN  92.994235      684.026152   47.420237   \n",
       "\n",
       "    nicesness    smartness  multideminsionality   roughness  \n",
       "0  139.496837  2964.217002                   no  123.202181  \n",
       "1  100.380138  2733.298369                  yes  111.040858  \n",
       "2  115.995772  2716.279965                   no  138.439571  \n",
       "3  121.383895  2694.883523                   no  125.939831  \n",
       "4  118.633440  2885.260257                   no  135.123613  \n",
       "\n",
       "[5 rows x 22 columns]"
      ]
     },
     "execution_count": 13,
     "metadata": {},
     "output_type": "execute_result"
    }
   ],
   "source": [
    "merged_df.info()\n",
    "merged_df.head()"
   ]
  }
 ],
 "metadata": {
  "kernelspec": {
   "display_name": "base",
   "language": "python",
   "name": "python3"
  },
  "language_info": {
   "codemirror_mode": {
    "name": "ipython",
    "version": 3
   },
   "file_extension": ".py",
   "mimetype": "text/x-python",
   "name": "python",
   "nbconvert_exporter": "python",
   "pygments_lexer": "ipython3",
   "version": "3.12.2"
  }
 },
 "nbformat": 4,
 "nbformat_minor": 5
}
