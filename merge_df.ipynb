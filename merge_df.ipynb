{
 "cells": [
  {
   "attachments": {},
   "cell_type": "markdown",
   "metadata": {},
   "source": [
    "## USed for merging the 15 attraction dataset containing waiting times"
   ]
  },
  {
   "cell_type": "code",
   "execution_count": null,
   "metadata": {},
   "outputs": [
    {
     "name": "stdout",
     "output_type": "stream",
     "text": [
      "Requirement already satisfied: openpyxl in c:\\users\\parth\\desktop\\hfu_furtwangen\\course documents\\c_machine learning spyder repo\\ml_presentation_workspace\\.venv\\lib\\site-packages (3.1.5)\n",
      "Requirement already satisfied: et-xmlfile in c:\\users\\parth\\desktop\\hfu_furtwangen\\course documents\\c_machine learning spyder repo\\ml_presentation_workspace\\.venv\\lib\\site-packages (from openpyxl) (2.0.0)\n"
     ]
    }
   ],
   "source": [
    "import pandas as pd\n",
    "import os\n",
    "import re\n",
    "!pip install openpyxl\n"
   ]
  },
  {
   "attachments": {},
   "cell_type": "markdown",
   "metadata": {},
   "source": [
    "### Merge files on Attraction -> output: Each excel for each attraction with cols ('Datetime', 'WaitTime', 'Month', 'Year')\n",
    "### 0Attraction open\n",
    "### -1Virtual Queue\n",
    "### -2Maintenance\n",
    "###  -3Closed due to weather\n",
    "### -4Attraction closed\n",
    "### 91over 90 minutes"
   ]
  },
  {
   "cell_type": "code",
   "execution_count": 48,
   "metadata": {},
   "outputs": [],
   "source": [
    "\n",
    "\n",
    "# Folder with the Excel files\n",
    "folder_path = 'EU_Park/europark_raw_files/'\n",
    "\n",
    "# Regex to extract attraction, month, and year from filename\n",
    "pattern = r'^(.*?) - Queue times in (\\w+) (\\d{4})\\.xlsx'\n",
    "\n",
    "# Dictionary to hold data for each attraction\n",
    "attraction_data = {}\n",
    "\n",
    "# Loop through all files in the folder\n",
    "for filename in os.listdir(folder_path):\n",
    "    if filename.endswith('.xlsx'):\n",
    "        match = re.match(pattern, filename)\n",
    "        if match:\n",
    "            attraction = match.group(1).strip()\n",
    "            month = match.group(2)\n",
    "            year = int(match.group(3))\n",
    "            file_path = os.path.join(folder_path, filename)\n",
    "\n",
    "            # Read the file\n",
    "            df = pd.read_excel(file_path)\n",
    "\n",
    "            # Add metadata\n",
    "            df['Month'] = month\n",
    "            df['Year'] = year\n",
    "\n",
    "            # Rename columns for consistency\n",
    "            df.columns = ['Datetime', 'WaitTime', 'Month', 'Year']\n",
    "\n",
    "            # Add to the attraction's list\n",
    "            if attraction not in attraction_data:\n",
    "                attraction_data[attraction] = []\n",
    "            attraction_data[attraction].append(df)\n",
    "\n"
   ]
  },
  {
   "cell_type": "code",
   "execution_count": 49,
   "metadata": {},
   "outputs": [
    {
     "data": {
      "text/plain": [
       "{'ARTHUR': [              Datetime  WaitTime  Month  Year\n",
       "  0     2022-04-01 08:15      -4.0  April  2022\n",
       "  1     2022-04-01 08:20      -4.0  April  2022\n",
       "  2     2022-04-01 08:25      -4.0  April  2022\n",
       "  3     2022-04-01 08:30      -4.0  April  2022\n",
       "  4     2022-04-01 08:35      -4.0  April  2022\n",
       "  ...                ...       ...    ...   ...\n",
       "  3941  2022-04-30 18:55      10.0  April  2022\n",
       "  3942  2022-04-30 19:00      10.0  April  2022\n",
       "  3943  2022-04-30 19:05      -4.0  April  2022\n",
       "  3944  2022-04-30 19:10      -4.0  April  2022\n",
       "  3945  2022-04-30 19:15      -4.0  April  2022\n",
       "  \n",
       "  [3946 rows x 4 columns],\n",
       "                 Datetime  WaitTime  Month  Year\n",
       "  0      2023-04-01 08:15      -4.0  April  2023\n",
       "  1      2023-04-01 08:16      -4.0  April  2023\n",
       "  2      2023-04-01 08:17      -4.0  April  2023\n",
       "  3      2023-04-01 08:18      -4.0  April  2023\n",
       "  4      2023-04-01 08:19      -4.0  April  2023\n",
       "  ...                 ...       ...    ...   ...\n",
       "  19742  2023-04-30 20:11      -4.0  April  2023\n",
       "  19743  2023-04-30 20:12      -4.0  April  2023\n",
       "  19744  2023-04-30 20:13      -4.0  April  2023\n",
       "  19745  2023-04-30 20:14      -4.0  April  2023\n",
       "  19746  2023-04-30 20:15      -4.0  April  2023\n",
       "  \n",
       "  [19747 rows x 4 columns],\n",
       "                 Datetime  WaitTime  Month  Year\n",
       "  0      2024-04-01 08:15      -4.0  April  2024\n",
       "  1      2024-04-01 08:16      -4.0  April  2024\n",
       "  2      2024-04-01 08:17      -4.0  April  2024\n",
       "  3      2024-04-01 08:18      -4.0  April  2024\n",
       "  4      2024-04-01 08:19      -4.0  April  2024\n",
       "  ...                 ...       ...    ...   ...\n",
       "  19367  2024-04-30 19:41      -4.0  April  2024\n",
       "  19368  2024-04-30 19:42      -4.0  April  2024\n",
       "  19369  2024-04-30 19:43      -4.0  April  2024\n",
       "  19370  2024-04-30 19:44      -4.0  April  2024\n",
       "  19371  2024-04-30 19:45      -4.0  April  2024\n",
       "  \n",
       "  [19372 rows x 4 columns],\n",
       "                 Datetime  WaitTime  Month  Year\n",
       "  0      2025-04-01 08:15      -4.0  April  2025\n",
       "  1      2025-04-01 08:16      -4.0  April  2025\n",
       "  2      2025-04-01 08:17      -4.0  April  2025\n",
       "  3      2025-04-01 08:18      -4.0  April  2025\n",
       "  4      2025-04-01 08:19      -4.0  April  2025\n",
       "  ...                 ...       ...    ...   ...\n",
       "  20060  2025-04-30 19:11      -4.0  April  2025\n",
       "  20061  2025-04-30 19:12      -4.0  April  2025\n",
       "  20062  2025-04-30 19:13      -4.0  April  2025\n",
       "  20063  2025-04-30 19:14      -4.0  April  2025\n",
       "  20064  2025-04-30 19:15      -4.0  April  2025\n",
       "  \n",
       "  [20065 rows x 4 columns],\n",
       "                 Datetime  WaitTime   Month  Year\n",
       "  0      2022-08-01 08:15      -4.0  August  2022\n",
       "  1      2022-08-01 08:16      -4.0  August  2022\n",
       "  2      2022-08-01 08:17      -4.0  August  2022\n",
       "  3      2022-08-01 08:18      -4.0  August  2022\n",
       "  4      2022-08-01 08:19      -4.0  August  2022\n",
       "  ...                 ...       ...     ...   ...\n",
       "  21259  2022-08-31 19:11      -4.0  August  2022\n",
       "  21260  2022-08-31 19:12      -4.0  August  2022\n",
       "  21261  2022-08-31 19:13      -4.0  August  2022\n",
       "  21262  2022-08-31 19:14      -4.0  August  2022\n",
       "  21263  2022-08-31 19:15      -4.0  August  2022\n",
       "  \n",
       "  [21264 rows x 4 columns],\n",
       "                 Datetime  WaitTime   Month  Year\n",
       "  0      2023-08-01 08:15      -4.0  August  2023\n",
       "  1      2023-08-01 08:16      -4.0  August  2023\n",
       "  2      2023-08-01 08:17      -4.0  August  2023\n",
       "  3      2023-08-01 08:18      -4.0  August  2023\n",
       "  4      2023-08-01 08:19      -4.0  August  2023\n",
       "  ...                 ...       ...     ...   ...\n",
       "  21611  2023-08-31 19:41      -4.0  August  2023\n",
       "  21612  2023-08-31 19:42      -4.0  August  2023\n",
       "  21613  2023-08-31 19:43      -4.0  August  2023\n",
       "  21614  2023-08-31 19:44      -4.0  August  2023\n",
       "  21615  2023-08-31 19:45      -4.0  August  2023\n",
       "  \n",
       "  [21616 rows x 4 columns],\n",
       "                 Datetime  WaitTime   Month  Year\n",
       "  0      2024-08-01 08:15      -4.0  August  2024\n",
       "  1      2024-08-01 08:16      -4.0  August  2024\n",
       "  2      2024-08-01 08:17      -4.0  August  2024\n",
       "  3      2024-08-01 08:18      -4.0  August  2024\n",
       "  4      2024-08-01 08:19      -4.0  August  2024\n",
       "  ...                 ...       ...     ...   ...\n",
       "  22134  2024-08-31 20:11      -4.0  August  2024\n",
       "  22135  2024-08-31 20:12      -4.0  August  2024\n",
       "  22136  2024-08-31 20:13      -4.0  August  2024\n",
       "  22137  2024-08-31 20:14      -4.0  August  2024\n",
       "  22138  2024-08-31 20:15      -4.0  August  2024\n",
       "  \n",
       "  [22139 rows x 4 columns],\n",
       "                 Datetime  WaitTime     Month  Year\n",
       "  0      2022-12-01 09:45      -4.0  December  2022\n",
       "  1      2022-12-01 09:46      -4.0  December  2022\n",
       "  2      2022-12-01 09:47      -4.0  December  2022\n",
       "  3      2022-12-01 09:48      -4.0  December  2022\n",
       "  4      2022-12-01 09:49      -4.0  December  2022\n",
       "  ...                 ...       ...       ...   ...\n",
       "  17295  2022-12-31 19:11      -4.0  December  2022\n",
       "  17296  2022-12-31 19:12      -4.0  December  2022\n",
       "  17297  2022-12-31 19:13      -4.0  December  2022\n",
       "  17298  2022-12-31 19:14      -4.0  December  2022\n",
       "  17299  2022-12-31 19:15      -4.0  December  2022\n",
       "  \n",
       "  [17300 rows x 4 columns],\n",
       "                 Datetime  WaitTime     Month  Year\n",
       "  0      2023-12-01 09:45      -4.0  December  2023\n",
       "  1      2023-12-01 09:46      -4.0  December  2023\n",
       "  2      2023-12-01 09:47      -4.0  December  2023\n",
       "  3      2023-12-01 09:48      -4.0  December  2023\n",
       "  4      2023-12-01 09:49      -4.0  December  2023\n",
       "  ...                 ...       ...       ...   ...\n",
       "  17362  2023-12-31 19:11      -4.0  December  2023\n",
       "  17363  2023-12-31 19:12      -4.0  December  2023\n",
       "  17364  2023-12-31 19:13      -4.0  December  2023\n",
       "  17365  2023-12-31 19:14      -4.0  December  2023\n",
       "  17366  2023-12-31 19:15      -4.0  December  2023\n",
       "  \n",
       "  [17367 rows x 4 columns],\n",
       "                 Datetime  WaitTime     Month  Year\n",
       "  0      2024-12-01 09:45      -4.0  December  2024\n",
       "  1      2024-12-01 09:46      -4.0  December  2024\n",
       "  2      2024-12-01 09:47      -4.0  December  2024\n",
       "  3      2024-12-01 09:48      -4.0  December  2024\n",
       "  4      2024-12-01 09:49      -4.0  December  2024\n",
       "  ...                 ...       ...       ...   ...\n",
       "  17327  2024-12-31 19:11      -4.0  December  2024\n",
       "  17328  2024-12-31 19:12      -4.0  December  2024\n",
       "  17329  2024-12-31 19:13      -4.0  December  2024\n",
       "  17330  2024-12-31 19:14      -4.0  December  2024\n",
       "  17331  2024-12-31 19:15      -4.0  December  2024\n",
       "  \n",
       "  [17332 rows x 4 columns],\n",
       "                Datetime  WaitTime    Month  Year\n",
       "  0     2023-01-01 09:45      -4.0  January  2023\n",
       "  1     2023-01-01 09:46      -4.0  January  2023\n",
       "  2     2023-01-01 09:47      -4.0  January  2023\n",
       "  3     2023-01-01 09:48      -4.0  January  2023\n",
       "  4     2023-01-01 09:49      -4.0  January  2023\n",
       "  ...                ...       ...      ...   ...\n",
       "  6556  2023-01-15 19:11      -4.0  January  2023\n",
       "  6557  2023-01-15 19:12      -4.0  January  2023\n",
       "  6558  2023-01-15 19:13      -4.0  January  2023\n",
       "  6559  2023-01-15 19:14      -4.0  January  2023\n",
       "  6560  2023-01-15 19:15      -4.0  January  2023\n",
       "  \n",
       "  [6561 rows x 4 columns],\n",
       "                Datetime  WaitTime    Month  Year\n",
       "  0     2024-01-01 09:45      -4.0  January  2024\n",
       "  1     2024-01-01 09:46      -4.0  January  2024\n",
       "  2     2024-01-01 09:47      -4.0  January  2024\n",
       "  3     2024-01-01 09:48      -4.0  January  2024\n",
       "  4     2024-01-01 09:49      -4.0  January  2024\n",
       "  ...                ...       ...      ...   ...\n",
       "  4298  2024-01-07 19:11      -4.0  January  2024\n",
       "  4299  2024-01-07 19:12      -4.0  January  2024\n",
       "  4300  2024-01-07 19:13      -4.0  January  2024\n",
       "  4301  2024-01-07 19:14      -4.0  January  2024\n",
       "  4302  2024-01-07 19:15      -4.0  January  2024\n",
       "  \n",
       "  [4303 rows x 4 columns],\n",
       "                Datetime  WaitTime    Month  Year\n",
       "  0     2025-01-01 09:45      -4.0  January  2025\n",
       "  1     2025-01-01 09:46      -4.0  January  2025\n",
       "  2     2025-01-01 09:47      -4.0  January  2025\n",
       "  3     2025-01-01 09:48      -4.0  January  2025\n",
       "  4     2025-01-01 09:49      -4.0  January  2025\n",
       "  ...                ...       ...      ...   ...\n",
       "  7278  2025-01-12 19:41      -4.0  January  2025\n",
       "  7279  2025-01-12 19:42      -4.0  January  2025\n",
       "  7280  2025-01-12 19:43      -4.0  January  2025\n",
       "  7281  2025-01-12 19:44      -4.0  January  2025\n",
       "  7282  2025-01-12 19:45      -4.0  January  2025\n",
       "  \n",
       "  [7283 rows x 4 columns],\n",
       "                 Datetime  WaitTime Month  Year\n",
       "  0      2022-07-01 08:15      -4.0  July  2022\n",
       "  1      2022-07-01 08:16      -4.0  July  2022\n",
       "  2      2022-07-01 08:17      -4.0  July  2022\n",
       "  3      2022-07-01 08:18      -4.0  July  2022\n",
       "  4      2022-07-01 08:19      -4.0  July  2022\n",
       "  ...                 ...       ...   ...   ...\n",
       "  20931  2022-07-31 19:11      -4.0  July  2022\n",
       "  20932  2022-07-31 19:12      -4.0  July  2022\n",
       "  20933  2022-07-31 19:13      -4.0  July  2022\n",
       "  20934  2022-07-31 19:14      -4.0  July  2022\n",
       "  20935  2022-07-31 19:15      -4.0  July  2022\n",
       "  \n",
       "  [20936 rows x 4 columns],\n",
       "                 Datetime  WaitTime Month  Year\n",
       "  0      2023-07-01 08:15      -4.0  July  2023\n",
       "  1      2023-07-01 08:16      -4.0  July  2023\n",
       "  2      2023-07-01 08:17      -4.0  July  2023\n",
       "  3      2023-07-01 08:18      -4.0  July  2023\n",
       "  4      2023-07-01 08:19      -4.0  July  2023\n",
       "  ...                 ...       ...   ...   ...\n",
       "  21319  2023-07-31 20:11      -4.0  July  2023\n",
       "  21320  2023-07-31 20:12      -4.0  July  2023\n",
       "  21321  2023-07-31 20:13      -4.0  July  2023\n",
       "  21322  2023-07-31 20:14      -4.0  July  2023\n",
       "  21323  2023-07-31 20:15      -4.0  July  2023\n",
       "  \n",
       "  [21324 rows x 4 columns],\n",
       "                 Datetime  WaitTime Month  Year\n",
       "  0      2024-07-01 08:15      -4.0  July  2024\n",
       "  1      2024-07-01 08:16      -4.0  July  2024\n",
       "  2      2024-07-01 08:17      -4.0  July  2024\n",
       "  3      2024-07-01 08:18      -4.0  July  2024\n",
       "  4      2024-07-01 08:19      -4.0  July  2024\n",
       "  ...                 ...       ...   ...   ...\n",
       "  21052  2024-07-31 19:41      -4.0  July  2024\n",
       "  21053  2024-07-31 19:42      -4.0  July  2024\n",
       "  21054  2024-07-31 19:43      -4.0  July  2024\n",
       "  21055  2024-07-31 19:44      -4.0  July  2024\n",
       "  21056  2024-07-31 19:45      -4.0  July  2024\n",
       "  \n",
       "  [21057 rows x 4 columns],\n",
       "                Datetime  WaitTime Month  Year\n",
       "  0     2022-06-01 08:15      -4.0  June  2022\n",
       "  1     2022-06-01 08:20      -4.0  June  2022\n",
       "  2     2022-06-01 08:25      -4.0  June  2022\n",
       "  3     2022-06-01 08:30      -4.0  June  2022\n",
       "  4     2022-06-01 08:35      -4.0  June  2022\n",
       "  ...                ...       ...   ...   ...\n",
       "  7888  2022-06-30 18:41      -4.0  June  2022\n",
       "  7889  2022-06-30 18:42      -4.0  June  2022\n",
       "  7890  2022-06-30 18:43      -4.0  June  2022\n",
       "  7891  2022-06-30 18:44      -4.0  June  2022\n",
       "  7892  2022-06-30 18:45      -4.0  June  2022\n",
       "  \n",
       "  [7893 rows x 4 columns],\n",
       "                 Datetime  WaitTime Month  Year\n",
       "  0      2023-06-01 08:15      -4.0  June  2023\n",
       "  1      2023-06-01 08:15      -4.0  June  2023\n",
       "  2      2023-06-01 08:16      -4.0  June  2023\n",
       "  3      2023-06-01 08:16      -4.0  June  2023\n",
       "  4      2023-06-01 08:17      -4.0  June  2023\n",
       "  ...                 ...       ...   ...   ...\n",
       "  19709  2023-06-30 18:41      -4.0  June  2023\n",
       "  19710  2023-06-30 18:42      -4.0  June  2023\n",
       "  19711  2023-06-30 18:43      -4.0  June  2023\n",
       "  19712  2023-06-30 18:44      -4.0  June  2023\n",
       "  19713  2023-06-30 18:45      -4.0  June  2023\n",
       "  \n",
       "  [19714 rows x 4 columns],\n",
       "                 Datetime  WaitTime Month  Year\n",
       "  0      2024-06-01 08:15      -4.0  June  2024\n",
       "  1      2024-06-01 08:16      -4.0  June  2024\n",
       "  2      2024-06-01 08:17      -4.0  June  2024\n",
       "  3      2024-06-01 08:18      -4.0  June  2024\n",
       "  4      2024-06-01 08:19      -4.0  June  2024\n",
       "  ...                 ...       ...   ...   ...\n",
       "  19407  2024-06-30 18:41      -4.0  June  2024\n",
       "  19408  2024-06-30 18:42      -4.0  June  2024\n",
       "  19409  2024-06-30 18:43      -4.0  June  2024\n",
       "  19410  2024-06-30 18:44      -4.0  June  2024\n",
       "  19411  2024-06-30 18:45      -4.0  June  2024\n",
       "  \n",
       "  [19412 rows x 4 columns],\n",
       "                Datetime  WaitTime  Month  Year\n",
       "  0     2023-03-18 08:18      -4.0  March  2023\n",
       "  1     2023-03-18 08:19      -4.0  March  2023\n",
       "  2     2023-03-18 08:20      -4.0  March  2023\n",
       "  3     2023-03-18 08:21      -4.0  March  2023\n",
       "  4     2023-03-18 08:22      -4.0  March  2023\n",
       "  ...                ...       ...    ...   ...\n",
       "  5493  2023-03-31 18:11      -4.0  March  2023\n",
       "  5494  2023-03-31 18:12      -4.0  March  2023\n",
       "  5495  2023-03-31 18:13      -4.0  March  2023\n",
       "  5496  2023-03-31 18:14      -4.0  March  2023\n",
       "  5497  2023-03-31 18:15      -4.0  March  2023\n",
       "  \n",
       "  [5498 rows x 4 columns],\n",
       "                Datetime  WaitTime  Month  Year\n",
       "  0     2024-03-16 08:15      -4.0  March  2024\n",
       "  1     2024-03-16 08:16      -4.0  March  2024\n",
       "  2     2024-03-16 08:17      -4.0  March  2024\n",
       "  3     2024-03-16 08:18      -4.0  March  2024\n",
       "  4     2024-03-16 08:19      -4.0  March  2024\n",
       "  ...                ...       ...    ...   ...\n",
       "  6958  2024-03-31 19:41      -4.0  March  2024\n",
       "  6959  2024-03-31 19:42      -4.0  March  2024\n",
       "  6960  2024-03-31 19:43      -4.0  March  2024\n",
       "  6961  2024-03-31 19:44      -4.0  March  2024\n",
       "  6962  2024-03-31 19:45      -4.0  March  2024\n",
       "  \n",
       "  [6963 rows x 4 columns],\n",
       "                Datetime  WaitTime  Month  Year\n",
       "  0     2025-03-15 08:15      -4.0  March  2025\n",
       "  1     2025-03-15 08:16      -4.0  March  2025\n",
       "  2     2025-03-15 08:17      -4.0  March  2025\n",
       "  3     2025-03-15 08:18      -4.0  March  2025\n",
       "  4     2025-03-15 08:19      -4.0  March  2025\n",
       "  ...                ...       ...    ...   ...\n",
       "  7622  2025-03-31 18:11      -4.0  March  2025\n",
       "  7623  2025-03-31 18:12      -4.0  March  2025\n",
       "  7624  2025-03-31 18:13      -4.0  March  2025\n",
       "  7625  2025-03-31 18:14      -4.0  March  2025\n",
       "  7626  2025-03-31 18:15      -4.0  March  2025\n",
       "  \n",
       "  [7627 rows x 4 columns],\n",
       "                Datetime  WaitTime Month  Year\n",
       "  0     2022-05-01 08:15      -4.0   May  2022\n",
       "  1     2022-05-01 08:20      -4.0   May  2022\n",
       "  2     2022-05-01 08:25      -4.0   May  2022\n",
       "  3     2022-05-01 08:30      -4.0   May  2022\n",
       "  4     2022-05-01 08:35      -4.0   May  2022\n",
       "  ...                ...       ...   ...   ...\n",
       "  3971  2022-05-31 17:55      15.0   May  2022\n",
       "  3972  2022-05-31 18:00      15.0   May  2022\n",
       "  3973  2022-05-31 18:05      -4.0   May  2022\n",
       "  3974  2022-05-31 18:10      -4.0   May  2022\n",
       "  3975  2022-05-31 18:15      -4.0   May  2022\n",
       "  \n",
       "  [3976 rows x 4 columns],\n",
       "                 Datetime  WaitTime Month  Year\n",
       "  0      2023-05-01 08:15      -4.0   May  2023\n",
       "  1      2023-05-01 08:16      -4.0   May  2023\n",
       "  2      2023-05-01 08:17      -4.0   May  2023\n",
       "  3      2023-05-01 08:18      -4.0   May  2023\n",
       "  4      2023-05-01 08:19      -4.0   May  2023\n",
       "  ...                 ...       ...   ...   ...\n",
       "  20193  2023-05-31 19:11      -4.0   May  2023\n",
       "  20194  2023-05-31 19:12      -4.0   May  2023\n",
       "  20195  2023-05-31 19:13      -4.0   May  2023\n",
       "  20196  2023-05-31 19:14      -4.0   May  2023\n",
       "  20197  2023-05-31 19:15      -4.0   May  2023\n",
       "  \n",
       "  [20198 rows x 4 columns],\n",
       "                 Datetime  WaitTime Month  Year\n",
       "  0      2024-05-01 08:15      -4.0   May  2024\n",
       "  1      2024-05-01 08:16      -4.0   May  2024\n",
       "  2      2024-05-01 08:17      -4.0   May  2024\n",
       "  3      2024-05-01 08:18      -4.0   May  2024\n",
       "  4      2024-05-01 08:19      -4.0   May  2024\n",
       "  ...                 ...       ...   ...   ...\n",
       "  20464  2024-05-31 19:11      -4.0   May  2024\n",
       "  20465  2024-05-31 19:12      -4.0   May  2024\n",
       "  20466  2024-05-31 19:13      -4.0   May  2024\n",
       "  20467  2024-05-31 19:14      -4.0   May  2024\n",
       "  20468  2024-05-31 19:15      -4.0   May  2024\n",
       "  \n",
       "  [20469 rows x 4 columns],\n",
       "                 Datetime  WaitTime     Month  Year\n",
       "  0      2022-11-01 08:15      -4.0  November  2022\n",
       "  1      2022-11-01 08:16      -4.0  November  2022\n",
       "  2      2022-11-01 08:17      -4.0  November  2022\n",
       "  3      2022-11-01 08:18      -4.0  November  2022\n",
       "  4      2022-11-01 08:19      -4.0  November  2022\n",
       "  ...                 ...       ...       ...   ...\n",
       "  18139  2022-11-30 19:12      -4.0  November  2022\n",
       "  18140  2022-11-30 19:13      -4.0  November  2022\n",
       "  18141  2022-11-30 19:14      -4.0  November  2022\n",
       "  18142  2022-11-30 19:15      -4.0  November  2022\n",
       "  18143  2022-11-30 19:16      -4.0  November  2022\n",
       "  \n",
       "  [18144 rows x 4 columns],\n",
       "                 Datetime  WaitTime     Month  Year\n",
       "  0      2023-11-01 08:15      -4.0  November  2023\n",
       "  1      2023-11-01 08:16      -4.0  November  2023\n",
       "  2      2023-11-01 08:17      -4.0  November  2023\n",
       "  3      2023-11-01 08:18      -4.0  November  2023\n",
       "  4      2023-11-01 08:19      -4.0  November  2023\n",
       "  ...                 ...       ...       ...   ...\n",
       "  17929  2023-11-30 19:11      -4.0  November  2023\n",
       "  17930  2023-11-30 19:12      -4.0  November  2023\n",
       "  17931  2023-11-30 19:13      -4.0  November  2023\n",
       "  17932  2023-11-30 19:14      -4.0  November  2023\n",
       "  17933  2023-11-30 19:15      -4.0  November  2023\n",
       "  \n",
       "  [17934 rows x 4 columns],\n",
       "                 Datetime  WaitTime     Month  Year\n",
       "  0      2024-11-01 08:15      -4.0  November  2024\n",
       "  1      2024-11-01 08:16      -4.0  November  2024\n",
       "  2      2024-11-01 08:17      -4.0  November  2024\n",
       "  3      2024-11-01 08:18      -4.0  November  2024\n",
       "  4      2024-11-01 08:19      -4.0  November  2024\n",
       "  ...                 ...       ...       ...   ...\n",
       "  17748  2024-11-30 19:41      -4.0  November  2024\n",
       "  17749  2024-11-30 19:42      -4.0  November  2024\n",
       "  17750  2024-11-30 19:43      -4.0  November  2024\n",
       "  17751  2024-11-30 19:44      -4.0  November  2024\n",
       "  17752  2024-11-30 19:45      -4.0  November  2024\n",
       "  \n",
       "  [17753 rows x 4 columns],\n",
       "                 Datetime  WaitTime    Month  Year\n",
       "  0      2022-10-01 08:15      -4.0  October  2022\n",
       "  1      2022-10-01 08:16      -4.0  October  2022\n",
       "  2      2022-10-01 08:17      -4.0  October  2022\n",
       "  3      2022-10-01 08:18      -4.0  October  2022\n",
       "  4      2022-10-01 08:19      -4.0  October  2022\n",
       "  ...                 ...       ...      ...   ...\n",
       "  20682  2022-10-31 20:11      -4.0  October  2022\n",
       "  20683  2022-10-31 20:12      -4.0  October  2022\n",
       "  20684  2022-10-31 20:13      -4.0  October  2022\n",
       "  20685  2022-10-31 20:14      -4.0  October  2022\n",
       "  20686  2022-10-31 20:15      -4.0  October  2022\n",
       "  \n",
       "  [20687 rows x 4 columns],\n",
       "                 Datetime  WaitTime    Month  Year\n",
       "  0      2023-10-01 08:15      -4.0  October  2023\n",
       "  1      2023-10-01 08:16      -4.0  October  2023\n",
       "  2      2023-10-01 08:17      -4.0  October  2023\n",
       "  3      2023-10-01 08:18      -4.0  October  2023\n",
       "  4      2023-10-01 08:19      -4.0  October  2023\n",
       "  ...                 ...       ...      ...   ...\n",
       "  21280  2023-10-31 20:11      -4.0  October  2023\n",
       "  21281  2023-10-31 20:12      -4.0  October  2023\n",
       "  21282  2023-10-31 20:13      -4.0  October  2023\n",
       "  21283  2023-10-31 20:14      -4.0  October  2023\n",
       "  21284  2023-10-31 20:15      -4.0  October  2023\n",
       "  \n",
       "  [21285 rows x 4 columns],\n",
       "                 Datetime  WaitTime    Month  Year\n",
       "  0      2024-10-01 08:15      -4.0  October  2024\n",
       "  1      2024-10-01 08:16      -4.0  October  2024\n",
       "  2      2024-10-01 08:17      -4.0  October  2024\n",
       "  3      2024-10-01 08:18      -4.0  October  2024\n",
       "  4      2024-10-01 08:19      -4.0  October  2024\n",
       "  ...                 ...       ...      ...   ...\n",
       "  21236  2024-10-31 20:11      -4.0  October  2024\n",
       "  21237  2024-10-31 20:12      -4.0  October  2024\n",
       "  21238  2024-10-31 20:13      -4.0  October  2024\n",
       "  21239  2024-10-31 20:14      -4.0  October  2024\n",
       "  21240  2024-10-31 20:15      -4.0  October  2024\n",
       "  \n",
       "  [21241 rows x 4 columns],\n",
       "                 Datetime  WaitTime      Month  Year\n",
       "  0      2022-09-01 08:15      -4.0  September  2022\n",
       "  1      2022-09-01 08:16      -4.0  September  2022\n",
       "  2      2022-09-01 08:17      -4.0  September  2022\n",
       "  3      2022-09-01 08:18      -4.0  September  2022\n",
       "  4      2022-09-01 08:19      -4.0  September  2022\n",
       "  ...                 ...       ...        ...   ...\n",
       "  19033  2022-09-30 18:11      -4.0  September  2022\n",
       "  19034  2022-09-30 18:12      -4.0  September  2022\n",
       "  19035  2022-09-30 18:13      -4.0  September  2022\n",
       "  19036  2022-09-30 18:14      -4.0  September  2022\n",
       "  19037  2022-09-30 18:15      -4.0  September  2022\n",
       "  \n",
       "  [19038 rows x 4 columns],\n",
       "                 Datetime  WaitTime      Month  Year\n",
       "  0      2023-09-01 08:15      -4.0  September  2023\n",
       "  1      2023-09-01 08:16      -4.0  September  2023\n",
       "  2      2023-09-01 08:17      -4.0  September  2023\n",
       "  3      2023-09-01 08:18      -4.0  September  2023\n",
       "  4      2023-09-01 08:19      -4.0  September  2023\n",
       "  ...                 ...       ...        ...   ...\n",
       "  19498  2023-09-30 20:11      -4.0  September  2023\n",
       "  19499  2023-09-30 20:12      -4.0  September  2023\n",
       "  19500  2023-09-30 20:13      -4.0  September  2023\n",
       "  19501  2023-09-30 20:14      -4.0  September  2023\n",
       "  19502  2023-09-30 20:15      -4.0  September  2023\n",
       "  \n",
       "  [19503 rows x 4 columns],\n",
       "                 Datetime  WaitTime      Month  Year\n",
       "  0      2024-09-01 08:15      -4.0  September  2024\n",
       "  1      2024-09-01 08:16      -4.0  September  2024\n",
       "  2      2024-09-01 08:17      -4.0  September  2024\n",
       "  3      2024-09-01 08:18      -4.0  September  2024\n",
       "  4      2024-09-01 08:19      -4.0  September  2024\n",
       "  ...                 ...       ...        ...   ...\n",
       "  19763  2024-09-30 18:41      -4.0  September  2024\n",
       "  19764  2024-09-30 18:42      -4.0  September  2024\n",
       "  19765  2024-09-30 18:43      -4.0  September  2024\n",
       "  19766  2024-09-30 18:44      -4.0  September  2024\n",
       "  19767  2024-09-30 18:45      -4.0  September  2024\n",
       "  \n",
       "  [19768 rows x 4 columns]]}"
      ]
     },
     "execution_count": 49,
     "metadata": {},
     "output_type": "execute_result"
    }
   ],
   "source": [
    "attraction_data"
   ]
  },
  {
   "cell_type": "code",
   "execution_count": 50,
   "metadata": {},
   "outputs": [
    {
     "name": "stdout",
     "output_type": "stream",
     "text": [
      "✅ Saved merged file for: ARTHUR -> EU_Park/europark_attraction_merged_dfs/ARTHUR - All Queue Times.xlsx\n"
     ]
    }
   ],
   "source": [
    "# For each attraction, combine all months and save one Excel file\n",
    "safe_attraction_name_list = []\n",
    "save_path = 'EU_Park/europark_attraction_merged_dfs/'\n",
    "for attraction, dfs in attraction_data.items():\n",
    "    combined_df = pd.concat(dfs, ignore_index=True)\n",
    "\n",
    "    # Drop rows where Datetime is missing\n",
    "    combined_df = combined_df.dropna(subset=['Datetime'])\n",
    "\n",
    "    # Split Datetime into Date and Time using string operations\n",
    "    combined_df[['Date', 'Time']] = combined_df['Datetime'].astype(str).str.strip().str.split(' ', expand=True)\n",
    "    safe_attraction_name = attraction.replace('-', ' ')  # avoid file path issues # Create the output file path\n",
    "    fil_safe_attraction_name = safe_attraction_name.replace(' ','_')\n",
    "    safe_attraction_name_list.append(fil_safe_attraction_name)\n",
    "    # print(safe_attraction_name_list)\n",
    "    output_file = os.path.join(save_path, f\"{fil_safe_attraction_name} - All Queue Times.xlsx\")\n",
    "    combined_df.to_excel(output_file, index=False)\n",
    "    print(f\"✅ Saved merged file for: {attraction} -> {output_file}\")"
   ]
  },
  {
   "attachments": {},
   "cell_type": "markdown",
   "metadata": {},
   "source": [
    "### Merge All attractions in one single excel file"
   ]
  },
  {
   "cell_type": "code",
   "execution_count": 51,
   "metadata": {},
   "outputs": [
    {
     "name": "stdout",
     "output_type": "stream",
     "text": [
      "['ARTHUR - All Queue Times.xlsx']\n"
     ]
    }
   ],
   "source": [
    "# Folder where individual attraction Excel files are stored\n",
    "folder_path = 'EU_Park/europark_attraction_merged_dfs/'\n",
    "\n",
    "# Get list of merged attraction files\n",
    "files = [f for f in os.listdir(folder_path) if f.endswith('All Queue Times.xlsx')]\n",
    "print(files)"
   ]
  },
  {
   "cell_type": "code",
   "execution_count": 52,
   "metadata": {},
   "outputs": [],
   "source": [
    "merged_df = None"
   ]
  },
  {
   "cell_type": "code",
   "execution_count": 53,
   "metadata": {},
   "outputs": [
    {
     "name": "stdout",
     "output_type": "stream",
     "text": [
      "✅ Final merged file saved to: EU_Park/europark_attraction_merged_dfs/All_Attractions_Queue_Times_By_Date_Time.csv\n"
     ]
    }
   ],
   "source": [
    "for file in files:\n",
    "    # Full path to the Excel file\n",
    "    file_path = os.path.join(folder_path, file)\n",
    "\n",
    "    # Extract attraction name from filename\n",
    "    attraction = file.replace(' - All Queue Times.xlsx', '').strip()\n",
    "\n",
    "    # Read file\n",
    "    df = pd.read_excel(file_path)\n",
    "    df = df.drop(columns=['Datetime'], errors='ignore')\n",
    "    df.rename(columns={'WaitTime': f'{attraction}_WaitTime'}, inplace=True)\n",
    "\n",
    "    # Merge using pandas only\n",
    "    if merged_df is None:\n",
    "        merged_df = df\n",
    "    else:\n",
    "        merged_df = pd.merge(merged_df, df, on=['Date', 'Time', 'Month', 'Year'], how='outer')\n",
    "\n",
    "merged_df = merged_df.sort_values(by=['Date', 'Time'])\n",
    "\n",
    "output_file = os.path.join(folder_path, 'All_Attractions_Queue_Times_By_Date_Time.csv')\n",
    "merged_df.to_csv(output_file, index=False)\n",
    "\n",
    "print(f\"✅ Final merged file saved to: {output_file}\")"
   ]
  },
  {
   "cell_type": "code",
   "execution_count": 55,
   "metadata": {},
   "outputs": [],
   "source": [
    "merged_df_dt = pd.read_csv(\"EU_PARK\\europark_attraction_merged_dfs\\All_Attractions_Queue_Times_By_Date_Time.csv\",index_col=False)"
   ]
  },
  {
   "cell_type": "code",
   "execution_count": 56,
   "metadata": {},
   "outputs": [
    {
     "data": {
      "text/html": [
       "<div>\n",
       "<style scoped>\n",
       "    .dataframe tbody tr th:only-of-type {\n",
       "        vertical-align: middle;\n",
       "    }\n",
       "\n",
       "    .dataframe tbody tr th {\n",
       "        vertical-align: top;\n",
       "    }\n",
       "\n",
       "    .dataframe thead th {\n",
       "        text-align: right;\n",
       "    }\n",
       "</style>\n",
       "<table border=\"1\" class=\"dataframe\">\n",
       "  <thead>\n",
       "    <tr style=\"text-align: right;\">\n",
       "      <th></th>\n",
       "      <th>ARTHUR_WaitTime</th>\n",
       "      <th>Month</th>\n",
       "      <th>Year</th>\n",
       "      <th>Date</th>\n",
       "      <th>Time</th>\n",
       "    </tr>\n",
       "  </thead>\n",
       "  <tbody>\n",
       "    <tr>\n",
       "      <th>0</th>\n",
       "      <td>-4.0</td>\n",
       "      <td>April</td>\n",
       "      <td>2022</td>\n",
       "      <td>2022-04-01</td>\n",
       "      <td>08:15</td>\n",
       "    </tr>\n",
       "    <tr>\n",
       "      <th>1</th>\n",
       "      <td>-4.0</td>\n",
       "      <td>April</td>\n",
       "      <td>2022</td>\n",
       "      <td>2022-04-01</td>\n",
       "      <td>08:20</td>\n",
       "    </tr>\n",
       "    <tr>\n",
       "      <th>2</th>\n",
       "      <td>-4.0</td>\n",
       "      <td>April</td>\n",
       "      <td>2022</td>\n",
       "      <td>2022-04-01</td>\n",
       "      <td>08:25</td>\n",
       "    </tr>\n",
       "    <tr>\n",
       "      <th>3</th>\n",
       "      <td>-4.0</td>\n",
       "      <td>April</td>\n",
       "      <td>2022</td>\n",
       "      <td>2022-04-01</td>\n",
       "      <td>08:30</td>\n",
       "    </tr>\n",
       "    <tr>\n",
       "      <th>4</th>\n",
       "      <td>-4.0</td>\n",
       "      <td>April</td>\n",
       "      <td>2022</td>\n",
       "      <td>2022-04-01</td>\n",
       "      <td>08:35</td>\n",
       "    </tr>\n",
       "    <tr>\n",
       "      <th>...</th>\n",
       "      <td>...</td>\n",
       "      <td>...</td>\n",
       "      <td>...</td>\n",
       "      <td>...</td>\n",
       "      <td>...</td>\n",
       "    </tr>\n",
       "    <tr>\n",
       "      <th>548707</th>\n",
       "      <td>-4.0</td>\n",
       "      <td>April</td>\n",
       "      <td>2025</td>\n",
       "      <td>2025-04-30</td>\n",
       "      <td>19:11</td>\n",
       "    </tr>\n",
       "    <tr>\n",
       "      <th>548708</th>\n",
       "      <td>-4.0</td>\n",
       "      <td>April</td>\n",
       "      <td>2025</td>\n",
       "      <td>2025-04-30</td>\n",
       "      <td>19:12</td>\n",
       "    </tr>\n",
       "    <tr>\n",
       "      <th>548709</th>\n",
       "      <td>-4.0</td>\n",
       "      <td>April</td>\n",
       "      <td>2025</td>\n",
       "      <td>2025-04-30</td>\n",
       "      <td>19:13</td>\n",
       "    </tr>\n",
       "    <tr>\n",
       "      <th>548710</th>\n",
       "      <td>-4.0</td>\n",
       "      <td>April</td>\n",
       "      <td>2025</td>\n",
       "      <td>2025-04-30</td>\n",
       "      <td>19:14</td>\n",
       "    </tr>\n",
       "    <tr>\n",
       "      <th>548711</th>\n",
       "      <td>-4.0</td>\n",
       "      <td>April</td>\n",
       "      <td>2025</td>\n",
       "      <td>2025-04-30</td>\n",
       "      <td>19:15</td>\n",
       "    </tr>\n",
       "  </tbody>\n",
       "</table>\n",
       "<p>547261 rows × 5 columns</p>\n",
       "</div>"
      ],
      "text/plain": [
       "        ARTHUR_WaitTime  Month  Year        Date   Time\n",
       "0                  -4.0  April  2022  2022-04-01  08:15\n",
       "1                  -4.0  April  2022  2022-04-01  08:20\n",
       "2                  -4.0  April  2022  2022-04-01  08:25\n",
       "3                  -4.0  April  2022  2022-04-01  08:30\n",
       "4                  -4.0  April  2022  2022-04-01  08:35\n",
       "...                 ...    ...   ...         ...    ...\n",
       "548707             -4.0  April  2025  2025-04-30  19:11\n",
       "548708             -4.0  April  2025  2025-04-30  19:12\n",
       "548709             -4.0  April  2025  2025-04-30  19:13\n",
       "548710             -4.0  April  2025  2025-04-30  19:14\n",
       "548711             -4.0  April  2025  2025-04-30  19:15\n",
       "\n",
       "[547261 rows x 5 columns]"
      ]
     },
     "execution_count": 56,
     "metadata": {},
     "output_type": "execute_result"
    }
   ],
   "source": [
    "merged_df_dt.dropna()"
   ]
  },
  {
   "cell_type": "code",
   "execution_count": 57,
   "metadata": {},
   "outputs": [
    {
     "name": "stdout",
     "output_type": "stream",
     "text": [
      "<class 'pandas.core.frame.DataFrame'>\n",
      "RangeIndex: 548715 entries, 0 to 548714\n",
      "Data columns (total 5 columns):\n",
      " #   Column           Non-Null Count   Dtype  \n",
      "---  ------           --------------   -----  \n",
      " 0   ARTHUR_WaitTime  547261 non-null  float64\n",
      " 1   Month            548715 non-null  object \n",
      " 2   Year             548715 non-null  int64  \n",
      " 3   Date             548715 non-null  object \n",
      " 4   Time             547261 non-null  object \n",
      "dtypes: float64(1), int64(1), object(3)\n",
      "memory usage: 20.9+ MB\n"
     ]
    }
   ],
   "source": [
    "merged_df_dt.info()"
   ]
  },
  {
   "cell_type": "code",
   "execution_count": 58,
   "metadata": {},
   "outputs": [
    {
     "data": {
      "text/plain": [
       "ARTHUR_WaitTime    1454\n",
       "Month                 0\n",
       "Year                  0\n",
       "Date                  0\n",
       "Time               1454\n",
       "dtype: int64"
      ]
     },
     "execution_count": 58,
     "metadata": {},
     "output_type": "execute_result"
    }
   ],
   "source": [
    "merged_df_dt.isna().sum()"
   ]
  },
  {
   "cell_type": "code",
   "execution_count": 59,
   "metadata": {},
   "outputs": [],
   "source": [
    "merged_df_dt = merged_df_dt.dropna(subset=['Time'])"
   ]
  },
  {
   "cell_type": "code",
   "execution_count": 60,
   "metadata": {},
   "outputs": [
    {
     "name": "stdout",
     "output_type": "stream",
     "text": [
      "                 Missing Count  Missing %\n",
      "ARTHUR_WaitTime              0        0.0\n",
      "Month                        0        0.0\n",
      "Year                         0        0.0\n",
      "Date                         0        0.0\n",
      "Time                         0        0.0\n"
     ]
    }
   ],
   "source": [
    "def report_missing_values(df):\n",
    "    total_rows = len(df)\n",
    "    missing_count = df.isna().sum()\n",
    "    missing_percent = (missing_count / total_rows) * 100\n",
    "\n",
    "    result = pd.DataFrame({\n",
    "        'Missing Count': missing_count,\n",
    "        'Missing %': missing_percent.round(2)\n",
    "    })\n",
    "    result = result.sort_values(by='Missing %', ascending=False)\n",
    "\n",
    "    print(result)  # Only show columns with missing values\n",
    "\n",
    "report_missing_values(merged_df_dt)"
   ]
  },
  {
   "cell_type": "code",
   "execution_count": null,
   "metadata": {},
   "outputs": [],
   "source": [
    "#merged_df_dt.to_csv(\"EU_PARK/All_Attractions_Queue_Times_By_Date_Time.csv\")"
   ]
  },
  {
   "attachments": {},
   "cell_type": "markdown",
   "metadata": {},
   "source": [
    "### Merge wind data files to one excel files contating wind data"
   ]
  },
  {
   "cell_type": "code",
   "execution_count": 61,
   "metadata": {},
   "outputs": [],
   "source": [
    "def merge_fn_wind_prec_temp(df_path,df_type):\n",
    "    \"\"\"\n",
    "    Parameters:\n",
    "        df_path (str): Path to folder containing Excel files.\n",
    "        data_type (str): Type of data ('wind', 'prec', 'temp', etc.)\n",
    "        \n",
    "    Returns:\n",
    "        pd.DataFrame: Combined dataframe with Month and Year columns.\n",
    "    \"\"\"\n",
    "    files = [f for f in os.listdir(df_path) if f.endswith('.xlsx')]\n",
    "    data_final = []\n",
    "    for file in files:\n",
    "        file_path = os.path.join(df_path, file)\n",
    "\n",
    "        # Extract month and year from filename: 'Wind speed in March 2024.xlsx'\n",
    "        if df_type == 'wind':\n",
    "            name_parts = file.replace('.xlsx', '').replace('Wind speed in ', '').strip().split()\n",
    "        elif df_type == 'prec':\n",
    "            name_parts = file.replace('.xlsx', '').replace('Precipitation probability in ', '').strip().split()\n",
    "        elif df_type == 'temp':\n",
    "            name_parts = file.replace('.xlsx', '').replace('Temperatures in ', '').strip().split()\n",
    "        else:\n",
    "            raise ValueError(f\"Unknown data_type: {df_type}\")\n",
    "        month = name_parts[0]\n",
    "        year = name_parts[1]\n",
    "\n",
    "        # Read the file\n",
    "        df = pd.read_excel(file_path)\n",
    "\n",
    "        # Add Month and Year columns\n",
    "        df['Month'] = month\n",
    "        df['Year'] = int(year)\n",
    "        data_final.append(df)\n",
    "\n",
    "    # Combine all dataframes into one\n",
    "    wind_df = pd.concat(data_final, ignore_index=True)\n",
    "    wind_df[['Date', 'Time']] = wind_df['date_time'].astype(str).str.strip().str.split(' ', expand=True)\n",
    "    wind_df = wind_df.drop(columns=['date_time'])\n",
    "\n",
    "    return wind_df\n"
   ]
  },
  {
   "cell_type": "code",
   "execution_count": 62,
   "metadata": {},
   "outputs": [],
   "source": [
    "wind_loc = 'EU_PARK/wind_speed/'\n",
    "final_wind_df = merge_fn_wind_prec_temp(wind_loc,df_type='wind')"
   ]
  },
  {
   "cell_type": "code",
   "execution_count": 63,
   "metadata": {},
   "outputs": [
    {
     "data": {
      "text/plain": [
       "(464598, 5)"
      ]
     },
     "execution_count": 63,
     "metadata": {},
     "output_type": "execute_result"
    }
   ],
   "source": [
    "final_wind_df.shape"
   ]
  },
  {
   "cell_type": "code",
   "execution_count": 64,
   "metadata": {},
   "outputs": [
    {
     "data": {
      "text/html": [
       "<div>\n",
       "<style scoped>\n",
       "    .dataframe tbody tr th:only-of-type {\n",
       "        vertical-align: middle;\n",
       "    }\n",
       "\n",
       "    .dataframe tbody tr th {\n",
       "        vertical-align: top;\n",
       "    }\n",
       "\n",
       "    .dataframe thead th {\n",
       "        text-align: right;\n",
       "    }\n",
       "</style>\n",
       "<table border=\"1\" class=\"dataframe\">\n",
       "  <thead>\n",
       "    <tr style=\"text-align: right;\">\n",
       "      <th></th>\n",
       "      <th>wind_speed_in_kmh</th>\n",
       "      <th>Month</th>\n",
       "      <th>Year</th>\n",
       "      <th>Date</th>\n",
       "      <th>Time</th>\n",
       "    </tr>\n",
       "  </thead>\n",
       "  <tbody>\n",
       "    <tr>\n",
       "      <th>0</th>\n",
       "      <td>25.0</td>\n",
       "      <td>April</td>\n",
       "      <td>2023</td>\n",
       "      <td>2023-04-01</td>\n",
       "      <td>08:15</td>\n",
       "    </tr>\n",
       "    <tr>\n",
       "      <th>1</th>\n",
       "      <td>25.0</td>\n",
       "      <td>April</td>\n",
       "      <td>2023</td>\n",
       "      <td>2023-04-01</td>\n",
       "      <td>08:16</td>\n",
       "    </tr>\n",
       "    <tr>\n",
       "      <th>2</th>\n",
       "      <td>25.0</td>\n",
       "      <td>April</td>\n",
       "      <td>2023</td>\n",
       "      <td>2023-04-01</td>\n",
       "      <td>08:17</td>\n",
       "    </tr>\n",
       "    <tr>\n",
       "      <th>3</th>\n",
       "      <td>25.0</td>\n",
       "      <td>April</td>\n",
       "      <td>2023</td>\n",
       "      <td>2023-04-01</td>\n",
       "      <td>08:18</td>\n",
       "    </tr>\n",
       "    <tr>\n",
       "      <th>4</th>\n",
       "      <td>25.0</td>\n",
       "      <td>April</td>\n",
       "      <td>2023</td>\n",
       "      <td>2023-04-01</td>\n",
       "      <td>08:19</td>\n",
       "    </tr>\n",
       "  </tbody>\n",
       "</table>\n",
       "</div>"
      ],
      "text/plain": [
       "   wind_speed_in_kmh  Month  Year        Date   Time\n",
       "0               25.0  April  2023  2023-04-01  08:15\n",
       "1               25.0  April  2023  2023-04-01  08:16\n",
       "2               25.0  April  2023  2023-04-01  08:17\n",
       "3               25.0  April  2023  2023-04-01  08:18\n",
       "4               25.0  April  2023  2023-04-01  08:19"
      ]
     },
     "execution_count": 64,
     "metadata": {},
     "output_type": "execute_result"
    }
   ],
   "source": [
    "final_wind_df.head()"
   ]
  },
  {
   "cell_type": "code",
   "execution_count": 65,
   "metadata": {},
   "outputs": [
    {
     "name": "stdout",
     "output_type": "stream",
     "text": [
      "                   Missing Count  Missing %\n",
      "wind_speed_in_kmh            836       0.18\n",
      "Time                         836       0.18\n",
      "Month                          0       0.00\n",
      "Year                           0       0.00\n",
      "Date                           0       0.00\n"
     ]
    }
   ],
   "source": [
    "report_missing_values(final_wind_df)"
   ]
  },
  {
   "attachments": {},
   "cell_type": "markdown",
   "metadata": {},
   "source": [
    "### Merge Precipitation data files to one excel files contating Precipitation data"
   ]
  },
  {
   "cell_type": "code",
   "execution_count": 66,
   "metadata": {},
   "outputs": [],
   "source": [
    "precipitation_loc = 'EU_PARK/precipitation/'\n",
    "final_prec_df = merge_fn_wind_prec_temp(precipitation_loc,df_type='prec')\n"
   ]
  },
  {
   "cell_type": "code",
   "execution_count": 67,
   "metadata": {},
   "outputs": [
    {
     "data": {
      "text/plain": [
       "(464598, 5)"
      ]
     },
     "execution_count": 67,
     "metadata": {},
     "output_type": "execute_result"
    }
   ],
   "source": [
    "final_prec_df.shape"
   ]
  },
  {
   "cell_type": "code",
   "execution_count": 68,
   "metadata": {},
   "outputs": [
    {
     "data": {
      "text/html": [
       "<div>\n",
       "<style scoped>\n",
       "    .dataframe tbody tr th:only-of-type {\n",
       "        vertical-align: middle;\n",
       "    }\n",
       "\n",
       "    .dataframe tbody tr th {\n",
       "        vertical-align: top;\n",
       "    }\n",
       "\n",
       "    .dataframe thead th {\n",
       "        text-align: right;\n",
       "    }\n",
       "</style>\n",
       "<table border=\"1\" class=\"dataframe\">\n",
       "  <thead>\n",
       "    <tr style=\"text-align: right;\">\n",
       "      <th></th>\n",
       "      <th>precipitation_in_percent</th>\n",
       "      <th>Month</th>\n",
       "      <th>Year</th>\n",
       "      <th>Date</th>\n",
       "      <th>Time</th>\n",
       "    </tr>\n",
       "  </thead>\n",
       "  <tbody>\n",
       "    <tr>\n",
       "      <th>0</th>\n",
       "      <td>30.0</td>\n",
       "      <td>April</td>\n",
       "      <td>2023</td>\n",
       "      <td>2023-04-01</td>\n",
       "      <td>08:15</td>\n",
       "    </tr>\n",
       "    <tr>\n",
       "      <th>1</th>\n",
       "      <td>30.0</td>\n",
       "      <td>April</td>\n",
       "      <td>2023</td>\n",
       "      <td>2023-04-01</td>\n",
       "      <td>08:16</td>\n",
       "    </tr>\n",
       "    <tr>\n",
       "      <th>2</th>\n",
       "      <td>30.0</td>\n",
       "      <td>April</td>\n",
       "      <td>2023</td>\n",
       "      <td>2023-04-01</td>\n",
       "      <td>08:17</td>\n",
       "    </tr>\n",
       "    <tr>\n",
       "      <th>3</th>\n",
       "      <td>30.0</td>\n",
       "      <td>April</td>\n",
       "      <td>2023</td>\n",
       "      <td>2023-04-01</td>\n",
       "      <td>08:18</td>\n",
       "    </tr>\n",
       "    <tr>\n",
       "      <th>4</th>\n",
       "      <td>30.0</td>\n",
       "      <td>April</td>\n",
       "      <td>2023</td>\n",
       "      <td>2023-04-01</td>\n",
       "      <td>08:19</td>\n",
       "    </tr>\n",
       "  </tbody>\n",
       "</table>\n",
       "</div>"
      ],
      "text/plain": [
       "   precipitation_in_percent  Month  Year        Date   Time\n",
       "0                      30.0  April  2023  2023-04-01  08:15\n",
       "1                      30.0  April  2023  2023-04-01  08:16\n",
       "2                      30.0  April  2023  2023-04-01  08:17\n",
       "3                      30.0  April  2023  2023-04-01  08:18\n",
       "4                      30.0  April  2023  2023-04-01  08:19"
      ]
     },
     "execution_count": 68,
     "metadata": {},
     "output_type": "execute_result"
    }
   ],
   "source": [
    "final_prec_df.head()"
   ]
  },
  {
   "cell_type": "code",
   "execution_count": 69,
   "metadata": {},
   "outputs": [
    {
     "name": "stdout",
     "output_type": "stream",
     "text": [
      "                          Missing Count  Missing %\n",
      "precipitation_in_percent            836       0.18\n",
      "Time                                836       0.18\n",
      "Month                                 0       0.00\n",
      "Year                                  0       0.00\n",
      "Date                                  0       0.00\n"
     ]
    }
   ],
   "source": [
    "report_missing_values(final_prec_df)"
   ]
  },
  {
   "attachments": {},
   "cell_type": "markdown",
   "metadata": {},
   "source": [
    "### Merge Temperature data files to one excel files contating Temperature data"
   ]
  },
  {
   "cell_type": "code",
   "execution_count": 70,
   "metadata": {},
   "outputs": [],
   "source": [
    "temperature_loc = 'EU_PARK/temperatures/'\n",
    "final_temp_df = merge_fn_wind_prec_temp(temperature_loc,df_type='temp')\n"
   ]
  },
  {
   "cell_type": "code",
   "execution_count": 71,
   "metadata": {},
   "outputs": [
    {
     "data": {
      "text/plain": [
       "(464598, 5)"
      ]
     },
     "execution_count": 71,
     "metadata": {},
     "output_type": "execute_result"
    }
   ],
   "source": [
    "final_temp_df.shape"
   ]
  },
  {
   "cell_type": "code",
   "execution_count": 72,
   "metadata": {},
   "outputs": [
    {
     "data": {
      "text/html": [
       "<div>\n",
       "<style scoped>\n",
       "    .dataframe tbody tr th:only-of-type {\n",
       "        vertical-align: middle;\n",
       "    }\n",
       "\n",
       "    .dataframe tbody tr th {\n",
       "        vertical-align: top;\n",
       "    }\n",
       "\n",
       "    .dataframe thead th {\n",
       "        text-align: right;\n",
       "    }\n",
       "</style>\n",
       "<table border=\"1\" class=\"dataframe\">\n",
       "  <thead>\n",
       "    <tr style=\"text-align: right;\">\n",
       "      <th></th>\n",
       "      <th>temperature_in_celsius</th>\n",
       "      <th>Month</th>\n",
       "      <th>Year</th>\n",
       "      <th>Date</th>\n",
       "      <th>Time</th>\n",
       "    </tr>\n",
       "  </thead>\n",
       "  <tbody>\n",
       "    <tr>\n",
       "      <th>0</th>\n",
       "      <td>8.8</td>\n",
       "      <td>April</td>\n",
       "      <td>2023</td>\n",
       "      <td>2023-04-01</td>\n",
       "      <td>08:15</td>\n",
       "    </tr>\n",
       "    <tr>\n",
       "      <th>1</th>\n",
       "      <td>8.8</td>\n",
       "      <td>April</td>\n",
       "      <td>2023</td>\n",
       "      <td>2023-04-01</td>\n",
       "      <td>08:16</td>\n",
       "    </tr>\n",
       "    <tr>\n",
       "      <th>2</th>\n",
       "      <td>8.8</td>\n",
       "      <td>April</td>\n",
       "      <td>2023</td>\n",
       "      <td>2023-04-01</td>\n",
       "      <td>08:17</td>\n",
       "    </tr>\n",
       "    <tr>\n",
       "      <th>3</th>\n",
       "      <td>8.8</td>\n",
       "      <td>April</td>\n",
       "      <td>2023</td>\n",
       "      <td>2023-04-01</td>\n",
       "      <td>08:18</td>\n",
       "    </tr>\n",
       "    <tr>\n",
       "      <th>4</th>\n",
       "      <td>8.8</td>\n",
       "      <td>April</td>\n",
       "      <td>2023</td>\n",
       "      <td>2023-04-01</td>\n",
       "      <td>08:19</td>\n",
       "    </tr>\n",
       "  </tbody>\n",
       "</table>\n",
       "</div>"
      ],
      "text/plain": [
       "   temperature_in_celsius  Month  Year        Date   Time\n",
       "0                     8.8  April  2023  2023-04-01  08:15\n",
       "1                     8.8  April  2023  2023-04-01  08:16\n",
       "2                     8.8  April  2023  2023-04-01  08:17\n",
       "3                     8.8  April  2023  2023-04-01  08:18\n",
       "4                     8.8  April  2023  2023-04-01  08:19"
      ]
     },
     "execution_count": 72,
     "metadata": {},
     "output_type": "execute_result"
    }
   ],
   "source": [
    "final_temp_df.head()"
   ]
  },
  {
   "cell_type": "code",
   "execution_count": 73,
   "metadata": {},
   "outputs": [
    {
     "name": "stdout",
     "output_type": "stream",
     "text": [
      "                        Missing Count  Missing %\n",
      "temperature_in_celsius            836       0.18\n",
      "Time                              836       0.18\n",
      "Month                               0       0.00\n",
      "Year                                0       0.00\n",
      "Date                                0       0.00\n"
     ]
    }
   ],
   "source": [
    "report_missing_values(final_temp_df)"
   ]
  },
  {
   "attachments": {},
   "cell_type": "markdown",
   "metadata": {},
   "source": [
    "### Merge Final Excel of waiting times with wind data, Precipitaiton and Temperature data based on Month ,year,Date Time"
   ]
  },
  {
   "cell_type": "code",
   "execution_count": 74,
   "metadata": {},
   "outputs": [],
   "source": [
    "# merged_df_dt : final df for all attraction waiting times\n",
    "# final_temp_df: final df for all attraction Temperatures\n",
    "# final_prec_df: final df for all attraction Precipitation\n",
    "# final_wind_df: final df for all attraction Wind speed in kmh"
   ]
  },
  {
   "cell_type": "code",
   "execution_count": 75,
   "metadata": {},
   "outputs": [],
   "source": [
    "merge_keys = ['Month', 'Year', 'Date', 'Time']\n"
   ]
  },
  {
   "cell_type": "code",
   "execution_count": 76,
   "metadata": {},
   "outputs": [],
   "source": [
    "# Step-by-step outer merges using pandas only\n",
    "merged = pd.merge(merged_df_dt, final_temp_df, on=['Month', 'Year', 'Date', 'Time'], how='outer')\n",
    "merged = pd.merge(merged, final_prec_df, on=['Month', 'Year', 'Date', 'Time'], how='outer')\n",
    "merged = pd.merge(merged, final_wind_df, on=['Month', 'Year', 'Date', 'Time'], how='outer')\n",
    "\n",
    "# Optional: sort for clean structure\n",
    "final_merged = merged.sort_values(by=['Year', 'Month', 'Date', 'Time']).reset_index(drop=True)\n",
    "\n"
   ]
  },
  {
   "cell_type": "code",
   "execution_count": 77,
   "metadata": {},
   "outputs": [
    {
     "data": {
      "text/plain": [
       "(549604, 8)"
      ]
     },
     "execution_count": 77,
     "metadata": {},
     "output_type": "execute_result"
    }
   ],
   "source": [
    "final_merged.shape"
   ]
  },
  {
   "cell_type": "code",
   "execution_count": 78,
   "metadata": {},
   "outputs": [
    {
     "name": "stdout",
     "output_type": "stream",
     "text": [
      "                          Missing Count  Missing %\n",
      "temperature_in_celsius            85828      15.62\n",
      "precipitation_in_percent          85828      15.62\n",
      "wind_speed_in_kmh                 85828      15.62\n",
      "ARTHUR_WaitTime                    2336       0.43\n",
      "Time                                836       0.15\n",
      "Month                                 0       0.00\n",
      "Year                                  0       0.00\n",
      "Date                                  0       0.00\n"
     ]
    }
   ],
   "source": [
    "report_missing_values(final_merged)"
   ]
  },
  {
   "cell_type": "code",
   "execution_count": 80,
   "metadata": {},
   "outputs": [
    {
     "data": {
      "text/plain": [
       "Index(['ARTHUR_WaitTime', 'Month', 'Year', 'Date', 'Time',\n",
       "       'temperature_in_celsius', 'precipitation_in_percent',\n",
       "       'wind_speed_in_kmh'],\n",
       "      dtype='object')"
      ]
     },
     "execution_count": 80,
     "metadata": {},
     "output_type": "execute_result"
    }
   ],
   "source": [
    "final_merged.columns"
   ]
  },
  {
   "cell_type": "code",
   "execution_count": 88,
   "metadata": {},
   "outputs": [
    {
     "ename": "AttributeError",
     "evalue": "'DataFrameGroupBy' object has no attribute 'isna'",
     "output_type": "error",
     "traceback": [
      "\u001b[31m---------------------------------------------------------------------------\u001b[39m",
      "\u001b[31mAttributeError\u001b[39m                            Traceback (most recent call last)",
      "\u001b[36mCell\u001b[39m\u001b[36m \u001b[39m\u001b[32mIn[88]\u001b[39m\u001b[32m, line 1\u001b[39m\n\u001b[32m----> \u001b[39m\u001b[32m1\u001b[39m gb = \u001b[43mfinal_merged\u001b[49m\u001b[43m.\u001b[49m\u001b[43mgroupby\u001b[49m\u001b[43m(\u001b[49m\u001b[43m[\u001b[49m\u001b[33;43m'\u001b[39;49m\u001b[33;43mMonth\u001b[39;49m\u001b[33;43m'\u001b[39;49m\u001b[43m,\u001b[49m\u001b[43m \u001b[49m\u001b[33;43m'\u001b[39;49m\u001b[33;43mYear\u001b[39;49m\u001b[33;43m'\u001b[39;49m\u001b[43m,\u001b[49m\u001b[33;43m'\u001b[39;49m\u001b[33;43mARTHUR_WaitTime\u001b[39;49m\u001b[33;43m'\u001b[39;49m\u001b[43m]\u001b[49m\u001b[43m)\u001b[49m\u001b[43m.\u001b[49m\u001b[43misna\u001b[49m().value_counts()\n",
      "\u001b[36mFile \u001b[39m\u001b[32mc:\\Users\\Parth\\Desktop\\HFU_FURTWANGEN\\Course documents\\C_Machine Learning Spyder repo\\ML_Presentation_Workspace\\.venv\\Lib\\site-packages\\pandas\\core\\groupby\\groupby.py:987\u001b[39m, in \u001b[36mGroupBy.__getattr__\u001b[39m\u001b[34m(self, attr)\u001b[39m\n\u001b[32m    984\u001b[39m \u001b[38;5;28;01mif\u001b[39;00m attr \u001b[38;5;129;01min\u001b[39;00m \u001b[38;5;28mself\u001b[39m.obj:\n\u001b[32m    985\u001b[39m     \u001b[38;5;28;01mreturn\u001b[39;00m \u001b[38;5;28mself\u001b[39m[attr]\n\u001b[32m--> \u001b[39m\u001b[32m987\u001b[39m \u001b[38;5;28;01mraise\u001b[39;00m \u001b[38;5;167;01mAttributeError\u001b[39;00m(\n\u001b[32m    988\u001b[39m     \u001b[33mf\u001b[39m\u001b[33m\"\u001b[39m\u001b[33m'\u001b[39m\u001b[38;5;132;01m{\u001b[39;00m\u001b[38;5;28mtype\u001b[39m(\u001b[38;5;28mself\u001b[39m).\u001b[34m__name__\u001b[39m\u001b[38;5;132;01m}\u001b[39;00m\u001b[33m'\u001b[39m\u001b[33m object has no attribute \u001b[39m\u001b[33m'\u001b[39m\u001b[38;5;132;01m{\u001b[39;00mattr\u001b[38;5;132;01m}\u001b[39;00m\u001b[33m'\u001b[39m\u001b[33m\"\u001b[39m\n\u001b[32m    989\u001b[39m )\n",
      "\u001b[31mAttributeError\u001b[39m: 'DataFrameGroupBy' object has no attribute 'isna'"
     ]
    }
   ],
   "source": [
    "gb = final_merged.groupby(['Month', 'Year','ARTHUR_WaitTime']).isna().value_counts()"
   ]
  },
  {
   "cell_type": "code",
   "execution_count": 87,
   "metadata": {},
   "outputs": [
    {
     "data": {
      "text/plain": [
       "Month      Year  ARTHUR_WaitTime  Date        Time   temperature_in_celsius  precipitation_in_percent  wind_speed_in_kmh\n",
       "April      2023  -4.0             2023-04-01  08:15  8.8                     30.0                      25.0                 1\n",
       "                                  2023-04-27  19:02  18.3                    10.0                      5.0                  1\n",
       "                                  2023-04-30  08:23  11.8                    20.0                      15.0                 1\n",
       "                                              08:22  11.8                    20.0                      15.0                 1\n",
       "                                              08:21  11.8                    20.0                      15.0                 1\n",
       "                                                                                                                           ..\n",
       "September  2024   65.0            2024-09-21  11:10  17.0                    10.0                      5.0                  1\n",
       "                                              11:09  17.0                    10.0                      5.0                  1\n",
       "                                              11:07  17.0                    10.0                      5.0                  1\n",
       "                                              11:06  16.8                    10.0                      5.0                  1\n",
       "                                              11:20  17.2                    10.0                      5.0                  1\n",
       "Length: 462261, dtype: int64"
      ]
     },
     "execution_count": 87,
     "metadata": {},
     "output_type": "execute_result"
    }
   ],
   "source": [
    "gb"
   ]
  },
  {
   "cell_type": "code",
   "execution_count": 82,
   "metadata": {},
   "outputs": [
    {
     "data": {
      "text/plain": [
       "Index(['ARTHUR_WaitTime', 'Month', 'Year', 'Date', 'Time',\n",
       "       'Atlantica_SuperSplash_WaitTime', 'blue_fire_Megacoaster_WaitTime',\n",
       "       'Eurosat___CanCan_Coaster_WaitTime', 'Euro_Mir_WaitTime',\n",
       "       'Fjord_Rafting_WaitTime', 'Matterhorn_Blitz_WaitTime',\n",
       "       'Pegasus___The_YoungStar_Coaster_WaitTime',\n",
       "       'Pirates_in_Batavia_WaitTime', 'Silver_Star_WaitTime',\n",
       "       'Swiss_Bob_Run_WaitTime', 'Voletarium_WaitTime',\n",
       "       'Voltron_Nevera_WaitTime', 'Water_Rollercoaster_Poseidon_WaitTime',\n",
       "       'WODAN___Timburcoaster_WaitTime', 'temperature_in_celsius',\n",
       "       'precipitation_in_percent', 'wind_speed_in_kmh'],\n",
       "      dtype='object')"
      ]
     },
     "execution_count": 82,
     "metadata": {},
     "output_type": "execute_result"
    }
   ],
   "source": [
    "final_merged_v1.columns"
   ]
  },
  {
   "cell_type": "code",
   "execution_count": 44,
   "metadata": {},
   "outputs": [],
   "source": [
    "final_merged_v1.to_csv(\"final_df.csv\")"
   ]
  },
  {
   "cell_type": "code",
   "execution_count": null,
   "metadata": {},
   "outputs": [],
   "source": [
    "final_merged_v1.groupby"
   ]
  },
  {
   "cell_type": "code",
   "execution_count": 45,
   "metadata": {},
   "outputs": [],
   "source": [
    "df = pd.read_csv(\"Old_All_Attractions_Queue_Times_By_Date_Time.csv\")"
   ]
  },
  {
   "cell_type": "code",
   "execution_count": 46,
   "metadata": {},
   "outputs": [
    {
     "name": "stdout",
     "output_type": "stream",
     "text": [
      "                                          Missing Count  Missing %\n",
      "Voletarium_WaitTime                               68066      26.61\n",
      "Voltron_Nevera_WaitTime                           63048      24.65\n",
      "Fjord_Rafting_WaitTime                            60223      23.54\n",
      "Atlantica_SuperSplash_WaitTime                    59899      23.42\n",
      "WODAN___Timburcoaster_WaitTime                    33693      13.17\n",
      "Water_Rollercoaster_Poseidon_WaitTime             27968      10.93\n",
      "Pirates_in_Batavia_WaitTime                       26533      10.37\n",
      "Eurosat___CanCan_Coaster_WaitTime                 26511      10.36\n",
      "Euro_Mir_WaitTime                                 26454      10.34\n",
      "Matterhorn_Blitz_WaitTime                         26420      10.33\n",
      "blue_fire_Megacoaster_WaitTime                    26406      10.32\n",
      "Pegasus___The_YoungStar_Coaster_WaitTime          26405      10.32\n",
      "ARTHUR_WaitTime                                   26408      10.32\n",
      "Silver_Star_WaitTime                               7094       2.77\n",
      "Swiss_Bob_Run_WaitTime                             6727       2.63\n",
      "Unnamed: 0                                            0       0.00\n",
      "Time                                                  0       0.00\n",
      "Date                                                  0       0.00\n",
      "Year                                                  0       0.00\n",
      "Month                                                 0       0.00\n",
      "Unnamed: 0.1                                          0       0.00\n"
     ]
    }
   ],
   "source": [
    "report_missing_values(df)"
   ]
  },
  {
   "attachments": {},
   "cell_type": "markdown",
   "metadata": {},
   "source": [
    "### Add a column for holiday = 0 or 1 (true or false)"
   ]
  },
  {
   "cell_type": "code",
   "execution_count": 38,
   "metadata": {},
   "outputs": [],
   "source": [
    "holiday_df = pd.read_excel('EU_PARK/holidays/holidays_europapark_apr2024_apr2025.xlsx')"
   ]
  },
  {
   "cell_type": "code",
   "execution_count": 39,
   "metadata": {},
   "outputs": [
    {
     "data": {
      "text/plain": [
       "Index(['Date', 'holiday_event'], dtype='object')"
      ]
     },
     "execution_count": 39,
     "metadata": {},
     "output_type": "execute_result"
    }
   ],
   "source": [
    "holiday_df.columns"
   ]
  },
  {
   "cell_type": "code",
   "execution_count": 40,
   "metadata": {},
   "outputs": [
    {
     "data": {
      "text/plain": [
       "(86, 2)"
      ]
     },
     "execution_count": 40,
     "metadata": {},
     "output_type": "execute_result"
    }
   ],
   "source": [
    "holiday_df.shape"
   ]
  },
  {
   "cell_type": "code",
   "execution_count": 181,
   "metadata": {},
   "outputs": [
    {
     "data": {
      "text/html": [
       "<div>\n",
       "<style scoped>\n",
       "    .dataframe tbody tr th:only-of-type {\n",
       "        vertical-align: middle;\n",
       "    }\n",
       "\n",
       "    .dataframe tbody tr th {\n",
       "        vertical-align: top;\n",
       "    }\n",
       "\n",
       "    .dataframe thead th {\n",
       "        text-align: right;\n",
       "    }\n",
       "</style>\n",
       "<table border=\"1\" class=\"dataframe\">\n",
       "  <thead>\n",
       "    <tr style=\"text-align: right;\">\n",
       "      <th></th>\n",
       "      <th>Date</th>\n",
       "      <th>holiday_event</th>\n",
       "    </tr>\n",
       "  </thead>\n",
       "  <tbody>\n",
       "    <tr>\n",
       "      <th>0</th>\n",
       "      <td>2024-03-29</td>\n",
       "      <td>Karfreitag</td>\n",
       "    </tr>\n",
       "    <tr>\n",
       "      <th>1</th>\n",
       "      <td>2024-03-31</td>\n",
       "      <td>Ostersonntag</td>\n",
       "    </tr>\n",
       "    <tr>\n",
       "      <th>2</th>\n",
       "      <td>2024-04-01</td>\n",
       "      <td>Ostermontag</td>\n",
       "    </tr>\n",
       "    <tr>\n",
       "      <th>3</th>\n",
       "      <td>2024-05-01</td>\n",
       "      <td>Tag der Arbeit</td>\n",
       "    </tr>\n",
       "    <tr>\n",
       "      <th>4</th>\n",
       "      <td>2024-05-09</td>\n",
       "      <td>Christi Himmelfahrt</td>\n",
       "    </tr>\n",
       "  </tbody>\n",
       "</table>\n",
       "</div>"
      ],
      "text/plain": [
       "         Date        holiday_event\n",
       "0  2024-03-29           Karfreitag\n",
       "1  2024-03-31         Ostersonntag\n",
       "2  2024-04-01          Ostermontag\n",
       "3  2024-05-01       Tag der Arbeit\n",
       "4  2024-05-09  Christi Himmelfahrt"
      ]
     },
     "execution_count": 181,
     "metadata": {},
     "output_type": "execute_result"
    }
   ],
   "source": [
    "holiday_df.head()"
   ]
  },
  {
   "cell_type": "code",
   "execution_count": null,
   "metadata": {},
   "outputs": [],
   "source": []
  }
 ],
 "metadata": {
  "kernelspec": {
   "display_name": ".venv",
   "language": "python",
   "name": "python3"
  },
  "language_info": {
   "codemirror_mode": {
    "name": "ipython",
    "version": 3
   },
   "file_extension": ".py",
   "mimetype": "text/x-python",
   "name": "python",
   "nbconvert_exporter": "python",
   "pygments_lexer": "ipython3",
   "version": "3.11.5"
  },
  "orig_nbformat": 4
 },
 "nbformat": 4,
 "nbformat_minor": 2
}
