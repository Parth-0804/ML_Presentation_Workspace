{
 "cells": [
  {
   "attachments": {},
   "cell_type": "markdown",
   "metadata": {},
   "source": [
    "## USed for merging the 15 attraction dataset containing waiting times"
   ]
  },
  {
   "cell_type": "code",
   "execution_count": 127,
   "metadata": {},
   "outputs": [
    {
     "name": "stdout",
     "output_type": "stream",
     "text": [
      "Requirement already satisfied: openpyxl in /home/ms/anaconda3/lib/python3.12/site-packages (3.1.5)\n",
      "Requirement already satisfied: et-xmlfile in /home/ms/anaconda3/lib/python3.12/site-packages (from openpyxl) (1.1.0)\n",
      "Note: you may need to restart the kernel to use updated packages.\n"
     ]
    }
   ],
   "source": [
    "import pandas as pd\n",
    "import os\n",
    "import re\n",
    "%pip install openpyxl\n"
   ]
  },
  {
   "attachments": {},
   "cell_type": "markdown",
   "metadata": {},
   "source": [
    "### Merge files on Attraction -> output: Each excel for each attraction with cols ('Datetime', 'WaitTime', 'Month', 'Year')\n",
    "### 0Attraction open\n",
    "### -1Virtual Queue\n",
    "### -2Maintenance\n",
    "###  -3Closed due to weather\n",
    "### -4Attraction closed\n",
    "### 91over 90 minutes"
   ]
  },
  {
   "cell_type": "code",
   "execution_count": 128,
   "metadata": {},
   "outputs": [],
   "source": [
    "\n",
    "\n",
    "# Folder with the Excel files\n",
    "folder_path = \"/home/ms/hfu/ML/ML_Presentation_Workspace/EU_PARK/europark_raw_files\" # Corrected absolute path\n",
    "\n",
    "# Regex to extract attraction, month, and year from filename\n",
    "pattern = r'^(.*?) - Queue times in (\\w+) (\\d{4})\\.xlsx'\n",
    "\n",
    "# Dictionary to hold data for each attraction\n",
    "attraction_data = {}\n",
    "\n",
    "# Loop through all files in the folder\n",
    "for filename in os.listdir(folder_path):\n",
    "    if filename.endswith('.xlsx'):\n",
    "        match = re.match(pattern, filename)\n",
    "        if match:\n",
    "            attraction = match.group(1).strip()\n",
    "            month = match.group(2)\n",
    "            year = int(match.group(3))\n",
    "            file_path = os.path.join(folder_path, filename)\n",
    "\n",
    "            # Read the file\n",
    "            df = pd.read_excel(file_path)\n",
    "\n",
    "            # Add metadata\n",
    "            df['Month'] = month\n",
    "            df['Year'] = year\n",
    "\n",
    "            # Rename columns for consistency\n",
    "            df.columns = ['Datetime', 'WaitTime', 'Month', 'Year']\n",
    "\n",
    "            # Add to the attraction's list\n",
    "            if attraction not in attraction_data:\n",
    "                attraction_data[attraction] = []\n",
    "            attraction_data[attraction].append(df)\n",
    "\n"
   ]
  },
  {
   "cell_type": "code",
   "execution_count": 129,
   "metadata": {},
   "outputs": [
    {
     "data": {
      "text/plain": [
       "{'ARTHUR': [              Datetime  WaitTime    Month  Year\n",
       "  0     2023-01-01 09:45      -4.0  January  2023\n",
       "  1     2023-01-01 09:46      -4.0  January  2023\n",
       "  2     2023-01-01 09:47      -4.0  January  2023\n",
       "  3     2023-01-01 09:48      -4.0  January  2023\n",
       "  4     2023-01-01 09:49      -4.0  January  2023\n",
       "  ...                ...       ...      ...   ...\n",
       "  6556  2023-01-15 19:11      -4.0  January  2023\n",
       "  6557  2023-01-15 19:12      -4.0  January  2023\n",
       "  6558  2023-01-15 19:13      -4.0  January  2023\n",
       "  6559  2023-01-15 19:14      -4.0  January  2023\n",
       "  6560  2023-01-15 19:15      -4.0  January  2023\n",
       "  \n",
       "  [6561 rows x 4 columns],\n",
       "                 Datetime  WaitTime   Month  Year\n",
       "  0      2024-08-01 08:15      -4.0  August  2024\n",
       "  1      2024-08-01 08:16      -4.0  August  2024\n",
       "  2      2024-08-01 08:17      -4.0  August  2024\n",
       "  3      2024-08-01 08:18      -4.0  August  2024\n",
       "  4      2024-08-01 08:19      -4.0  August  2024\n",
       "  ...                 ...       ...     ...   ...\n",
       "  22134  2024-08-31 20:11      -4.0  August  2024\n",
       "  22135  2024-08-31 20:12      -4.0  August  2024\n",
       "  22136  2024-08-31 20:13      -4.0  August  2024\n",
       "  22137  2024-08-31 20:14      -4.0  August  2024\n",
       "  22138  2024-08-31 20:15      -4.0  August  2024\n",
       "  \n",
       "  [22139 rows x 4 columns],\n",
       "                 Datetime  WaitTime  Month  Year\n",
       "  0      2023-04-01 08:15      -4.0  April  2023\n",
       "  1      2023-04-01 08:16      -4.0  April  2023\n",
       "  2      2023-04-01 08:17      -4.0  April  2023\n",
       "  3      2023-04-01 08:18      -4.0  April  2023\n",
       "  4      2023-04-01 08:19      -4.0  April  2023\n",
       "  ...                 ...       ...    ...   ...\n",
       "  19742  2023-04-30 20:11      -4.0  April  2023\n",
       "  19743  2023-04-30 20:12      -4.0  April  2023\n",
       "  19744  2023-04-30 20:13      -4.0  April  2023\n",
       "  19745  2023-04-30 20:14      -4.0  April  2023\n",
       "  19746  2023-04-30 20:15      -4.0  April  2023\n",
       "  \n",
       "  [19747 rows x 4 columns],\n",
       "                 Datetime  WaitTime      Month  Year\n",
       "  0      2022-09-01 08:15      -4.0  September  2022\n",
       "  1      2022-09-01 08:16      -4.0  September  2022\n",
       "  2      2022-09-01 08:17      -4.0  September  2022\n",
       "  3      2022-09-01 08:18      -4.0  September  2022\n",
       "  4      2022-09-01 08:19      -4.0  September  2022\n",
       "  ...                 ...       ...        ...   ...\n",
       "  19033  2022-09-30 18:11      -4.0  September  2022\n",
       "  19034  2022-09-30 18:12      -4.0  September  2022\n",
       "  19035  2022-09-30 18:13      -4.0  September  2022\n",
       "  19036  2022-09-30 18:14      -4.0  September  2022\n",
       "  19037  2022-09-30 18:15      -4.0  September  2022\n",
       "  \n",
       "  [19038 rows x 4 columns],\n",
       "                 Datetime  WaitTime     Month  Year\n",
       "  0      2024-11-01 08:15      -4.0  November  2024\n",
       "  1      2024-11-01 08:16      -4.0  November  2024\n",
       "  2      2024-11-01 08:17      -4.0  November  2024\n",
       "  3      2024-11-01 08:18      -4.0  November  2024\n",
       "  4      2024-11-01 08:19      -4.0  November  2024\n",
       "  ...                 ...       ...       ...   ...\n",
       "  17748  2024-11-30 19:41      -4.0  November  2024\n",
       "  17749  2024-11-30 19:42      -4.0  November  2024\n",
       "  17750  2024-11-30 19:43      -4.0  November  2024\n",
       "  17751  2024-11-30 19:44      -4.0  November  2024\n",
       "  17752  2024-11-30 19:45      -4.0  November  2024\n",
       "  \n",
       "  [17753 rows x 4 columns],\n",
       "                Datetime  WaitTime  Month  Year\n",
       "  0     2024-03-16 08:15      -4.0  March  2024\n",
       "  1     2024-03-16 08:16      -4.0  March  2024\n",
       "  2     2024-03-16 08:17      -4.0  March  2024\n",
       "  3     2024-03-16 08:18      -4.0  March  2024\n",
       "  4     2024-03-16 08:19      -4.0  March  2024\n",
       "  ...                ...       ...    ...   ...\n",
       "  6958  2024-03-31 19:41      -4.0  March  2024\n",
       "  6959  2024-03-31 19:42      -4.0  March  2024\n",
       "  6960  2024-03-31 19:43      -4.0  March  2024\n",
       "  6961  2024-03-31 19:44      -4.0  March  2024\n",
       "  6962  2024-03-31 19:45      -4.0  March  2024\n",
       "  \n",
       "  [6963 rows x 4 columns],\n",
       "                 Datetime  WaitTime Month  Year\n",
       "  0      2022-07-01 08:15      -4.0  July  2022\n",
       "  1      2022-07-01 08:16      -4.0  July  2022\n",
       "  2      2022-07-01 08:17      -4.0  July  2022\n",
       "  3      2022-07-01 08:18      -4.0  July  2022\n",
       "  4      2022-07-01 08:19      -4.0  July  2022\n",
       "  ...                 ...       ...   ...   ...\n",
       "  20931  2022-07-31 19:11      -4.0  July  2022\n",
       "  20932  2022-07-31 19:12      -4.0  July  2022\n",
       "  20933  2022-07-31 19:13      -4.0  July  2022\n",
       "  20934  2022-07-31 19:14      -4.0  July  2022\n",
       "  20935  2022-07-31 19:15      -4.0  July  2022\n",
       "  \n",
       "  [20936 rows x 4 columns],\n",
       "                 Datetime  WaitTime Month  Year\n",
       "  0      2023-05-01 08:15      -4.0   May  2023\n",
       "  1      2023-05-01 08:16      -4.0   May  2023\n",
       "  2      2023-05-01 08:17      -4.0   May  2023\n",
       "  3      2023-05-01 08:18      -4.0   May  2023\n",
       "  4      2023-05-01 08:19      -4.0   May  2023\n",
       "  ...                 ...       ...   ...   ...\n",
       "  20193  2023-05-31 19:11      -4.0   May  2023\n",
       "  20194  2023-05-31 19:12      -4.0   May  2023\n",
       "  20195  2023-05-31 19:13      -4.0   May  2023\n",
       "  20196  2023-05-31 19:14      -4.0   May  2023\n",
       "  20197  2023-05-31 19:15      -4.0   May  2023\n",
       "  \n",
       "  [20198 rows x 4 columns],\n",
       "                 Datetime  WaitTime    Month  Year\n",
       "  0      2024-10-01 08:15      -4.0  October  2024\n",
       "  1      2024-10-01 08:16      -4.0  October  2024\n",
       "  2      2024-10-01 08:17      -4.0  October  2024\n",
       "  3      2024-10-01 08:18      -4.0  October  2024\n",
       "  4      2024-10-01 08:19      -4.0  October  2024\n",
       "  ...                 ...       ...      ...   ...\n",
       "  21236  2024-10-31 20:11      -4.0  October  2024\n",
       "  21237  2024-10-31 20:12      -4.0  October  2024\n",
       "  21238  2024-10-31 20:13      -4.0  October  2024\n",
       "  21239  2024-10-31 20:14      -4.0  October  2024\n",
       "  21240  2024-10-31 20:15      -4.0  October  2024\n",
       "  \n",
       "  [21241 rows x 4 columns],\n",
       "                 Datetime  WaitTime Month  Year\n",
       "  0      2023-07-01 08:15      -4.0  July  2023\n",
       "  1      2023-07-01 08:16      -4.0  July  2023\n",
       "  2      2023-07-01 08:17      -4.0  July  2023\n",
       "  3      2023-07-01 08:18      -4.0  July  2023\n",
       "  4      2023-07-01 08:19      -4.0  July  2023\n",
       "  ...                 ...       ...   ...   ...\n",
       "  21319  2023-07-31 20:11      -4.0  July  2023\n",
       "  21320  2023-07-31 20:12      -4.0  July  2023\n",
       "  21321  2023-07-31 20:13      -4.0  July  2023\n",
       "  21322  2023-07-31 20:14      -4.0  July  2023\n",
       "  21323  2023-07-31 20:15      -4.0  July  2023\n",
       "  \n",
       "  [21324 rows x 4 columns],\n",
       "                 Datetime  WaitTime Month  Year\n",
       "  0      2024-06-01 08:15      -4.0  June  2024\n",
       "  1      2024-06-01 08:16      -4.0  June  2024\n",
       "  2      2024-06-01 08:17      -4.0  June  2024\n",
       "  3      2024-06-01 08:18      -4.0  June  2024\n",
       "  4      2024-06-01 08:19      -4.0  June  2024\n",
       "  ...                 ...       ...   ...   ...\n",
       "  19407  2024-06-30 18:41      -4.0  June  2024\n",
       "  19408  2024-06-30 18:42      -4.0  June  2024\n",
       "  19409  2024-06-30 18:43      -4.0  June  2024\n",
       "  19410  2024-06-30 18:44      -4.0  June  2024\n",
       "  19411  2024-06-30 18:45      -4.0  June  2024\n",
       "  \n",
       "  [19412 rows x 4 columns],\n",
       "                Datetime  WaitTime Month  Year\n",
       "  0     2022-05-01 08:15      -4.0   May  2022\n",
       "  1     2022-05-01 08:20      -4.0   May  2022\n",
       "  2     2022-05-01 08:25      -4.0   May  2022\n",
       "  3     2022-05-01 08:30      -4.0   May  2022\n",
       "  4     2022-05-01 08:35      -4.0   May  2022\n",
       "  ...                ...       ...   ...   ...\n",
       "  3971  2022-05-31 17:55      15.0   May  2022\n",
       "  3972  2022-05-31 18:00      15.0   May  2022\n",
       "  3973  2022-05-31 18:05      -4.0   May  2022\n",
       "  3974  2022-05-31 18:10      -4.0   May  2022\n",
       "  3975  2022-05-31 18:15      -4.0   May  2022\n",
       "  \n",
       "  [3976 rows x 4 columns],\n",
       "                 Datetime  WaitTime     Month  Year\n",
       "  0      2024-12-01 09:45      -4.0  December  2024\n",
       "  1      2024-12-01 09:46      -4.0  December  2024\n",
       "  2      2024-12-01 09:47      -4.0  December  2024\n",
       "  3      2024-12-01 09:48      -4.0  December  2024\n",
       "  4      2024-12-01 09:49      -4.0  December  2024\n",
       "  ...                 ...       ...       ...   ...\n",
       "  17327  2024-12-31 19:11      -4.0  December  2024\n",
       "  17328  2024-12-31 19:12      -4.0  December  2024\n",
       "  17329  2024-12-31 19:13      -4.0  December  2024\n",
       "  17330  2024-12-31 19:14      -4.0  December  2024\n",
       "  17331  2024-12-31 19:15      -4.0  December  2024\n",
       "  \n",
       "  [17332 rows x 4 columns],\n",
       "                Datetime  WaitTime  Month  Year\n",
       "  0     2022-04-01 08:15      -4.0  April  2022\n",
       "  1     2022-04-01 08:20      -4.0  April  2022\n",
       "  2     2022-04-01 08:25      -4.0  April  2022\n",
       "  3     2022-04-01 08:30      -4.0  April  2022\n",
       "  4     2022-04-01 08:35      -4.0  April  2022\n",
       "  ...                ...       ...    ...   ...\n",
       "  3941  2022-04-30 18:55      10.0  April  2022\n",
       "  3942  2022-04-30 19:00      10.0  April  2022\n",
       "  3943  2022-04-30 19:05      -4.0  April  2022\n",
       "  3944  2022-04-30 19:10      -4.0  April  2022\n",
       "  3945  2022-04-30 19:15      -4.0  April  2022\n",
       "  \n",
       "  [3946 rows x 4 columns],\n",
       "                 Datetime  WaitTime      Month  Year\n",
       "  0      2023-09-01 08:15      -4.0  September  2023\n",
       "  1      2023-09-01 08:16      -4.0  September  2023\n",
       "  2      2023-09-01 08:17      -4.0  September  2023\n",
       "  3      2023-09-01 08:18      -4.0  September  2023\n",
       "  4      2023-09-01 08:19      -4.0  September  2023\n",
       "  ...                 ...       ...        ...   ...\n",
       "  19498  2023-09-30 20:11      -4.0  September  2023\n",
       "  19499  2023-09-30 20:12      -4.0  September  2023\n",
       "  19500  2023-09-30 20:13      -4.0  September  2023\n",
       "  19501  2023-09-30 20:14      -4.0  September  2023\n",
       "  19502  2023-09-30 20:15      -4.0  September  2023\n",
       "  \n",
       "  [19503 rows x 4 columns],\n",
       "                Datetime  WaitTime  Month  Year\n",
       "  0     2025-03-15 08:15      -4.0  March  2025\n",
       "  1     2025-03-15 08:16      -4.0  March  2025\n",
       "  2     2025-03-15 08:17      -4.0  March  2025\n",
       "  3     2025-03-15 08:18      -4.0  March  2025\n",
       "  4     2025-03-15 08:19      -4.0  March  2025\n",
       "  ...                ...       ...    ...   ...\n",
       "  7622  2025-03-31 18:11      -4.0  March  2025\n",
       "  7623  2025-03-31 18:12      -4.0  March  2025\n",
       "  7624  2025-03-31 18:13      -4.0  March  2025\n",
       "  7625  2025-03-31 18:14      -4.0  March  2025\n",
       "  7626  2025-03-31 18:15      -4.0  March  2025\n",
       "  \n",
       "  [7627 rows x 4 columns],\n",
       "                 Datetime  WaitTime    Month  Year\n",
       "  0      2023-10-01 08:15      -4.0  October  2023\n",
       "  1      2023-10-01 08:16      -4.0  October  2023\n",
       "  2      2023-10-01 08:17      -4.0  October  2023\n",
       "  3      2023-10-01 08:18      -4.0  October  2023\n",
       "  4      2023-10-01 08:19      -4.0  October  2023\n",
       "  ...                 ...       ...      ...   ...\n",
       "  21280  2023-10-31 20:11      -4.0  October  2023\n",
       "  21281  2023-10-31 20:12      -4.0  October  2023\n",
       "  21282  2023-10-31 20:13      -4.0  October  2023\n",
       "  21283  2023-10-31 20:14      -4.0  October  2023\n",
       "  21284  2023-10-31 20:15      -4.0  October  2023\n",
       "  \n",
       "  [21285 rows x 4 columns],\n",
       "                 Datetime  WaitTime Month  Year\n",
       "  0      2024-05-01 08:15      -4.0   May  2024\n",
       "  1      2024-05-01 08:16      -4.0   May  2024\n",
       "  2      2024-05-01 08:17      -4.0   May  2024\n",
       "  3      2024-05-01 08:18      -4.0   May  2024\n",
       "  4      2024-05-01 08:19      -4.0   May  2024\n",
       "  ...                 ...       ...   ...   ...\n",
       "  20464  2024-05-31 19:11      -4.0   May  2024\n",
       "  20465  2024-05-31 19:12      -4.0   May  2024\n",
       "  20466  2024-05-31 19:13      -4.0   May  2024\n",
       "  20467  2024-05-31 19:14      -4.0   May  2024\n",
       "  20468  2024-05-31 19:15      -4.0   May  2024\n",
       "  \n",
       "  [20469 rows x 4 columns],\n",
       "                 Datetime  WaitTime     Month  Year\n",
       "  0      2022-12-01 09:45      -4.0  December  2022\n",
       "  1      2022-12-01 09:46      -4.0  December  2022\n",
       "  2      2022-12-01 09:47      -4.0  December  2022\n",
       "  3      2022-12-01 09:48      -4.0  December  2022\n",
       "  4      2022-12-01 09:49      -4.0  December  2022\n",
       "  ...                 ...       ...       ...   ...\n",
       "  17295  2022-12-31 19:11      -4.0  December  2022\n",
       "  17296  2022-12-31 19:12      -4.0  December  2022\n",
       "  17297  2022-12-31 19:13      -4.0  December  2022\n",
       "  17298  2022-12-31 19:14      -4.0  December  2022\n",
       "  17299  2022-12-31 19:15      -4.0  December  2022\n",
       "  \n",
       "  [17300 rows x 4 columns],\n",
       "                Datetime  WaitTime Month  Year\n",
       "  0     2022-06-01 08:15      -4.0  June  2022\n",
       "  1     2022-06-01 08:20      -4.0  June  2022\n",
       "  2     2022-06-01 08:25      -4.0  June  2022\n",
       "  3     2022-06-01 08:30      -4.0  June  2022\n",
       "  4     2022-06-01 08:35      -4.0  June  2022\n",
       "  ...                ...       ...   ...   ...\n",
       "  7888  2022-06-30 18:41      -4.0  June  2022\n",
       "  7889  2022-06-30 18:42      -4.0  June  2022\n",
       "  7890  2022-06-30 18:43      -4.0  June  2022\n",
       "  7891  2022-06-30 18:44      -4.0  June  2022\n",
       "  7892  2022-06-30 18:45      -4.0  June  2022\n",
       "  \n",
       "  [7893 rows x 4 columns],\n",
       "                 Datetime  WaitTime  Month  Year\n",
       "  0      2024-04-01 08:15      -4.0  April  2024\n",
       "  1      2024-04-01 08:16      -4.0  April  2024\n",
       "  2      2024-04-01 08:17      -4.0  April  2024\n",
       "  3      2024-04-01 08:18      -4.0  April  2024\n",
       "  4      2024-04-01 08:19      -4.0  April  2024\n",
       "  ...                 ...       ...    ...   ...\n",
       "  19367  2024-04-30 19:41      -4.0  April  2024\n",
       "  19368  2024-04-30 19:42      -4.0  April  2024\n",
       "  19369  2024-04-30 19:43      -4.0  April  2024\n",
       "  19370  2024-04-30 19:44      -4.0  April  2024\n",
       "  19371  2024-04-30 19:45      -4.0  April  2024\n",
       "  \n",
       "  [19372 rows x 4 columns],\n",
       "                Datetime  WaitTime  Month  Year\n",
       "  0     2023-03-18 08:18      -4.0  March  2023\n",
       "  1     2023-03-18 08:19      -4.0  March  2023\n",
       "  2     2023-03-18 08:20      -4.0  March  2023\n",
       "  3     2023-03-18 08:21      -4.0  March  2023\n",
       "  4     2023-03-18 08:22      -4.0  March  2023\n",
       "  ...                ...       ...    ...   ...\n",
       "  5493  2023-03-31 18:11      -4.0  March  2023\n",
       "  5494  2023-03-31 18:12      -4.0  March  2023\n",
       "  5495  2023-03-31 18:13      -4.0  March  2023\n",
       "  5496  2023-03-31 18:14      -4.0  March  2023\n",
       "  5497  2023-03-31 18:15      -4.0  March  2023\n",
       "  \n",
       "  [5498 rows x 4 columns],\n",
       "                 Datetime  WaitTime     Month  Year\n",
       "  0      2023-11-01 08:15      -4.0  November  2023\n",
       "  1      2023-11-01 08:16      -4.0  November  2023\n",
       "  2      2023-11-01 08:17      -4.0  November  2023\n",
       "  3      2023-11-01 08:18      -4.0  November  2023\n",
       "  4      2023-11-01 08:19      -4.0  November  2023\n",
       "  ...                 ...       ...       ...   ...\n",
       "  17929  2023-11-30 19:11      -4.0  November  2023\n",
       "  17930  2023-11-30 19:12      -4.0  November  2023\n",
       "  17931  2023-11-30 19:13      -4.0  November  2023\n",
       "  17932  2023-11-30 19:14      -4.0  November  2023\n",
       "  17933  2023-11-30 19:15      -4.0  November  2023\n",
       "  \n",
       "  [17934 rows x 4 columns],\n",
       "                 Datetime  WaitTime   Month  Year\n",
       "  0      2023-08-01 08:15      -4.0  August  2023\n",
       "  1      2023-08-01 08:16      -4.0  August  2023\n",
       "  2      2023-08-01 08:17      -4.0  August  2023\n",
       "  3      2023-08-01 08:18      -4.0  August  2023\n",
       "  4      2023-08-01 08:19      -4.0  August  2023\n",
       "  ...                 ...       ...     ...   ...\n",
       "  21611  2023-08-31 19:41      -4.0  August  2023\n",
       "  21612  2023-08-31 19:42      -4.0  August  2023\n",
       "  21613  2023-08-31 19:43      -4.0  August  2023\n",
       "  21614  2023-08-31 19:44      -4.0  August  2023\n",
       "  21615  2023-08-31 19:45      -4.0  August  2023\n",
       "  \n",
       "  [21616 rows x 4 columns],\n",
       "                Datetime  WaitTime    Month  Year\n",
       "  0     2024-01-01 09:45      -4.0  January  2024\n",
       "  1     2024-01-01 09:46      -4.0  January  2024\n",
       "  2     2024-01-01 09:47      -4.0  January  2024\n",
       "  3     2024-01-01 09:48      -4.0  January  2024\n",
       "  4     2024-01-01 09:49      -4.0  January  2024\n",
       "  ...                ...       ...      ...   ...\n",
       "  4298  2024-01-07 19:11      -4.0  January  2024\n",
       "  4299  2024-01-07 19:12      -4.0  January  2024\n",
       "  4300  2024-01-07 19:13      -4.0  January  2024\n",
       "  4301  2024-01-07 19:14      -4.0  January  2024\n",
       "  4302  2024-01-07 19:15      -4.0  January  2024\n",
       "  \n",
       "  [4303 rows x 4 columns],\n",
       "                 Datetime  WaitTime  Month  Year\n",
       "  0      2025-04-01 08:15      -4.0  April  2025\n",
       "  1      2025-04-01 08:16      -4.0  April  2025\n",
       "  2      2025-04-01 08:17      -4.0  April  2025\n",
       "  3      2025-04-01 08:18      -4.0  April  2025\n",
       "  4      2025-04-01 08:19      -4.0  April  2025\n",
       "  ...                 ...       ...    ...   ...\n",
       "  20060  2025-04-30 19:11      -4.0  April  2025\n",
       "  20061  2025-04-30 19:12      -4.0  April  2025\n",
       "  20062  2025-04-30 19:13      -4.0  April  2025\n",
       "  20063  2025-04-30 19:14      -4.0  April  2025\n",
       "  20064  2025-04-30 19:15      -4.0  April  2025\n",
       "  \n",
       "  [20065 rows x 4 columns],\n",
       "                 Datetime  WaitTime     Month  Year\n",
       "  0      2022-11-01 08:15      -4.0  November  2022\n",
       "  1      2022-11-01 08:16      -4.0  November  2022\n",
       "  2      2022-11-01 08:17      -4.0  November  2022\n",
       "  3      2022-11-01 08:18      -4.0  November  2022\n",
       "  4      2022-11-01 08:19      -4.0  November  2022\n",
       "  ...                 ...       ...       ...   ...\n",
       "  18139  2022-11-30 19:12      -4.0  November  2022\n",
       "  18140  2022-11-30 19:13      -4.0  November  2022\n",
       "  18141  2022-11-30 19:14      -4.0  November  2022\n",
       "  18142  2022-11-30 19:15      -4.0  November  2022\n",
       "  18143  2022-11-30 19:16      -4.0  November  2022\n",
       "  \n",
       "  [18144 rows x 4 columns],\n",
       "                 Datetime  WaitTime      Month  Year\n",
       "  0      2024-09-01 08:15      -4.0  September  2024\n",
       "  1      2024-09-01 08:16      -4.0  September  2024\n",
       "  2      2024-09-01 08:17      -4.0  September  2024\n",
       "  3      2024-09-01 08:18      -4.0  September  2024\n",
       "  4      2024-09-01 08:19      -4.0  September  2024\n",
       "  ...                 ...       ...        ...   ...\n",
       "  19763  2024-09-30 18:41      -4.0  September  2024\n",
       "  19764  2024-09-30 18:42      -4.0  September  2024\n",
       "  19765  2024-09-30 18:43      -4.0  September  2024\n",
       "  19766  2024-09-30 18:44      -4.0  September  2024\n",
       "  19767  2024-09-30 18:45      -4.0  September  2024\n",
       "  \n",
       "  [19768 rows x 4 columns],\n",
       "                 Datetime  WaitTime   Month  Year\n",
       "  0      2022-08-01 08:15      -4.0  August  2022\n",
       "  1      2022-08-01 08:16      -4.0  August  2022\n",
       "  2      2022-08-01 08:17      -4.0  August  2022\n",
       "  3      2022-08-01 08:18      -4.0  August  2022\n",
       "  4      2022-08-01 08:19      -4.0  August  2022\n",
       "  ...                 ...       ...     ...   ...\n",
       "  21259  2022-08-31 19:11      -4.0  August  2022\n",
       "  21260  2022-08-31 19:12      -4.0  August  2022\n",
       "  21261  2022-08-31 19:13      -4.0  August  2022\n",
       "  21262  2022-08-31 19:14      -4.0  August  2022\n",
       "  21263  2022-08-31 19:15      -4.0  August  2022\n",
       "  \n",
       "  [21264 rows x 4 columns],\n",
       "                Datetime  WaitTime    Month  Year\n",
       "  0     2025-01-01 09:45      -4.0  January  2025\n",
       "  1     2025-01-01 09:46      -4.0  January  2025\n",
       "  2     2025-01-01 09:47      -4.0  January  2025\n",
       "  3     2025-01-01 09:48      -4.0  January  2025\n",
       "  4     2025-01-01 09:49      -4.0  January  2025\n",
       "  ...                ...       ...      ...   ...\n",
       "  7278  2025-01-12 19:41      -4.0  January  2025\n",
       "  7279  2025-01-12 19:42      -4.0  January  2025\n",
       "  7280  2025-01-12 19:43      -4.0  January  2025\n",
       "  7281  2025-01-12 19:44      -4.0  January  2025\n",
       "  7282  2025-01-12 19:45      -4.0  January  2025\n",
       "  \n",
       "  [7283 rows x 4 columns],\n",
       "                 Datetime  WaitTime    Month  Year\n",
       "  0      2022-10-01 08:15      -4.0  October  2022\n",
       "  1      2022-10-01 08:16      -4.0  October  2022\n",
       "  2      2022-10-01 08:17      -4.0  October  2022\n",
       "  3      2022-10-01 08:18      -4.0  October  2022\n",
       "  4      2022-10-01 08:19      -4.0  October  2022\n",
       "  ...                 ...       ...      ...   ...\n",
       "  20682  2022-10-31 20:11      -4.0  October  2022\n",
       "  20683  2022-10-31 20:12      -4.0  October  2022\n",
       "  20684  2022-10-31 20:13      -4.0  October  2022\n",
       "  20685  2022-10-31 20:14      -4.0  October  2022\n",
       "  20686  2022-10-31 20:15      -4.0  October  2022\n",
       "  \n",
       "  [20687 rows x 4 columns],\n",
       "                 Datetime  WaitTime     Month  Year\n",
       "  0      2023-12-01 09:45      -4.0  December  2023\n",
       "  1      2023-12-01 09:46      -4.0  December  2023\n",
       "  2      2023-12-01 09:47      -4.0  December  2023\n",
       "  3      2023-12-01 09:48      -4.0  December  2023\n",
       "  4      2023-12-01 09:49      -4.0  December  2023\n",
       "  ...                 ...       ...       ...   ...\n",
       "  17362  2023-12-31 19:11      -4.0  December  2023\n",
       "  17363  2023-12-31 19:12      -4.0  December  2023\n",
       "  17364  2023-12-31 19:13      -4.0  December  2023\n",
       "  17365  2023-12-31 19:14      -4.0  December  2023\n",
       "  17366  2023-12-31 19:15      -4.0  December  2023\n",
       "  \n",
       "  [17367 rows x 4 columns],\n",
       "                 Datetime  WaitTime Month  Year\n",
       "  0      2024-07-01 08:15      -4.0  July  2024\n",
       "  1      2024-07-01 08:16      -4.0  July  2024\n",
       "  2      2024-07-01 08:17      -4.0  July  2024\n",
       "  3      2024-07-01 08:18      -4.0  July  2024\n",
       "  4      2024-07-01 08:19      -4.0  July  2024\n",
       "  ...                 ...       ...   ...   ...\n",
       "  21052  2024-07-31 19:41      -4.0  July  2024\n",
       "  21053  2024-07-31 19:42      -4.0  July  2024\n",
       "  21054  2024-07-31 19:43      -4.0  July  2024\n",
       "  21055  2024-07-31 19:44      -4.0  July  2024\n",
       "  21056  2024-07-31 19:45      -4.0  July  2024\n",
       "  \n",
       "  [21057 rows x 4 columns],\n",
       "                 Datetime  WaitTime Month  Year\n",
       "  0      2023-06-01 08:15      -4.0  June  2023\n",
       "  1      2023-06-01 08:15      -4.0  June  2023\n",
       "  2      2023-06-01 08:16      -4.0  June  2023\n",
       "  3      2023-06-01 08:16      -4.0  June  2023\n",
       "  4      2023-06-01 08:17      -4.0  June  2023\n",
       "  ...                 ...       ...   ...   ...\n",
       "  19709  2023-06-30 18:41      -4.0  June  2023\n",
       "  19710  2023-06-30 18:42      -4.0  June  2023\n",
       "  19711  2023-06-30 18:43      -4.0  June  2023\n",
       "  19712  2023-06-30 18:44      -4.0  June  2023\n",
       "  19713  2023-06-30 18:45      -4.0  June  2023\n",
       "  \n",
       "  [19714 rows x 4 columns]]}"
      ]
     },
     "execution_count": 129,
     "metadata": {},
     "output_type": "execute_result"
    }
   ],
   "source": [
    "attraction_data"
   ]
  },
  {
   "cell_type": "code",
   "execution_count": 130,
   "metadata": {},
   "outputs": [
    {
     "name": "stdout",
     "output_type": "stream",
     "text": [
      "✅ Saved merged file for: ARTHUR -> /home/ms/hfu/ML/ML_Presentation_Workspace/EU_PARK/europark_attraction_merged_dfs/ARTHUR - All Queue Times.xlsx\n"
     ]
    }
   ],
   "source": [
    "# For each attraction, combine all months and save one Excel file\n",
    "safe_attraction_name_list = []\n",
    "save_path = '/home/ms/hfu/ML/ML_Presentation_Workspace/EU_PARK/europark_attraction_merged_dfs'\n",
    "for attraction, dfs in attraction_data.items():\n",
    "    combined_df = pd.concat(dfs, ignore_index=True)\n",
    "\n",
    "    # Drop rows where Datetime is missing\n",
    "    combined_df = combined_df.dropna(subset=['Datetime'])\n",
    "\n",
    "    # Split Datetime into Date and Time using string operations\n",
    "    combined_df[['Date', 'Time']] = combined_df['Datetime'].astype(str).str.strip().str.split(' ', expand=True)\n",
    "    safe_attraction_name = attraction.replace('-', ' ')  # avoid file path issues # Create the output file path\n",
    "    fil_safe_attraction_name = safe_attraction_name.replace(' ','_')\n",
    "    safe_attraction_name_list.append(fil_safe_attraction_name)\n",
    "    # print(safe_attraction_name_list)\n",
    "    output_file = os.path.join(save_path, f\"{fil_safe_attraction_name} - All Queue Times.xlsx\")\n",
    "    combined_df.to_excel(output_file, index=False)\n",
    "    print(f\"✅ Saved merged file for: {attraction} -> {output_file}\")"
   ]
  },
  {
   "attachments": {},
   "cell_type": "markdown",
   "metadata": {},
   "source": [
    "### Merge All attractions in one single excel file"
   ]
  },
  {
   "cell_type": "code",
   "execution_count": 131,
   "metadata": {},
   "outputs": [
    {
     "name": "stdout",
     "output_type": "stream",
     "text": [
      "['ARTHUR - All Queue Times.xlsx']\n"
     ]
    }
   ],
   "source": [
    "# Folder where individual attraction Excel files are stored\n",
    "folder_path = 'EU_PARK/europark_attraction_merged_dfs/'\n",
    "\n",
    "# Get list of merged attraction files\n",
    "files = [f for f in os.listdir(folder_path) if f.endswith('All Queue Times.xlsx')]\n",
    "print(files)"
   ]
  },
  {
   "cell_type": "code",
   "execution_count": 132,
   "metadata": {},
   "outputs": [],
   "source": [
    "merged_df = None"
   ]
  },
  {
   "cell_type": "code",
   "execution_count": 133,
   "metadata": {},
   "outputs": [
    {
     "name": "stdout",
     "output_type": "stream",
     "text": [
      "✅ Final merged file saved to: EU_PARK/europark_attraction_merged_dfs/All_Attractions_Queue_Times_By_Date_Time.csv\n"
     ]
    }
   ],
   "source": [
    "for file in files:\n",
    "    # Full path to the Excel file\n",
    "    file_path = os.path.join(folder_path, file)\n",
    "\n",
    "    # Extract attraction name from filename\n",
    "    attraction = file.replace(' - All Queue Times.xlsx', '').strip()\n",
    "\n",
    "    # Read file\n",
    "    df = pd.read_excel(file_path)\n",
    "    df = df.drop(columns=['Datetime'], errors='ignore')\n",
    "    df.rename(columns={'WaitTime': f'{attraction}_WaitTime'}, inplace=True)\n",
    "\n",
    "    # Merge using pandas only\n",
    "    if merged_df is None:\n",
    "        merged_df = df\n",
    "    else:\n",
    "        merged_df = pd.merge(merged_df, df, on=['Date', 'Time', 'Month', 'Year'], how='outer')\n",
    "\n",
    "merged_df = merged_df.sort_values(by=['Date', 'Time'])\n",
    "\n",
    "output_file = os.path.join(folder_path, 'All_Attractions_Queue_Times_By_Date_Time.csv')\n",
    "merged_df.to_csv(output_file, index=False)\n",
    "\n",
    "print(f\"✅ Final merged file saved to: {output_file}\")"
   ]
  },
  {
   "cell_type": "code",
   "execution_count": 134,
   "metadata": {},
   "outputs": [],
   "source": [
    "merged_df_dt = pd.read_csv(\"EU_PARK/europark_attraction_merged_dfs/All_Attractions_Queue_Times_By_Date_Time.csv\", index_col=False)"
   ]
  },
  {
   "cell_type": "code",
   "execution_count": 135,
   "metadata": {},
   "outputs": [
    {
     "data": {
      "text/html": [
       "<div>\n",
       "<style scoped>\n",
       "    .dataframe tbody tr th:only-of-type {\n",
       "        vertical-align: middle;\n",
       "    }\n",
       "\n",
       "    .dataframe tbody tr th {\n",
       "        vertical-align: top;\n",
       "    }\n",
       "\n",
       "    .dataframe thead th {\n",
       "        text-align: right;\n",
       "    }\n",
       "</style>\n",
       "<table border=\"1\" class=\"dataframe\">\n",
       "  <thead>\n",
       "    <tr style=\"text-align: right;\">\n",
       "      <th></th>\n",
       "      <th>ARTHUR_WaitTime</th>\n",
       "      <th>Month</th>\n",
       "      <th>Year</th>\n",
       "      <th>Date</th>\n",
       "      <th>Time</th>\n",
       "    </tr>\n",
       "  </thead>\n",
       "  <tbody>\n",
       "    <tr>\n",
       "      <th>0</th>\n",
       "      <td>-4.0</td>\n",
       "      <td>April</td>\n",
       "      <td>2022</td>\n",
       "      <td>2022-04-01</td>\n",
       "      <td>08:15</td>\n",
       "    </tr>\n",
       "    <tr>\n",
       "      <th>1</th>\n",
       "      <td>-4.0</td>\n",
       "      <td>April</td>\n",
       "      <td>2022</td>\n",
       "      <td>2022-04-01</td>\n",
       "      <td>08:20</td>\n",
       "    </tr>\n",
       "    <tr>\n",
       "      <th>2</th>\n",
       "      <td>-4.0</td>\n",
       "      <td>April</td>\n",
       "      <td>2022</td>\n",
       "      <td>2022-04-01</td>\n",
       "      <td>08:25</td>\n",
       "    </tr>\n",
       "    <tr>\n",
       "      <th>3</th>\n",
       "      <td>-4.0</td>\n",
       "      <td>April</td>\n",
       "      <td>2022</td>\n",
       "      <td>2022-04-01</td>\n",
       "      <td>08:30</td>\n",
       "    </tr>\n",
       "    <tr>\n",
       "      <th>4</th>\n",
       "      <td>-4.0</td>\n",
       "      <td>April</td>\n",
       "      <td>2022</td>\n",
       "      <td>2022-04-01</td>\n",
       "      <td>08:35</td>\n",
       "    </tr>\n",
       "    <tr>\n",
       "      <th>...</th>\n",
       "      <td>...</td>\n",
       "      <td>...</td>\n",
       "      <td>...</td>\n",
       "      <td>...</td>\n",
       "      <td>...</td>\n",
       "    </tr>\n",
       "    <tr>\n",
       "      <th>548707</th>\n",
       "      <td>-4.0</td>\n",
       "      <td>April</td>\n",
       "      <td>2025</td>\n",
       "      <td>2025-04-30</td>\n",
       "      <td>19:11</td>\n",
       "    </tr>\n",
       "    <tr>\n",
       "      <th>548708</th>\n",
       "      <td>-4.0</td>\n",
       "      <td>April</td>\n",
       "      <td>2025</td>\n",
       "      <td>2025-04-30</td>\n",
       "      <td>19:12</td>\n",
       "    </tr>\n",
       "    <tr>\n",
       "      <th>548709</th>\n",
       "      <td>-4.0</td>\n",
       "      <td>April</td>\n",
       "      <td>2025</td>\n",
       "      <td>2025-04-30</td>\n",
       "      <td>19:13</td>\n",
       "    </tr>\n",
       "    <tr>\n",
       "      <th>548710</th>\n",
       "      <td>-4.0</td>\n",
       "      <td>April</td>\n",
       "      <td>2025</td>\n",
       "      <td>2025-04-30</td>\n",
       "      <td>19:14</td>\n",
       "    </tr>\n",
       "    <tr>\n",
       "      <th>548711</th>\n",
       "      <td>-4.0</td>\n",
       "      <td>April</td>\n",
       "      <td>2025</td>\n",
       "      <td>2025-04-30</td>\n",
       "      <td>19:15</td>\n",
       "    </tr>\n",
       "  </tbody>\n",
       "</table>\n",
       "<p>547261 rows × 5 columns</p>\n",
       "</div>"
      ],
      "text/plain": [
       "        ARTHUR_WaitTime  Month  Year        Date   Time\n",
       "0                  -4.0  April  2022  2022-04-01  08:15\n",
       "1                  -4.0  April  2022  2022-04-01  08:20\n",
       "2                  -4.0  April  2022  2022-04-01  08:25\n",
       "3                  -4.0  April  2022  2022-04-01  08:30\n",
       "4                  -4.0  April  2022  2022-04-01  08:35\n",
       "...                 ...    ...   ...         ...    ...\n",
       "548707             -4.0  April  2025  2025-04-30  19:11\n",
       "548708             -4.0  April  2025  2025-04-30  19:12\n",
       "548709             -4.0  April  2025  2025-04-30  19:13\n",
       "548710             -4.0  April  2025  2025-04-30  19:14\n",
       "548711             -4.0  April  2025  2025-04-30  19:15\n",
       "\n",
       "[547261 rows x 5 columns]"
      ]
     },
     "execution_count": 135,
     "metadata": {},
     "output_type": "execute_result"
    }
   ],
   "source": [
    "merged_df_dt.dropna()"
   ]
  },
  {
   "cell_type": "code",
   "execution_count": 136,
   "metadata": {},
   "outputs": [
    {
     "name": "stdout",
     "output_type": "stream",
     "text": [
      "<class 'pandas.core.frame.DataFrame'>\n",
      "RangeIndex: 548715 entries, 0 to 548714\n",
      "Data columns (total 5 columns):\n",
      " #   Column           Non-Null Count   Dtype  \n",
      "---  ------           --------------   -----  \n",
      " 0   ARTHUR_WaitTime  547261 non-null  float64\n",
      " 1   Month            548715 non-null  object \n",
      " 2   Year             548715 non-null  int64  \n",
      " 3   Date             548715 non-null  object \n",
      " 4   Time             547261 non-null  object \n",
      "dtypes: float64(1), int64(1), object(3)\n",
      "memory usage: 20.9+ MB\n"
     ]
    }
   ],
   "source": [
    "merged_df_dt.info()"
   ]
  },
  {
   "cell_type": "code",
   "execution_count": 137,
   "metadata": {},
   "outputs": [
    {
     "data": {
      "text/plain": [
       "ARTHUR_WaitTime    1454\n",
       "Month                 0\n",
       "Year                  0\n",
       "Date                  0\n",
       "Time               1454\n",
       "dtype: int64"
      ]
     },
     "execution_count": 137,
     "metadata": {},
     "output_type": "execute_result"
    }
   ],
   "source": [
    "merged_df_dt.isna().sum()"
   ]
  },
  {
   "cell_type": "code",
   "execution_count": 138,
   "metadata": {},
   "outputs": [],
   "source": [
    "merged_df_dt = merged_df_dt.dropna(subset=['Time'])"
   ]
  },
  {
   "cell_type": "code",
   "execution_count": 139,
   "metadata": {},
   "outputs": [
    {
     "name": "stdout",
     "output_type": "stream",
     "text": [
      "                 Missing Count  Missing %\n",
      "ARTHUR_WaitTime              0        0.0\n",
      "Month                        0        0.0\n",
      "Year                         0        0.0\n",
      "Date                         0        0.0\n",
      "Time                         0        0.0\n"
     ]
    }
   ],
   "source": [
    "def report_missing_values(df):\n",
    "    total_rows = len(df)\n",
    "    missing_count = df.isna().sum()\n",
    "    missing_percent = (missing_count / total_rows) * 100\n",
    "\n",
    "    result = pd.DataFrame({\n",
    "        'Missing Count': missing_count,\n",
    "        'Missing %': missing_percent.round(2)\n",
    "    })\n",
    "    result = result.sort_values(by='Missing %', ascending=False)\n",
    "\n",
    "    print(result)  # Only show columns with missing values\n",
    "\n",
    "report_missing_values(merged_df_dt)"
   ]
  },
  {
   "cell_type": "code",
   "execution_count": 140,
   "metadata": {},
   "outputs": [],
   "source": [
    "#merged_df_dt.to_csv(\"EU_PARK/All_Attractions_Queue_Times_By_Date_Time.csv\")"
   ]
  },
  {
   "attachments": {},
   "cell_type": "markdown",
   "metadata": {},
   "source": [
    "### Merge wind data files to one excel files contating wind data"
   ]
  },
  {
   "cell_type": "code",
   "execution_count": 141,
   "metadata": {},
   "outputs": [],
   "source": [
    "def merge_fn_wind_prec_temp(df_path,df_type):\n",
    "    \"\"\"\n",
    "    Parameters:\n",
    "        df_path (str): Path to folder containing Excel files.\n",
    "        data_type (str): Type of data ('wind', 'prec', 'temp', etc.)\n",
    "        \n",
    "    Returns:\n",
    "        pd.DataFrame: Combined dataframe with Month and Year columns.\n",
    "    \"\"\"\n",
    "    files = [f for f in os.listdir(df_path) if f.endswith('.xlsx')]\n",
    "    data_final = []\n",
    "    for file in files:\n",
    "        file_path = os.path.join(df_path, file)\n",
    "\n",
    "        # Extract month and year from filename: 'Wind speed in March 2024.xlsx'\n",
    "        if df_type == 'wind':\n",
    "            name_parts = file.replace('.xlsx', '').replace('Wind speed in ', '').strip().split()\n",
    "        elif df_type == 'prec':\n",
    "            name_parts = file.replace('.xlsx', '').replace('Precipitation probability in ', '').strip().split()\n",
    "        elif df_type == 'temp':\n",
    "            name_parts = file.replace('.xlsx', '').replace('Temperatures in ', '').strip().split()\n",
    "        else:\n",
    "            raise ValueError(f\"Unknown data_type: {df_type}\")\n",
    "        month = name_parts[0]\n",
    "        year = name_parts[1]\n",
    "\n",
    "        # Read the file\n",
    "        df = pd.read_excel(file_path)\n",
    "\n",
    "        # Add Month and Year columns\n",
    "        df['Month'] = month\n",
    "        df['Year'] = int(year)\n",
    "        data_final.append(df)\n",
    "\n",
    "    # Combine all dataframes into one\n",
    "    wind_df = pd.concat(data_final, ignore_index=True)\n",
    "    wind_df[['Date', 'Time']] = wind_df['date_time'].astype(str).str.strip().str.split(' ', expand=True)\n",
    "    wind_df = wind_df.drop(columns=['date_time'])\n",
    "\n",
    "    return wind_df\n"
   ]
  },
  {
   "cell_type": "code",
   "execution_count": 142,
   "metadata": {},
   "outputs": [],
   "source": [
    "wind_loc = 'EU_PARK/wind_speed/'\n",
    "final_wind_df = merge_fn_wind_prec_temp(wind_loc,df_type='wind')"
   ]
  },
  {
   "cell_type": "code",
   "execution_count": 143,
   "metadata": {},
   "outputs": [
    {
     "data": {
      "text/plain": [
       "(464598, 5)"
      ]
     },
     "execution_count": 143,
     "metadata": {},
     "output_type": "execute_result"
    }
   ],
   "source": [
    "final_wind_df.shape"
   ]
  },
  {
   "cell_type": "code",
   "execution_count": 144,
   "metadata": {},
   "outputs": [
    {
     "data": {
      "text/html": [
       "<div>\n",
       "<style scoped>\n",
       "    .dataframe tbody tr th:only-of-type {\n",
       "        vertical-align: middle;\n",
       "    }\n",
       "\n",
       "    .dataframe tbody tr th {\n",
       "        vertical-align: top;\n",
       "    }\n",
       "\n",
       "    .dataframe thead th {\n",
       "        text-align: right;\n",
       "    }\n",
       "</style>\n",
       "<table border=\"1\" class=\"dataframe\">\n",
       "  <thead>\n",
       "    <tr style=\"text-align: right;\">\n",
       "      <th></th>\n",
       "      <th>wind_speed_in_kmh</th>\n",
       "      <th>Month</th>\n",
       "      <th>Year</th>\n",
       "      <th>Date</th>\n",
       "      <th>Time</th>\n",
       "    </tr>\n",
       "  </thead>\n",
       "  <tbody>\n",
       "    <tr>\n",
       "      <th>0</th>\n",
       "      <td>10.0</td>\n",
       "      <td>December</td>\n",
       "      <td>2022</td>\n",
       "      <td>2022-12-01</td>\n",
       "      <td>09:45</td>\n",
       "    </tr>\n",
       "    <tr>\n",
       "      <th>1</th>\n",
       "      <td>10.0</td>\n",
       "      <td>December</td>\n",
       "      <td>2022</td>\n",
       "      <td>2022-12-01</td>\n",
       "      <td>09:46</td>\n",
       "    </tr>\n",
       "    <tr>\n",
       "      <th>2</th>\n",
       "      <td>10.0</td>\n",
       "      <td>December</td>\n",
       "      <td>2022</td>\n",
       "      <td>2022-12-01</td>\n",
       "      <td>09:47</td>\n",
       "    </tr>\n",
       "    <tr>\n",
       "      <th>3</th>\n",
       "      <td>10.0</td>\n",
       "      <td>December</td>\n",
       "      <td>2022</td>\n",
       "      <td>2022-12-01</td>\n",
       "      <td>09:48</td>\n",
       "    </tr>\n",
       "    <tr>\n",
       "      <th>4</th>\n",
       "      <td>10.0</td>\n",
       "      <td>December</td>\n",
       "      <td>2022</td>\n",
       "      <td>2022-12-01</td>\n",
       "      <td>09:49</td>\n",
       "    </tr>\n",
       "  </tbody>\n",
       "</table>\n",
       "</div>"
      ],
      "text/plain": [
       "   wind_speed_in_kmh     Month  Year        Date   Time\n",
       "0               10.0  December  2022  2022-12-01  09:45\n",
       "1               10.0  December  2022  2022-12-01  09:46\n",
       "2               10.0  December  2022  2022-12-01  09:47\n",
       "3               10.0  December  2022  2022-12-01  09:48\n",
       "4               10.0  December  2022  2022-12-01  09:49"
      ]
     },
     "execution_count": 144,
     "metadata": {},
     "output_type": "execute_result"
    }
   ],
   "source": [
    "final_wind_df.head()"
   ]
  },
  {
   "cell_type": "code",
   "execution_count": 145,
   "metadata": {},
   "outputs": [
    {
     "name": "stdout",
     "output_type": "stream",
     "text": [
      "                   Missing Count  Missing %\n",
      "wind_speed_in_kmh            836       0.18\n",
      "Time                         836       0.18\n",
      "Month                          0       0.00\n",
      "Year                           0       0.00\n",
      "Date                           0       0.00\n"
     ]
    }
   ],
   "source": [
    "report_missing_values(final_wind_df)"
   ]
  },
  {
   "cell_type": "code",
   "execution_count": 146,
   "metadata": {},
   "outputs": [
    {
     "name": "stdout",
     "output_type": "stream",
     "text": [
      "/home/ms/hfu/ML/ML_Presentation_Workspace\n"
     ]
    }
   ],
   "source": [
    "import os\n",
    "print(os.getcwd())"
   ]
  },
  {
   "attachments": {},
   "cell_type": "markdown",
   "metadata": {},
   "source": [
    "### Merge Precipitation data files to one excel files contating Precipitation data"
   ]
  },
  {
   "cell_type": "code",
   "execution_count": 147,
   "metadata": {},
   "outputs": [],
   "source": [
    "precipitation_loc = '/home/ms/hfu/ML/ML_Presentation_Workspace/EU_PARK/Precipitation/'\n",
    "\n",
    "if not os.path.exists(precipitation_loc):\n",
    "\traise FileNotFoundError(f\"Directory does not exist: {precipitation_loc}\")\n",
    "\n",
    "final_prec_df = merge_fn_wind_prec_temp(precipitation_loc,df_type='prec')\n"
   ]
  },
  {
   "cell_type": "code",
   "execution_count": 148,
   "metadata": {},
   "outputs": [
    {
     "data": {
      "text/plain": [
       "(464598, 5)"
      ]
     },
     "execution_count": 148,
     "metadata": {},
     "output_type": "execute_result"
    }
   ],
   "source": [
    "final_prec_df.shape"
   ]
  },
  {
   "cell_type": "code",
   "execution_count": 149,
   "metadata": {},
   "outputs": [
    {
     "data": {
      "text/html": [
       "<div>\n",
       "<style scoped>\n",
       "    .dataframe tbody tr th:only-of-type {\n",
       "        vertical-align: middle;\n",
       "    }\n",
       "\n",
       "    .dataframe tbody tr th {\n",
       "        vertical-align: top;\n",
       "    }\n",
       "\n",
       "    .dataframe thead th {\n",
       "        text-align: right;\n",
       "    }\n",
       "</style>\n",
       "<table border=\"1\" class=\"dataframe\">\n",
       "  <thead>\n",
       "    <tr style=\"text-align: right;\">\n",
       "      <th></th>\n",
       "      <th>precipitation_in_percent</th>\n",
       "      <th>Month</th>\n",
       "      <th>Year</th>\n",
       "      <th>Date</th>\n",
       "      <th>Time</th>\n",
       "    </tr>\n",
       "  </thead>\n",
       "  <tbody>\n",
       "    <tr>\n",
       "      <th>0</th>\n",
       "      <td>20.0</td>\n",
       "      <td>November</td>\n",
       "      <td>2024</td>\n",
       "      <td>2024-11-01</td>\n",
       "      <td>08:15</td>\n",
       "    </tr>\n",
       "    <tr>\n",
       "      <th>1</th>\n",
       "      <td>20.0</td>\n",
       "      <td>November</td>\n",
       "      <td>2024</td>\n",
       "      <td>2024-11-01</td>\n",
       "      <td>08:16</td>\n",
       "    </tr>\n",
       "    <tr>\n",
       "      <th>2</th>\n",
       "      <td>20.0</td>\n",
       "      <td>November</td>\n",
       "      <td>2024</td>\n",
       "      <td>2024-11-01</td>\n",
       "      <td>08:17</td>\n",
       "    </tr>\n",
       "    <tr>\n",
       "      <th>3</th>\n",
       "      <td>20.0</td>\n",
       "      <td>November</td>\n",
       "      <td>2024</td>\n",
       "      <td>2024-11-01</td>\n",
       "      <td>08:18</td>\n",
       "    </tr>\n",
       "    <tr>\n",
       "      <th>4</th>\n",
       "      <td>20.0</td>\n",
       "      <td>November</td>\n",
       "      <td>2024</td>\n",
       "      <td>2024-11-01</td>\n",
       "      <td>08:19</td>\n",
       "    </tr>\n",
       "  </tbody>\n",
       "</table>\n",
       "</div>"
      ],
      "text/plain": [
       "   precipitation_in_percent     Month  Year        Date   Time\n",
       "0                      20.0  November  2024  2024-11-01  08:15\n",
       "1                      20.0  November  2024  2024-11-01  08:16\n",
       "2                      20.0  November  2024  2024-11-01  08:17\n",
       "3                      20.0  November  2024  2024-11-01  08:18\n",
       "4                      20.0  November  2024  2024-11-01  08:19"
      ]
     },
     "execution_count": 149,
     "metadata": {},
     "output_type": "execute_result"
    }
   ],
   "source": [
    "final_prec_df.head()"
   ]
  },
  {
   "cell_type": "code",
   "execution_count": 150,
   "metadata": {},
   "outputs": [
    {
     "name": "stdout",
     "output_type": "stream",
     "text": [
      "                          Missing Count  Missing %\n",
      "precipitation_in_percent            836       0.18\n",
      "Time                                836       0.18\n",
      "Month                                 0       0.00\n",
      "Year                                  0       0.00\n",
      "Date                                  0       0.00\n"
     ]
    }
   ],
   "source": [
    "report_missing_values(final_prec_df)"
   ]
  },
  {
   "attachments": {},
   "cell_type": "markdown",
   "metadata": {},
   "source": [
    "### Merge Temperature data files to one excel files contating Temperature data"
   ]
  },
  {
   "cell_type": "code",
   "execution_count": 151,
   "metadata": {},
   "outputs": [],
   "source": [
    "temperature_loc = 'EU_PARK/Temperatures/'\n",
    "final_temp_df = merge_fn_wind_prec_temp(temperature_loc,df_type='temp')\n"
   ]
  },
  {
   "cell_type": "code",
   "execution_count": 152,
   "metadata": {},
   "outputs": [
    {
     "data": {
      "text/plain": [
       "(464598, 5)"
      ]
     },
     "execution_count": 152,
     "metadata": {},
     "output_type": "execute_result"
    }
   ],
   "source": [
    "final_temp_df.shape"
   ]
  },
  {
   "cell_type": "code",
   "execution_count": 153,
   "metadata": {},
   "outputs": [
    {
     "data": {
      "text/html": [
       "<div>\n",
       "<style scoped>\n",
       "    .dataframe tbody tr th:only-of-type {\n",
       "        vertical-align: middle;\n",
       "    }\n",
       "\n",
       "    .dataframe tbody tr th {\n",
       "        vertical-align: top;\n",
       "    }\n",
       "\n",
       "    .dataframe thead th {\n",
       "        text-align: right;\n",
       "    }\n",
       "</style>\n",
       "<table border=\"1\" class=\"dataframe\">\n",
       "  <thead>\n",
       "    <tr style=\"text-align: right;\">\n",
       "      <th></th>\n",
       "      <th>temperature_in_celsius</th>\n",
       "      <th>Month</th>\n",
       "      <th>Year</th>\n",
       "      <th>Date</th>\n",
       "      <th>Time</th>\n",
       "    </tr>\n",
       "  </thead>\n",
       "  <tbody>\n",
       "    <tr>\n",
       "      <th>0</th>\n",
       "      <td>8.9</td>\n",
       "      <td>April</td>\n",
       "      <td>2024</td>\n",
       "      <td>2024-04-01</td>\n",
       "      <td>08:15</td>\n",
       "    </tr>\n",
       "    <tr>\n",
       "      <th>1</th>\n",
       "      <td>8.9</td>\n",
       "      <td>April</td>\n",
       "      <td>2024</td>\n",
       "      <td>2024-04-01</td>\n",
       "      <td>08:16</td>\n",
       "    </tr>\n",
       "    <tr>\n",
       "      <th>2</th>\n",
       "      <td>8.9</td>\n",
       "      <td>April</td>\n",
       "      <td>2024</td>\n",
       "      <td>2024-04-01</td>\n",
       "      <td>08:17</td>\n",
       "    </tr>\n",
       "    <tr>\n",
       "      <th>3</th>\n",
       "      <td>8.9</td>\n",
       "      <td>April</td>\n",
       "      <td>2024</td>\n",
       "      <td>2024-04-01</td>\n",
       "      <td>08:18</td>\n",
       "    </tr>\n",
       "    <tr>\n",
       "      <th>4</th>\n",
       "      <td>8.9</td>\n",
       "      <td>April</td>\n",
       "      <td>2024</td>\n",
       "      <td>2024-04-01</td>\n",
       "      <td>08:19</td>\n",
       "    </tr>\n",
       "  </tbody>\n",
       "</table>\n",
       "</div>"
      ],
      "text/plain": [
       "   temperature_in_celsius  Month  Year        Date   Time\n",
       "0                     8.9  April  2024  2024-04-01  08:15\n",
       "1                     8.9  April  2024  2024-04-01  08:16\n",
       "2                     8.9  April  2024  2024-04-01  08:17\n",
       "3                     8.9  April  2024  2024-04-01  08:18\n",
       "4                     8.9  April  2024  2024-04-01  08:19"
      ]
     },
     "execution_count": 153,
     "metadata": {},
     "output_type": "execute_result"
    }
   ],
   "source": [
    "final_temp_df.head()"
   ]
  },
  {
   "cell_type": "code",
   "execution_count": 154,
   "metadata": {},
   "outputs": [
    {
     "name": "stdout",
     "output_type": "stream",
     "text": [
      "                        Missing Count  Missing %\n",
      "temperature_in_celsius            836       0.18\n",
      "Time                              836       0.18\n",
      "Month                               0       0.00\n",
      "Year                                0       0.00\n",
      "Date                                0       0.00\n"
     ]
    }
   ],
   "source": [
    "report_missing_values(final_temp_df)"
   ]
  },
  {
   "attachments": {},
   "cell_type": "markdown",
   "metadata": {},
   "source": [
    "### Merge Final Excel of waiting times with wind data, Precipitaiton and Temperature data based on Month ,year,Date Time"
   ]
  },
  {
   "cell_type": "code",
   "execution_count": 155,
   "metadata": {},
   "outputs": [],
   "source": [
    "# merged_df_dt : final df for all attraction waiting times\n",
    "# final_temp_df: final df for all attraction Temperatures\n",
    "# final_prec_df: final df for all attraction Precipitation\n",
    "# final_wind_df: final df for all attraction Wind speed in kmh"
   ]
  },
  {
   "cell_type": "code",
   "execution_count": 156,
   "metadata": {},
   "outputs": [],
   "source": [
    "merge_keys = ['Month', 'Year', 'Date', 'Time']\n"
   ]
  },
  {
   "cell_type": "code",
   "execution_count": 157,
   "metadata": {},
   "outputs": [],
   "source": [
    "# Step-by-step outer merges using pandas only\n",
    "merged = pd.merge(merged_df_dt, final_temp_df, on=['Month', 'Year', 'Date', 'Time'], how='outer')\n",
    "merged = pd.merge(merged, final_prec_df, on=['Month', 'Year', 'Date', 'Time'], how='outer')\n",
    "merged = pd.merge(merged, final_wind_df, on=['Month', 'Year', 'Date', 'Time'], how='outer')\n",
    "\n",
    "# Optional: sort for clean structure\n",
    "final_merged = merged.sort_values(by=['Year', 'Month', 'Date', 'Time']).reset_index(drop=True)\n",
    "\n"
   ]
  },
  {
   "cell_type": "code",
   "execution_count": 158,
   "metadata": {},
   "outputs": [
    {
     "data": {
      "text/plain": [
       "(549604, 8)"
      ]
     },
     "execution_count": 158,
     "metadata": {},
     "output_type": "execute_result"
    }
   ],
   "source": [
    "final_merged.shape"
   ]
  },
  {
   "cell_type": "code",
   "execution_count": 159,
   "metadata": {},
   "outputs": [
    {
     "name": "stdout",
     "output_type": "stream",
     "text": [
      "                          Missing Count  Missing %\n",
      "temperature_in_celsius            85828      15.62\n",
      "precipitation_in_percent          85828      15.62\n",
      "wind_speed_in_kmh                 85828      15.62\n",
      "ARTHUR_WaitTime                    2336       0.43\n",
      "Time                                836       0.15\n",
      "Month                                 0       0.00\n",
      "Year                                  0       0.00\n",
      "Date                                  0       0.00\n"
     ]
    }
   ],
   "source": [
    "report_missing_values(final_merged)"
   ]
  },
  {
   "cell_type": "code",
   "execution_count": 160,
   "metadata": {},
   "outputs": [
    {
     "data": {
      "text/plain": [
       "Index(['ARTHUR_WaitTime', 'Month', 'Year', 'Date', 'Time',\n",
       "       'temperature_in_celsius', 'precipitation_in_percent',\n",
       "       'wind_speed_in_kmh'],\n",
       "      dtype='object')"
      ]
     },
     "execution_count": 160,
     "metadata": {},
     "output_type": "execute_result"
    }
   ],
   "source": [
    "final_merged.columns"
   ]
  },
  {
   "cell_type": "code",
   "execution_count": 161,
   "metadata": {},
   "outputs": [],
   "source": [
    "gb = final_merged.groupby(['Month', 'Year', 'ARTHUR_WaitTime']).agg(lambda x: x.isna().sum())"
   ]
  },
  {
   "cell_type": "code",
   "execution_count": 162,
   "metadata": {},
   "outputs": [
    {
     "data": {
      "text/html": [
       "<div>\n",
       "<style scoped>\n",
       "    .dataframe tbody tr th:only-of-type {\n",
       "        vertical-align: middle;\n",
       "    }\n",
       "\n",
       "    .dataframe tbody tr th {\n",
       "        vertical-align: top;\n",
       "    }\n",
       "\n",
       "    .dataframe thead th {\n",
       "        text-align: right;\n",
       "    }\n",
       "</style>\n",
       "<table border=\"1\" class=\"dataframe\">\n",
       "  <thead>\n",
       "    <tr style=\"text-align: right;\">\n",
       "      <th></th>\n",
       "      <th></th>\n",
       "      <th></th>\n",
       "      <th>Date</th>\n",
       "      <th>Time</th>\n",
       "      <th>temperature_in_celsius</th>\n",
       "      <th>precipitation_in_percent</th>\n",
       "      <th>wind_speed_in_kmh</th>\n",
       "    </tr>\n",
       "    <tr>\n",
       "      <th>Month</th>\n",
       "      <th>Year</th>\n",
       "      <th>ARTHUR_WaitTime</th>\n",
       "      <th></th>\n",
       "      <th></th>\n",
       "      <th></th>\n",
       "      <th></th>\n",
       "      <th></th>\n",
       "    </tr>\n",
       "  </thead>\n",
       "  <tbody>\n",
       "    <tr>\n",
       "      <th rowspan=\"5\" valign=\"top\">April</th>\n",
       "      <th rowspan=\"5\" valign=\"top\">2022</th>\n",
       "      <th>-4.0</th>\n",
       "      <td>0</td>\n",
       "      <td>0</td>\n",
       "      <td>382</td>\n",
       "      <td>382</td>\n",
       "      <td>382</td>\n",
       "    </tr>\n",
       "    <tr>\n",
       "      <th>-3.0</th>\n",
       "      <td>0</td>\n",
       "      <td>0</td>\n",
       "      <td>39</td>\n",
       "      <td>39</td>\n",
       "      <td>39</td>\n",
       "    </tr>\n",
       "    <tr>\n",
       "      <th>1.0</th>\n",
       "      <td>0</td>\n",
       "      <td>0</td>\n",
       "      <td>422</td>\n",
       "      <td>422</td>\n",
       "      <td>422</td>\n",
       "    </tr>\n",
       "    <tr>\n",
       "      <th>5.0</th>\n",
       "      <td>0</td>\n",
       "      <td>0</td>\n",
       "      <td>239</td>\n",
       "      <td>239</td>\n",
       "      <td>239</td>\n",
       "    </tr>\n",
       "    <tr>\n",
       "      <th>10.0</th>\n",
       "      <td>0</td>\n",
       "      <td>0</td>\n",
       "      <td>124</td>\n",
       "      <td>124</td>\n",
       "      <td>124</td>\n",
       "    </tr>\n",
       "    <tr>\n",
       "      <th>...</th>\n",
       "      <th>...</th>\n",
       "      <th>...</th>\n",
       "      <td>...</td>\n",
       "      <td>...</td>\n",
       "      <td>...</td>\n",
       "      <td>...</td>\n",
       "      <td>...</td>\n",
       "    </tr>\n",
       "    <tr>\n",
       "      <th rowspan=\"5\" valign=\"top\">September</th>\n",
       "      <th rowspan=\"5\" valign=\"top\">2024</th>\n",
       "      <th>45.0</th>\n",
       "      <td>0</td>\n",
       "      <td>0</td>\n",
       "      <td>0</td>\n",
       "      <td>0</td>\n",
       "      <td>0</td>\n",
       "    </tr>\n",
       "    <tr>\n",
       "      <th>50.0</th>\n",
       "      <td>0</td>\n",
       "      <td>0</td>\n",
       "      <td>0</td>\n",
       "      <td>0</td>\n",
       "      <td>0</td>\n",
       "    </tr>\n",
       "    <tr>\n",
       "      <th>55.0</th>\n",
       "      <td>0</td>\n",
       "      <td>0</td>\n",
       "      <td>0</td>\n",
       "      <td>0</td>\n",
       "      <td>0</td>\n",
       "    </tr>\n",
       "    <tr>\n",
       "      <th>60.0</th>\n",
       "      <td>0</td>\n",
       "      <td>0</td>\n",
       "      <td>0</td>\n",
       "      <td>0</td>\n",
       "      <td>0</td>\n",
       "    </tr>\n",
       "    <tr>\n",
       "      <th>65.0</th>\n",
       "      <td>0</td>\n",
       "      <td>0</td>\n",
       "      <td>0</td>\n",
       "      <td>0</td>\n",
       "      <td>0</td>\n",
       "    </tr>\n",
       "  </tbody>\n",
       "</table>\n",
       "<p>598 rows × 5 columns</p>\n",
       "</div>"
      ],
      "text/plain": [
       "                                Date  Time  temperature_in_celsius  \\\n",
       "Month     Year ARTHUR_WaitTime                                       \n",
       "April     2022 -4.0                0     0                     382   \n",
       "               -3.0                0     0                      39   \n",
       "                1.0                0     0                     422   \n",
       "                5.0                0     0                     239   \n",
       "                10.0               0     0                     124   \n",
       "...                              ...   ...                     ...   \n",
       "September 2024  45.0               0     0                       0   \n",
       "                50.0               0     0                       0   \n",
       "                55.0               0     0                       0   \n",
       "                60.0               0     0                       0   \n",
       "                65.0               0     0                       0   \n",
       "\n",
       "                                precipitation_in_percent  wind_speed_in_kmh  \n",
       "Month     Year ARTHUR_WaitTime                                               \n",
       "April     2022 -4.0                                  382                382  \n",
       "               -3.0                                   39                 39  \n",
       "                1.0                                  422                422  \n",
       "                5.0                                  239                239  \n",
       "                10.0                                 124                124  \n",
       "...                                                  ...                ...  \n",
       "September 2024  45.0                                   0                  0  \n",
       "                50.0                                   0                  0  \n",
       "                55.0                                   0                  0  \n",
       "                60.0                                   0                  0  \n",
       "                65.0                                   0                  0  \n",
       "\n",
       "[598 rows x 5 columns]"
      ]
     },
     "execution_count": 162,
     "metadata": {},
     "output_type": "execute_result"
    }
   ],
   "source": [
    "gb"
   ]
  },
  {
   "cell_type": "code",
   "execution_count": 163,
   "metadata": {},
   "outputs": [
    {
     "data": {
      "text/plain": [
       "Index(['ARTHUR_WaitTime', 'Month', 'Year', 'Date', 'Time',\n",
       "       'temperature_in_celsius', 'precipitation_in_percent',\n",
       "       'wind_speed_in_kmh'],\n",
       "      dtype='object')"
      ]
     },
     "execution_count": 163,
     "metadata": {},
     "output_type": "execute_result"
    }
   ],
   "source": [
    "final_merged.columns"
   ]
  },
  {
   "cell_type": "code",
   "execution_count": 164,
   "metadata": {},
   "outputs": [],
   "source": [
    "final_merged.to_csv(\"final_df.csv\")"
   ]
  },
  {
   "cell_type": "code",
   "execution_count": 165,
   "metadata": {},
   "outputs": [
    {
     "data": {
      "text/plain": [
       "<bound method DataFrame.groupby of         ARTHUR_WaitTime  Month  Year        Date   Time  \\\n",
       "0                  -4.0  April  2022  2022-04-01  08:15   \n",
       "1                  -4.0  April  2022  2022-04-01  08:20   \n",
       "2                  -4.0  April  2022  2022-04-01  08:25   \n",
       "3                  -4.0  April  2022  2022-04-01  08:30   \n",
       "4                  -4.0  April  2022  2022-04-01  08:35   \n",
       "...                 ...    ...   ...         ...    ...   \n",
       "549599             -4.0  March  2025  2025-03-31  18:11   \n",
       "549600             -4.0  March  2025  2025-03-31  18:12   \n",
       "549601             -4.0  March  2025  2025-03-31  18:13   \n",
       "549602             -4.0  March  2025  2025-03-31  18:14   \n",
       "549603             -4.0  March  2025  2025-03-31  18:15   \n",
       "\n",
       "        temperature_in_celsius  precipitation_in_percent  wind_speed_in_kmh  \n",
       "0                          NaN                       NaN                NaN  \n",
       "1                          NaN                       NaN                NaN  \n",
       "2                          NaN                       NaN                NaN  \n",
       "3                          NaN                       NaN                NaN  \n",
       "4                          NaN                       NaN                NaN  \n",
       "...                        ...                       ...                ...  \n",
       "549599                    11.9                      10.0               15.0  \n",
       "549600                    11.9                      10.0               15.0  \n",
       "549601                    11.9                      10.0               15.0  \n",
       "549602                    11.9                      10.0               15.0  \n",
       "549603                    11.9                      10.0               15.0  \n",
       "\n",
       "[549604 rows x 8 columns]>"
      ]
     },
     "execution_count": 165,
     "metadata": {},
     "output_type": "execute_result"
    }
   ],
   "source": [
    "final_merged.groupby"
   ]
  },
  {
   "cell_type": "code",
   "execution_count": 166,
   "metadata": {},
   "outputs": [],
   "source": [
    "df = pd.read_csv(output_file)"
   ]
  },
  {
   "cell_type": "code",
   "execution_count": 167,
   "metadata": {},
   "outputs": [
    {
     "name": "stdout",
     "output_type": "stream",
     "text": [
      "                 Missing Count  Missing %\n",
      "ARTHUR_WaitTime           1454       0.26\n",
      "Time                      1454       0.26\n",
      "Month                        0       0.00\n",
      "Year                         0       0.00\n",
      "Date                         0       0.00\n"
     ]
    }
   ],
   "source": [
    "report_missing_values(df)"
   ]
  },
  {
   "attachments": {},
   "cell_type": "markdown",
   "metadata": {},
   "source": [
    "### Add a column for school holiday = 0 or 1 (true or false)"
   ]
  },
  {
   "cell_type": "code",
   "execution_count": 168,
   "metadata": {},
   "outputs": [],
   "source": [
    "school_holiday_df = pd.read_csv('/home/ms/hfu/ML/ML_Presentation_Workspace/EU_PARK/holidays/baden_wuerttemberg_school_holidays_2022_2026.csv')"
   ]
  },
  {
   "cell_type": "code",
   "execution_count": 169,
   "metadata": {},
   "outputs": [
    {
     "data": {
      "text/plain": [
       "Index(['Date', 'Holiday'], dtype='object')"
      ]
     },
     "execution_count": 169,
     "metadata": {},
     "output_type": "execute_result"
    }
   ],
   "source": [
    "school_holiday_df.columns"
   ]
  },
  {
   "cell_type": "code",
   "execution_count": 170,
   "metadata": {},
   "outputs": [
    {
     "data": {
      "text/plain": [
       "(360, 2)"
      ]
     },
     "execution_count": 170,
     "metadata": {},
     "output_type": "execute_result"
    }
   ],
   "source": [
    "school_holiday_df.shape"
   ]
  },
  {
   "cell_type": "code",
   "execution_count": 171,
   "metadata": {},
   "outputs": [
    {
     "data": {
      "text/html": [
       "<div>\n",
       "<style scoped>\n",
       "    .dataframe tbody tr th:only-of-type {\n",
       "        vertical-align: middle;\n",
       "    }\n",
       "\n",
       "    .dataframe tbody tr th {\n",
       "        vertical-align: top;\n",
       "    }\n",
       "\n",
       "    .dataframe thead th {\n",
       "        text-align: right;\n",
       "    }\n",
       "</style>\n",
       "<table border=\"1\" class=\"dataframe\">\n",
       "  <thead>\n",
       "    <tr style=\"text-align: right;\">\n",
       "      <th></th>\n",
       "      <th>Date</th>\n",
       "      <th>Holiday</th>\n",
       "    </tr>\n",
       "  </thead>\n",
       "  <tbody>\n",
       "    <tr>\n",
       "      <th>0</th>\n",
       "      <td>2022-01-01</td>\n",
       "      <td>Christmas</td>\n",
       "    </tr>\n",
       "    <tr>\n",
       "      <th>1</th>\n",
       "      <td>2022-01-02</td>\n",
       "      <td>Christmas</td>\n",
       "    </tr>\n",
       "    <tr>\n",
       "      <th>2</th>\n",
       "      <td>2022-01-03</td>\n",
       "      <td>Christmas</td>\n",
       "    </tr>\n",
       "    <tr>\n",
       "      <th>3</th>\n",
       "      <td>2022-01-04</td>\n",
       "      <td>Christmas</td>\n",
       "    </tr>\n",
       "    <tr>\n",
       "      <th>4</th>\n",
       "      <td>2022-01-05</td>\n",
       "      <td>Christmas</td>\n",
       "    </tr>\n",
       "  </tbody>\n",
       "</table>\n",
       "</div>"
      ],
      "text/plain": [
       "         Date    Holiday\n",
       "0  2022-01-01  Christmas\n",
       "1  2022-01-02  Christmas\n",
       "2  2022-01-03  Christmas\n",
       "3  2022-01-04  Christmas\n",
       "4  2022-01-05  Christmas"
      ]
     },
     "execution_count": 171,
     "metadata": {},
     "output_type": "execute_result"
    }
   ],
   "source": [
    "school_holiday_df.head()"
   ]
  },
  {
   "cell_type": "markdown",
   "metadata": {},
   "source": [
    "## Merge school holidays into final_merged\n"
   ]
  },
  {
   "cell_type": "code",
   "execution_count": 172,
   "metadata": {},
   "outputs": [
    {
     "name": "stdout",
     "output_type": "stream",
     "text": [
      "          Date  Is_School_Holiday\n",
      "0   2022-04-01                  0\n",
      "121 2022-04-02                  0\n",
      "248 2022-04-03                  0\n",
      "375 2022-04-04                  0\n",
      "496 2022-04-05                  0\n"
     ]
    }
   ],
   "source": [
    "import pandas as pd\n",
    "\n",
    "# 1. Convert both Date columns to datetime (if not already)\n",
    "school_holiday_df['Date'] = pd.to_datetime(school_holiday_df['Date'])\n",
    "final_merged['Date'] = pd.to_datetime(final_merged['Date'], errors='coerce')\n",
    "\n",
    "# 2. Do a left-merge with indicator\n",
    "final_merged = pd.merge(\n",
    "    final_merged,\n",
    "    school_holiday_df[['Date']],    # only need the Date column\n",
    "    on='Date',\n",
    "    how='left',\n",
    "    indicator=True                  # adds a '_merge' column\n",
    ")\n",
    "\n",
    "# 3. Create the flag column (1 if holiday, 0 otherwise)\n",
    "final_merged['Is_School_Holiday'] = (final_merged['_merge'] == 'both').astype(int)\n",
    "\n",
    "# 4. Drop the helper '_merge' column\n",
    "final_merged.drop(columns=['_merge'], inplace=True)\n",
    "\n",
    "# 5. (Optional) inspect result\n",
    "print(final_merged[['Date', 'Is_School_Holiday']].drop_duplicates().head())"
   ]
  },
  {
   "cell_type": "code",
   "execution_count": 173,
   "metadata": {},
   "outputs": [
    {
     "data": {
      "text/plain": [
       "Index(['ARTHUR_WaitTime', 'Month', 'Year', 'Date', 'Time',\n",
       "       'temperature_in_celsius', 'precipitation_in_percent',\n",
       "       'wind_speed_in_kmh', 'Is_School_Holiday'],\n",
       "      dtype='object')"
      ]
     },
     "execution_count": 173,
     "metadata": {},
     "output_type": "execute_result"
    }
   ],
   "source": [
    "final_merged.columns"
   ]
  },
  {
   "cell_type": "code",
   "execution_count": 174,
   "metadata": {},
   "outputs": [],
   "source": [
    "final_merged.to_csv(\"final_df.csv\")"
   ]
  },
  {
   "cell_type": "markdown",
   "metadata": {},
   "source": [
    "### Add column for public holiday =1 or 0"
   ]
  },
  {
   "cell_type": "code",
   "execution_count": 175,
   "metadata": {},
   "outputs": [],
   "source": [
    "public_holiday_df = pd.read_csv('/home/ms/hfu/ML/ML_Presentation_Workspace/EU_PARK/holidays/baden_wuerttemberg_public_holidays_2022_2025.csv')"
   ]
  },
  {
   "cell_type": "code",
   "execution_count": 176,
   "metadata": {},
   "outputs": [
    {
     "data": {
      "text/plain": [
       "Index(['Holiday Name', 'Date', 'Year'], dtype='object')"
      ]
     },
     "execution_count": 176,
     "metadata": {},
     "output_type": "execute_result"
    }
   ],
   "source": [
    "public_holiday_df.columns"
   ]
  },
  {
   "cell_type": "code",
   "execution_count": 177,
   "metadata": {},
   "outputs": [
    {
     "data": {
      "text/html": [
       "<div>\n",
       "<style scoped>\n",
       "    .dataframe tbody tr th:only-of-type {\n",
       "        vertical-align: middle;\n",
       "    }\n",
       "\n",
       "    .dataframe tbody tr th {\n",
       "        vertical-align: top;\n",
       "    }\n",
       "\n",
       "    .dataframe thead th {\n",
       "        text-align: right;\n",
       "    }\n",
       "</style>\n",
       "<table border=\"1\" class=\"dataframe\">\n",
       "  <thead>\n",
       "    <tr style=\"text-align: right;\">\n",
       "      <th></th>\n",
       "      <th>Holiday Name</th>\n",
       "      <th>Date</th>\n",
       "      <th>Year</th>\n",
       "    </tr>\n",
       "  </thead>\n",
       "  <tbody>\n",
       "    <tr>\n",
       "      <th>0</th>\n",
       "      <td>New Year's Day</td>\n",
       "      <td>2022-01-01 00:00:00</td>\n",
       "      <td>2022</td>\n",
       "    </tr>\n",
       "    <tr>\n",
       "      <th>1</th>\n",
       "      <td>Epiphany</td>\n",
       "      <td>2022-01-06 00:00:00</td>\n",
       "      <td>2022</td>\n",
       "    </tr>\n",
       "    <tr>\n",
       "      <th>2</th>\n",
       "      <td>Good Friday</td>\n",
       "      <td>2022-04-15 00:00:00</td>\n",
       "      <td>2022</td>\n",
       "    </tr>\n",
       "    <tr>\n",
       "      <th>3</th>\n",
       "      <td>Easter Monday</td>\n",
       "      <td>2022-04-18 00:00:00</td>\n",
       "      <td>2022</td>\n",
       "    </tr>\n",
       "    <tr>\n",
       "      <th>4</th>\n",
       "      <td>Labour Day</td>\n",
       "      <td>2022-05-01 00:00:00</td>\n",
       "      <td>2022</td>\n",
       "    </tr>\n",
       "  </tbody>\n",
       "</table>\n",
       "</div>"
      ],
      "text/plain": [
       "     Holiday Name                 Date  Year\n",
       "0  New Year's Day  2022-01-01 00:00:00  2022\n",
       "1        Epiphany  2022-01-06 00:00:00  2022\n",
       "2     Good Friday  2022-04-15 00:00:00  2022\n",
       "3   Easter Monday  2022-04-18 00:00:00  2022\n",
       "4      Labour Day  2022-05-01 00:00:00  2022"
      ]
     },
     "execution_count": 177,
     "metadata": {},
     "output_type": "execute_result"
    }
   ],
   "source": [
    "public_holiday_df.head()\n"
   ]
  },
  {
   "cell_type": "code",
   "execution_count": 178,
   "metadata": {},
   "outputs": [
    {
     "name": "stdout",
     "output_type": "stream",
     "text": [
      "          Date  Is_Public_Holiday\n",
      "0   2022-04-01                  0\n",
      "121 2022-04-02                  0\n",
      "248 2022-04-03                  0\n",
      "375 2022-04-04                  0\n",
      "496 2022-04-05                  0\n"
     ]
    }
   ],
   "source": [
    "\n",
    "\n",
    "# 1. Convert both Date columns to datetime (if not already)\n",
    "public_holiday_df['Date'] = pd.to_datetime(school_holiday_df['Date'])\n",
    "final_merged['Date'] = pd.to_datetime(final_merged['Date'], errors='coerce')\n",
    "\n",
    "# 2. Do a left-merge with indicator\n",
    "final_merged = pd.merge(\n",
    "    final_merged,\n",
    "    public_holiday_df[['Date']],    # only need the Date column\n",
    "    on='Date',\n",
    "    how='left',\n",
    "    indicator=True                  # adds a '_merge' column\n",
    ")\n",
    "\n",
    "# 3. Create the flag column (1 if holiday, 0 otherwise)\n",
    "final_merged['Is_Public_Holiday'] = (final_merged['_merge'] == 'both').astype(int)\n",
    "\n",
    "# 4. Drop the helper '_merge' column\n",
    "final_merged.drop(columns=['_merge'], inplace=True)\n",
    "\n",
    "# 5. (Optional) inspect result\n",
    "print(final_merged[['Date', 'Is_Public_Holiday']].drop_duplicates().head())"
   ]
  },
  {
   "cell_type": "code",
   "execution_count": 179,
   "metadata": {},
   "outputs": [
    {
     "data": {
      "text/plain": [
       "Index(['ARTHUR_WaitTime', 'Month', 'Year', 'Date', 'Time',\n",
       "       'temperature_in_celsius', 'precipitation_in_percent',\n",
       "       'wind_speed_in_kmh', 'Is_School_Holiday', 'Is_Public_Holiday'],\n",
       "      dtype='object')"
      ]
     },
     "execution_count": 179,
     "metadata": {},
     "output_type": "execute_result"
    }
   ],
   "source": [
    "final_merged.columns"
   ]
  },
  {
   "cell_type": "code",
   "execution_count": 180,
   "metadata": {},
   "outputs": [],
   "source": [
    "final_merged.to_csv(\"final_df.csv\")"
   ]
  },
  {
   "cell_type": "markdown",
   "metadata": {},
   "source": [
    "###EDA"
   ]
  },
  {
   "cell_type": "code",
   "execution_count": 181,
   "metadata": {},
   "outputs": [
    {
     "name": "stdout",
     "output_type": "stream",
     "text": [
      "<class 'pandas.core.frame.DataFrame'>\n",
      "RangeIndex: 549604 entries, 0 to 549603\n",
      "Data columns (total 10 columns):\n",
      " #   Column                    Non-Null Count   Dtype         \n",
      "---  ------                    --------------   -----         \n",
      " 0   ARTHUR_WaitTime           547268 non-null  float64       \n",
      " 1   Month                     549604 non-null  object        \n",
      " 2   Year                      549604 non-null  int64         \n",
      " 3   Date                      548768 non-null  datetime64[ns]\n",
      " 4   Time                      548768 non-null  object        \n",
      " 5   temperature_in_celsius    463776 non-null  float64       \n",
      " 6   precipitation_in_percent  463776 non-null  float64       \n",
      " 7   wind_speed_in_kmh         463776 non-null  float64       \n",
      " 8   Is_School_Holiday         549604 non-null  int64         \n",
      " 9   Is_Public_Holiday         549604 non-null  int64         \n",
      "dtypes: datetime64[ns](1), float64(4), int64(3), object(2)\n",
      "memory usage: 41.9+ MB\n"
     ]
    }
   ],
   "source": [
    "final_merged.info()\n"
   ]
  },
  {
   "cell_type": "code",
   "execution_count": 182,
   "metadata": {},
   "outputs": [
    {
     "data": {
      "text/html": [
       "<div>\n",
       "<style scoped>\n",
       "    .dataframe tbody tr th:only-of-type {\n",
       "        vertical-align: middle;\n",
       "    }\n",
       "\n",
       "    .dataframe tbody tr th {\n",
       "        vertical-align: top;\n",
       "    }\n",
       "\n",
       "    .dataframe thead th {\n",
       "        text-align: right;\n",
       "    }\n",
       "</style>\n",
       "<table border=\"1\" class=\"dataframe\">\n",
       "  <thead>\n",
       "    <tr style=\"text-align: right;\">\n",
       "      <th></th>\n",
       "      <th>ARTHUR_WaitTime</th>\n",
       "      <th>Month</th>\n",
       "      <th>Year</th>\n",
       "      <th>Date</th>\n",
       "      <th>Time</th>\n",
       "      <th>temperature_in_celsius</th>\n",
       "      <th>precipitation_in_percent</th>\n",
       "      <th>wind_speed_in_kmh</th>\n",
       "      <th>Is_School_Holiday</th>\n",
       "      <th>Is_Public_Holiday</th>\n",
       "    </tr>\n",
       "  </thead>\n",
       "  <tbody>\n",
       "    <tr>\n",
       "      <th>0</th>\n",
       "      <td>-4.0</td>\n",
       "      <td>April</td>\n",
       "      <td>2022</td>\n",
       "      <td>2022-04-01</td>\n",
       "      <td>08:15</td>\n",
       "      <td>NaN</td>\n",
       "      <td>NaN</td>\n",
       "      <td>NaN</td>\n",
       "      <td>0</td>\n",
       "      <td>0</td>\n",
       "    </tr>\n",
       "    <tr>\n",
       "      <th>1</th>\n",
       "      <td>-4.0</td>\n",
       "      <td>April</td>\n",
       "      <td>2022</td>\n",
       "      <td>2022-04-01</td>\n",
       "      <td>08:20</td>\n",
       "      <td>NaN</td>\n",
       "      <td>NaN</td>\n",
       "      <td>NaN</td>\n",
       "      <td>0</td>\n",
       "      <td>0</td>\n",
       "    </tr>\n",
       "    <tr>\n",
       "      <th>2</th>\n",
       "      <td>-4.0</td>\n",
       "      <td>April</td>\n",
       "      <td>2022</td>\n",
       "      <td>2022-04-01</td>\n",
       "      <td>08:25</td>\n",
       "      <td>NaN</td>\n",
       "      <td>NaN</td>\n",
       "      <td>NaN</td>\n",
       "      <td>0</td>\n",
       "      <td>0</td>\n",
       "    </tr>\n",
       "    <tr>\n",
       "      <th>3</th>\n",
       "      <td>-4.0</td>\n",
       "      <td>April</td>\n",
       "      <td>2022</td>\n",
       "      <td>2022-04-01</td>\n",
       "      <td>08:30</td>\n",
       "      <td>NaN</td>\n",
       "      <td>NaN</td>\n",
       "      <td>NaN</td>\n",
       "      <td>0</td>\n",
       "      <td>0</td>\n",
       "    </tr>\n",
       "    <tr>\n",
       "      <th>4</th>\n",
       "      <td>-4.0</td>\n",
       "      <td>April</td>\n",
       "      <td>2022</td>\n",
       "      <td>2022-04-01</td>\n",
       "      <td>08:35</td>\n",
       "      <td>NaN</td>\n",
       "      <td>NaN</td>\n",
       "      <td>NaN</td>\n",
       "      <td>0</td>\n",
       "      <td>0</td>\n",
       "    </tr>\n",
       "  </tbody>\n",
       "</table>\n",
       "</div>"
      ],
      "text/plain": [
       "   ARTHUR_WaitTime  Month  Year       Date   Time  temperature_in_celsius  \\\n",
       "0             -4.0  April  2022 2022-04-01  08:15                     NaN   \n",
       "1             -4.0  April  2022 2022-04-01  08:20                     NaN   \n",
       "2             -4.0  April  2022 2022-04-01  08:25                     NaN   \n",
       "3             -4.0  April  2022 2022-04-01  08:30                     NaN   \n",
       "4             -4.0  April  2022 2022-04-01  08:35                     NaN   \n",
       "\n",
       "   precipitation_in_percent  wind_speed_in_kmh  Is_School_Holiday  \\\n",
       "0                       NaN                NaN                  0   \n",
       "1                       NaN                NaN                  0   \n",
       "2                       NaN                NaN                  0   \n",
       "3                       NaN                NaN                  0   \n",
       "4                       NaN                NaN                  0   \n",
       "\n",
       "   Is_Public_Holiday  \n",
       "0                  0  \n",
       "1                  0  \n",
       "2                  0  \n",
       "3                  0  \n",
       "4                  0  "
      ]
     },
     "execution_count": 182,
     "metadata": {},
     "output_type": "execute_result"
    }
   ],
   "source": [
    "final_merged.head()\n"
   ]
  },
  {
   "cell_type": "code",
   "execution_count": 183,
   "metadata": {},
   "outputs": [
    {
     "data": {
      "text/html": [
       "<div>\n",
       "<style scoped>\n",
       "    .dataframe tbody tr th:only-of-type {\n",
       "        vertical-align: middle;\n",
       "    }\n",
       "\n",
       "    .dataframe tbody tr th {\n",
       "        vertical-align: top;\n",
       "    }\n",
       "\n",
       "    .dataframe thead th {\n",
       "        text-align: right;\n",
       "    }\n",
       "</style>\n",
       "<table border=\"1\" class=\"dataframe\">\n",
       "  <thead>\n",
       "    <tr style=\"text-align: right;\">\n",
       "      <th></th>\n",
       "      <th>ARTHUR_WaitTime</th>\n",
       "      <th>Month</th>\n",
       "      <th>Year</th>\n",
       "      <th>Date</th>\n",
       "      <th>Time</th>\n",
       "      <th>temperature_in_celsius</th>\n",
       "      <th>precipitation_in_percent</th>\n",
       "      <th>wind_speed_in_kmh</th>\n",
       "      <th>Is_School_Holiday</th>\n",
       "      <th>Is_Public_Holiday</th>\n",
       "    </tr>\n",
       "  </thead>\n",
       "  <tbody>\n",
       "    <tr>\n",
       "      <th>549599</th>\n",
       "      <td>-4.0</td>\n",
       "      <td>March</td>\n",
       "      <td>2025</td>\n",
       "      <td>2025-03-31</td>\n",
       "      <td>18:11</td>\n",
       "      <td>11.9</td>\n",
       "      <td>10.0</td>\n",
       "      <td>15.0</td>\n",
       "      <td>0</td>\n",
       "      <td>0</td>\n",
       "    </tr>\n",
       "    <tr>\n",
       "      <th>549600</th>\n",
       "      <td>-4.0</td>\n",
       "      <td>March</td>\n",
       "      <td>2025</td>\n",
       "      <td>2025-03-31</td>\n",
       "      <td>18:12</td>\n",
       "      <td>11.9</td>\n",
       "      <td>10.0</td>\n",
       "      <td>15.0</td>\n",
       "      <td>0</td>\n",
       "      <td>0</td>\n",
       "    </tr>\n",
       "    <tr>\n",
       "      <th>549601</th>\n",
       "      <td>-4.0</td>\n",
       "      <td>March</td>\n",
       "      <td>2025</td>\n",
       "      <td>2025-03-31</td>\n",
       "      <td>18:13</td>\n",
       "      <td>11.9</td>\n",
       "      <td>10.0</td>\n",
       "      <td>15.0</td>\n",
       "      <td>0</td>\n",
       "      <td>0</td>\n",
       "    </tr>\n",
       "    <tr>\n",
       "      <th>549602</th>\n",
       "      <td>-4.0</td>\n",
       "      <td>March</td>\n",
       "      <td>2025</td>\n",
       "      <td>2025-03-31</td>\n",
       "      <td>18:14</td>\n",
       "      <td>11.9</td>\n",
       "      <td>10.0</td>\n",
       "      <td>15.0</td>\n",
       "      <td>0</td>\n",
       "      <td>0</td>\n",
       "    </tr>\n",
       "    <tr>\n",
       "      <th>549603</th>\n",
       "      <td>-4.0</td>\n",
       "      <td>March</td>\n",
       "      <td>2025</td>\n",
       "      <td>2025-03-31</td>\n",
       "      <td>18:15</td>\n",
       "      <td>11.9</td>\n",
       "      <td>10.0</td>\n",
       "      <td>15.0</td>\n",
       "      <td>0</td>\n",
       "      <td>0</td>\n",
       "    </tr>\n",
       "  </tbody>\n",
       "</table>\n",
       "</div>"
      ],
      "text/plain": [
       "        ARTHUR_WaitTime  Month  Year       Date   Time  \\\n",
       "549599             -4.0  March  2025 2025-03-31  18:11   \n",
       "549600             -4.0  March  2025 2025-03-31  18:12   \n",
       "549601             -4.0  March  2025 2025-03-31  18:13   \n",
       "549602             -4.0  March  2025 2025-03-31  18:14   \n",
       "549603             -4.0  March  2025 2025-03-31  18:15   \n",
       "\n",
       "        temperature_in_celsius  precipitation_in_percent  wind_speed_in_kmh  \\\n",
       "549599                    11.9                      10.0               15.0   \n",
       "549600                    11.9                      10.0               15.0   \n",
       "549601                    11.9                      10.0               15.0   \n",
       "549602                    11.9                      10.0               15.0   \n",
       "549603                    11.9                      10.0               15.0   \n",
       "\n",
       "        Is_School_Holiday  Is_Public_Holiday  \n",
       "549599                  0                  0  \n",
       "549600                  0                  0  \n",
       "549601                  0                  0  \n",
       "549602                  0                  0  \n",
       "549603                  0                  0  "
      ]
     },
     "execution_count": 183,
     "metadata": {},
     "output_type": "execute_result"
    }
   ],
   "source": [
    "final_merged.tail()\n"
   ]
  },
  {
   "cell_type": "code",
   "execution_count": 184,
   "metadata": {},
   "outputs": [
    {
     "data": {
      "text/plain": [
       "(549604, 10)"
      ]
     },
     "execution_count": 184,
     "metadata": {},
     "output_type": "execute_result"
    }
   ],
   "source": [
    "final_merged.shape"
   ]
  },
  {
   "cell_type": "code",
   "execution_count": 185,
   "metadata": {},
   "outputs": [
    {
     "data": {
      "text/html": [
       "<div>\n",
       "<style scoped>\n",
       "    .dataframe tbody tr th:only-of-type {\n",
       "        vertical-align: middle;\n",
       "    }\n",
       "\n",
       "    .dataframe tbody tr th {\n",
       "        vertical-align: top;\n",
       "    }\n",
       "\n",
       "    .dataframe thead th {\n",
       "        text-align: right;\n",
       "    }\n",
       "</style>\n",
       "<table border=\"1\" class=\"dataframe\">\n",
       "  <thead>\n",
       "    <tr style=\"text-align: right;\">\n",
       "      <th></th>\n",
       "      <th>ARTHUR_WaitTime</th>\n",
       "      <th>Year</th>\n",
       "      <th>Date</th>\n",
       "      <th>temperature_in_celsius</th>\n",
       "      <th>precipitation_in_percent</th>\n",
       "      <th>wind_speed_in_kmh</th>\n",
       "      <th>Is_School_Holiday</th>\n",
       "      <th>Is_Public_Holiday</th>\n",
       "    </tr>\n",
       "  </thead>\n",
       "  <tbody>\n",
       "    <tr>\n",
       "      <th>count</th>\n",
       "      <td>547268.000000</td>\n",
       "      <td>549604.000000</td>\n",
       "      <td>548768</td>\n",
       "      <td>463776.000000</td>\n",
       "      <td>463776.000000</td>\n",
       "      <td>463776.000000</td>\n",
       "      <td>549604.000000</td>\n",
       "      <td>549604.000000</td>\n",
       "    </tr>\n",
       "    <tr>\n",
       "      <th>mean</th>\n",
       "      <td>24.365812</td>\n",
       "      <td>2023.231501</td>\n",
       "      <td>2023-10-27 12:57:01.878826752</td>\n",
       "      <td>15.718453</td>\n",
       "      <td>26.695064</td>\n",
       "      <td>13.889572</td>\n",
       "      <td>0.311603</td>\n",
       "      <td>0.028937</td>\n",
       "    </tr>\n",
       "    <tr>\n",
       "      <th>min</th>\n",
       "      <td>-4.000000</td>\n",
       "      <td>2022.000000</td>\n",
       "      <td>2022-04-01 00:00:00</td>\n",
       "      <td>-8.100000</td>\n",
       "      <td>0.000000</td>\n",
       "      <td>5.000000</td>\n",
       "      <td>0.000000</td>\n",
       "      <td>0.000000</td>\n",
       "    </tr>\n",
       "    <tr>\n",
       "      <th>25%</th>\n",
       "      <td>15.000000</td>\n",
       "      <td>2023.000000</td>\n",
       "      <td>2023-01-08 00:00:00</td>\n",
       "      <td>10.200000</td>\n",
       "      <td>10.000000</td>\n",
       "      <td>5.000000</td>\n",
       "      <td>0.000000</td>\n",
       "      <td>0.000000</td>\n",
       "    </tr>\n",
       "    <tr>\n",
       "      <th>50%</th>\n",
       "      <td>25.000000</td>\n",
       "      <td>2023.000000</td>\n",
       "      <td>2023-10-11 00:00:00</td>\n",
       "      <td>15.600000</td>\n",
       "      <td>30.000000</td>\n",
       "      <td>10.000000</td>\n",
       "      <td>0.000000</td>\n",
       "      <td>0.000000</td>\n",
       "    </tr>\n",
       "    <tr>\n",
       "      <th>75%</th>\n",
       "      <td>35.000000</td>\n",
       "      <td>2024.000000</td>\n",
       "      <td>2024-07-25 00:00:00</td>\n",
       "      <td>21.600000</td>\n",
       "      <td>30.000000</td>\n",
       "      <td>15.000000</td>\n",
       "      <td>1.000000</td>\n",
       "      <td>0.000000</td>\n",
       "    </tr>\n",
       "    <tr>\n",
       "      <th>max</th>\n",
       "      <td>91.000000</td>\n",
       "      <td>2025.000000</td>\n",
       "      <td>2025-04-30 00:00:00</td>\n",
       "      <td>36.300000</td>\n",
       "      <td>95.000000</td>\n",
       "      <td>70.000000</td>\n",
       "      <td>1.000000</td>\n",
       "      <td>1.000000</td>\n",
       "    </tr>\n",
       "    <tr>\n",
       "      <th>std</th>\n",
       "      <td>15.866329</td>\n",
       "      <td>0.888536</td>\n",
       "      <td>NaN</td>\n",
       "      <td>7.772595</td>\n",
       "      <td>19.392560</td>\n",
       "      <td>11.390221</td>\n",
       "      <td>0.463149</td>\n",
       "      <td>0.167630</td>\n",
       "    </tr>\n",
       "  </tbody>\n",
       "</table>\n",
       "</div>"
      ],
      "text/plain": [
       "       ARTHUR_WaitTime           Year                           Date  \\\n",
       "count    547268.000000  549604.000000                         548768   \n",
       "mean         24.365812    2023.231501  2023-10-27 12:57:01.878826752   \n",
       "min          -4.000000    2022.000000            2022-04-01 00:00:00   \n",
       "25%          15.000000    2023.000000            2023-01-08 00:00:00   \n",
       "50%          25.000000    2023.000000            2023-10-11 00:00:00   \n",
       "75%          35.000000    2024.000000            2024-07-25 00:00:00   \n",
       "max          91.000000    2025.000000            2025-04-30 00:00:00   \n",
       "std          15.866329       0.888536                            NaN   \n",
       "\n",
       "       temperature_in_celsius  precipitation_in_percent  wind_speed_in_kmh  \\\n",
       "count           463776.000000             463776.000000      463776.000000   \n",
       "mean                15.718453                 26.695064          13.889572   \n",
       "min                 -8.100000                  0.000000           5.000000   \n",
       "25%                 10.200000                 10.000000           5.000000   \n",
       "50%                 15.600000                 30.000000          10.000000   \n",
       "75%                 21.600000                 30.000000          15.000000   \n",
       "max                 36.300000                 95.000000          70.000000   \n",
       "std                  7.772595                 19.392560          11.390221   \n",
       "\n",
       "       Is_School_Holiday  Is_Public_Holiday  \n",
       "count      549604.000000      549604.000000  \n",
       "mean            0.311603           0.028937  \n",
       "min             0.000000           0.000000  \n",
       "25%             0.000000           0.000000  \n",
       "50%             0.000000           0.000000  \n",
       "75%             1.000000           0.000000  \n",
       "max             1.000000           1.000000  \n",
       "std             0.463149           0.167630  "
      ]
     },
     "execution_count": 185,
     "metadata": {},
     "output_type": "execute_result"
    }
   ],
   "source": [
    "final_merged.describe()"
   ]
  },
  {
   "cell_type": "code",
   "execution_count": 186,
   "metadata": {},
   "outputs": [
    {
     "data": {
      "text/html": [
       "<div>\n",
       "<style scoped>\n",
       "    .dataframe tbody tr th:only-of-type {\n",
       "        vertical-align: middle;\n",
       "    }\n",
       "\n",
       "    .dataframe tbody tr th {\n",
       "        vertical-align: top;\n",
       "    }\n",
       "\n",
       "    .dataframe thead th {\n",
       "        text-align: right;\n",
       "    }\n",
       "</style>\n",
       "<table border=\"1\" class=\"dataframe\">\n",
       "  <thead>\n",
       "    <tr style=\"text-align: right;\">\n",
       "      <th></th>\n",
       "      <th>ARTHUR_WaitTime</th>\n",
       "      <th>Month</th>\n",
       "      <th>Year</th>\n",
       "      <th>Date</th>\n",
       "      <th>Time</th>\n",
       "      <th>temperature_in_celsius</th>\n",
       "      <th>precipitation_in_percent</th>\n",
       "      <th>wind_speed_in_kmh</th>\n",
       "      <th>Is_School_Holiday</th>\n",
       "      <th>Is_Public_Holiday</th>\n",
       "    </tr>\n",
       "  </thead>\n",
       "  <tbody>\n",
       "    <tr>\n",
       "      <th>count</th>\n",
       "      <td>547268.000000</td>\n",
       "      <td>549604</td>\n",
       "      <td>549604.000000</td>\n",
       "      <td>548768</td>\n",
       "      <td>548768</td>\n",
       "      <td>463776.000000</td>\n",
       "      <td>463776.000000</td>\n",
       "      <td>463776.000000</td>\n",
       "      <td>549604.000000</td>\n",
       "      <td>549604.000000</td>\n",
       "    </tr>\n",
       "    <tr>\n",
       "      <th>unique</th>\n",
       "      <td>NaN</td>\n",
       "      <td>11</td>\n",
       "      <td>NaN</td>\n",
       "      <td>NaN</td>\n",
       "      <td>962</td>\n",
       "      <td>NaN</td>\n",
       "      <td>NaN</td>\n",
       "      <td>NaN</td>\n",
       "      <td>NaN</td>\n",
       "      <td>NaN</td>\n",
       "    </tr>\n",
       "    <tr>\n",
       "      <th>top</th>\n",
       "      <td>NaN</td>\n",
       "      <td>August</td>\n",
       "      <td>NaN</td>\n",
       "      <td>NaN</td>\n",
       "      <td>11:05</td>\n",
       "      <td>NaN</td>\n",
       "      <td>NaN</td>\n",
       "      <td>NaN</td>\n",
       "      <td>NaN</td>\n",
       "      <td>NaN</td>\n",
       "    </tr>\n",
       "    <tr>\n",
       "      <th>freq</th>\n",
       "      <td>NaN</td>\n",
       "      <td>64994</td>\n",
       "      <td>NaN</td>\n",
       "      <td>NaN</td>\n",
       "      <td>911</td>\n",
       "      <td>NaN</td>\n",
       "      <td>NaN</td>\n",
       "      <td>NaN</td>\n",
       "      <td>NaN</td>\n",
       "      <td>NaN</td>\n",
       "    </tr>\n",
       "    <tr>\n",
       "      <th>mean</th>\n",
       "      <td>24.365812</td>\n",
       "      <td>NaN</td>\n",
       "      <td>2023.231501</td>\n",
       "      <td>2023-10-27 12:57:01.878826752</td>\n",
       "      <td>NaN</td>\n",
       "      <td>15.718453</td>\n",
       "      <td>26.695064</td>\n",
       "      <td>13.889572</td>\n",
       "      <td>0.311603</td>\n",
       "      <td>0.028937</td>\n",
       "    </tr>\n",
       "    <tr>\n",
       "      <th>min</th>\n",
       "      <td>-4.000000</td>\n",
       "      <td>NaN</td>\n",
       "      <td>2022.000000</td>\n",
       "      <td>2022-04-01 00:00:00</td>\n",
       "      <td>NaN</td>\n",
       "      <td>-8.100000</td>\n",
       "      <td>0.000000</td>\n",
       "      <td>5.000000</td>\n",
       "      <td>0.000000</td>\n",
       "      <td>0.000000</td>\n",
       "    </tr>\n",
       "    <tr>\n",
       "      <th>25%</th>\n",
       "      <td>15.000000</td>\n",
       "      <td>NaN</td>\n",
       "      <td>2023.000000</td>\n",
       "      <td>2023-01-08 00:00:00</td>\n",
       "      <td>NaN</td>\n",
       "      <td>10.200000</td>\n",
       "      <td>10.000000</td>\n",
       "      <td>5.000000</td>\n",
       "      <td>0.000000</td>\n",
       "      <td>0.000000</td>\n",
       "    </tr>\n",
       "    <tr>\n",
       "      <th>50%</th>\n",
       "      <td>25.000000</td>\n",
       "      <td>NaN</td>\n",
       "      <td>2023.000000</td>\n",
       "      <td>2023-10-11 00:00:00</td>\n",
       "      <td>NaN</td>\n",
       "      <td>15.600000</td>\n",
       "      <td>30.000000</td>\n",
       "      <td>10.000000</td>\n",
       "      <td>0.000000</td>\n",
       "      <td>0.000000</td>\n",
       "    </tr>\n",
       "    <tr>\n",
       "      <th>75%</th>\n",
       "      <td>35.000000</td>\n",
       "      <td>NaN</td>\n",
       "      <td>2024.000000</td>\n",
       "      <td>2024-07-25 00:00:00</td>\n",
       "      <td>NaN</td>\n",
       "      <td>21.600000</td>\n",
       "      <td>30.000000</td>\n",
       "      <td>15.000000</td>\n",
       "      <td>1.000000</td>\n",
       "      <td>0.000000</td>\n",
       "    </tr>\n",
       "    <tr>\n",
       "      <th>max</th>\n",
       "      <td>91.000000</td>\n",
       "      <td>NaN</td>\n",
       "      <td>2025.000000</td>\n",
       "      <td>2025-04-30 00:00:00</td>\n",
       "      <td>NaN</td>\n",
       "      <td>36.300000</td>\n",
       "      <td>95.000000</td>\n",
       "      <td>70.000000</td>\n",
       "      <td>1.000000</td>\n",
       "      <td>1.000000</td>\n",
       "    </tr>\n",
       "    <tr>\n",
       "      <th>std</th>\n",
       "      <td>15.866329</td>\n",
       "      <td>NaN</td>\n",
       "      <td>0.888536</td>\n",
       "      <td>NaN</td>\n",
       "      <td>NaN</td>\n",
       "      <td>7.772595</td>\n",
       "      <td>19.392560</td>\n",
       "      <td>11.390221</td>\n",
       "      <td>0.463149</td>\n",
       "      <td>0.167630</td>\n",
       "    </tr>\n",
       "  </tbody>\n",
       "</table>\n",
       "</div>"
      ],
      "text/plain": [
       "        ARTHUR_WaitTime   Month           Year                           Date  \\\n",
       "count     547268.000000  549604  549604.000000                         548768   \n",
       "unique              NaN      11            NaN                            NaN   \n",
       "top                 NaN  August            NaN                            NaN   \n",
       "freq                NaN   64994            NaN                            NaN   \n",
       "mean          24.365812     NaN    2023.231501  2023-10-27 12:57:01.878826752   \n",
       "min           -4.000000     NaN    2022.000000            2022-04-01 00:00:00   \n",
       "25%           15.000000     NaN    2023.000000            2023-01-08 00:00:00   \n",
       "50%           25.000000     NaN    2023.000000            2023-10-11 00:00:00   \n",
       "75%           35.000000     NaN    2024.000000            2024-07-25 00:00:00   \n",
       "max           91.000000     NaN    2025.000000            2025-04-30 00:00:00   \n",
       "std           15.866329     NaN       0.888536                            NaN   \n",
       "\n",
       "          Time  temperature_in_celsius  precipitation_in_percent  \\\n",
       "count   548768           463776.000000             463776.000000   \n",
       "unique     962                     NaN                       NaN   \n",
       "top      11:05                     NaN                       NaN   \n",
       "freq       911                     NaN                       NaN   \n",
       "mean       NaN               15.718453                 26.695064   \n",
       "min        NaN               -8.100000                  0.000000   \n",
       "25%        NaN               10.200000                 10.000000   \n",
       "50%        NaN               15.600000                 30.000000   \n",
       "75%        NaN               21.600000                 30.000000   \n",
       "max        NaN               36.300000                 95.000000   \n",
       "std        NaN                7.772595                 19.392560   \n",
       "\n",
       "        wind_speed_in_kmh  Is_School_Holiday  Is_Public_Holiday  \n",
       "count       463776.000000      549604.000000      549604.000000  \n",
       "unique                NaN                NaN                NaN  \n",
       "top                   NaN                NaN                NaN  \n",
       "freq                  NaN                NaN                NaN  \n",
       "mean            13.889572           0.311603           0.028937  \n",
       "min              5.000000           0.000000           0.000000  \n",
       "25%              5.000000           0.000000           0.000000  \n",
       "50%             10.000000           0.000000           0.000000  \n",
       "75%             15.000000           1.000000           0.000000  \n",
       "max             70.000000           1.000000           1.000000  \n",
       "std             11.390221           0.463149           0.167630  "
      ]
     },
     "execution_count": 186,
     "metadata": {},
     "output_type": "execute_result"
    }
   ],
   "source": [
    "final_merged.describe(include='all')"
   ]
  },
  {
   "cell_type": "code",
   "execution_count": 188,
   "metadata": {},
   "outputs": [
    {
     "name": "stdout",
     "output_type": "stream",
     "text": [
      "                          Missing Count  Missing %\n",
      "temperature_in_celsius            85828      15.62\n",
      "precipitation_in_percent          85828      15.62\n",
      "wind_speed_in_kmh                 85828      15.62\n",
      "ARTHUR_WaitTime                    2336       0.43\n",
      "Date                                836       0.15\n",
      "Time                                836       0.15\n",
      "Month                                 0       0.00\n",
      "Year                                  0       0.00\n",
      "Is_School_Holiday                     0       0.00\n",
      "Is_Public_Holiday                     0       0.00\n"
     ]
    }
   ],
   "source": [
    "report_missing_values(final_merged)"
   ]
  },
  {
   "cell_type": "markdown",
   "metadata": {},
   "source": [
    "### Data visualization"
   ]
  },
  {
   "cell_type": "code",
   "execution_count": 196,
   "metadata": {},
   "outputs": [
    {
     "data": {
      "image/png": "[encoded data removed]",
      "text/plain": [
       "<Figure size 1000x600 with 1 Axes>"
      ]
     },
     "metadata": {},
     "output_type": "display_data"
    },
    {
     "data": {
      "image/png": "[encoded data removed]",
      "text/plain": [
       "<Figure size 1000x600 with 1 Axes>"
      ]
     },
     "metadata": {},
     "output_type": "display_data"
    }
   ],
   "source": [
    "import matplotlib.pyplot as plt\n",
    "import seaborn as sns\n",
    "# filepath: /home/ms/hfu/ML/ML_Presentation_Workspace/merge_df.ipynb\n",
    "# Add to a new cell\n",
    "import matplotlib.pyplot as plt\n",
    "import seaborn as sns\n",
    "\n",
    "# Example: Histogram for a wait time column (replace with an actual column name)\n",
    "# Identify wait time columns first\n",
    "wait_time_columns = [col for col in final_merged.columns if 'WaitTime' in col]\n",
    "if wait_time_columns:\n",
    "    plt.figure(figsize=(10, 6))\n",
    "    sns.histplot(final_merged[wait_time_columns[0]].dropna(), kde=True)\n",
    "    plt.title(f'Distribution of {wait_time_columns[0]}')\n",
    "    plt.xlabel('Wait Time')\n",
    "    plt.ylabel('Frequency')\n",
    "    plt.show()\n",
    "else:\n",
    "    print(\"No wait time columns found to plot.\")\n",
    "\n",
    "\n",
    "# Example: Histogram for Temperature (if 'Temperature' column exists)\n",
    "if 'temperature_in_celsius' in final_merged.columns:\n",
    "    plt.figure(figsize=(10, 6))\n",
    "    sns.histplot(final_merged['temperature_in_celsius'].dropna(), kde=True)\n",
    "    plt.title('Distribution of Temperature')\n",
    "    plt.xlabel('Temperature')\n",
    "    plt.ylabel('Frequency')\n",
    "    plt.show()\n",
    "elif 'temp_value' in final_merged.columns: # Based on your merge_fn_wind_prec_temp\n",
    "    plt.figure(figsize=(10, 6))\n",
    "    sns.histplot(final_merged['temp_value'].dropna(), kde=True)\n",
    "    plt.title('Distribution of Temperature (temp_value)')\n",
    "    plt.xlabel('Temperature')\n",
    "    plt.ylabel('Frequency')\n",
    "    plt.show()\n",
    "else:\n",
    "    print(\"No 'Temperature' or 'temp_value' column found to plot.\")\n",
    "\n"
   ]
  },
  {
   "cell_type": "markdown",
   "metadata": {},
   "source": [
    "### Exploring Relationships Between Variables\n",
    "Let's examine how different variables relate to each other, particularly how weather conditions, holidays, and other factors might affect wait times."
   ]
  },
  {
   "cell_type": "code",
   "execution_count": 202,
   "metadata": {},
   "outputs": [
    {
     "data": {
      "image/png": "[encoded data removed]",
      "text/plain": [
       "<Figure size 1400x1000 with 2 Axes>"
      ]
     },
     "metadata": {},
     "output_type": "display_data"
    }
   ],
   "source": [
    "import numpy as np\n",
    "import pandas as pd\n",
    "import matplotlib.pyplot as plt\n",
    "import seaborn as sns\n",
    "\n",
    "# Select only numerical columns for correlation analysis\n",
    "# First, identify the numeric columns in the dataframe\n",
    "numeric_cols = final_merged.select_dtypes(include=[np.number]).columns.tolist()\n",
    "\n",
    "# Remove unnecessary numeric columns (like index) if they exist\n",
    "exclude_cols = []  # Add columns to exclude if needed\n",
    "numeric_cols = [col for col in numeric_cols if col not in exclude_cols]\n",
    "\n",
    "# Create a correlation matrix for these numeric columns\n",
    "if numeric_cols:\n",
    "    correlation_matrix = final_merged[numeric_cols].corr(method='pearson', numeric_only=True)\n",
    "    \n",
    "    # Plot the correlation matrix\n",
    "    plt.figure(figsize=(14, 10))\n",
    "    sns.heatmap(correlation_matrix, annot=True, cmap='coolwarm', fmt=\".2f\", linewidths=0.5)\n",
    "    plt.title('Correlation Matrix of Numerical Features')\n",
    "    plt.tight_layout()\n",
    "    plt.show()\n",
    "else:\n",
    "    print(\"No numerical columns found for correlation analysis\")"
   ]
  },
  {
   "cell_type": "code",
   "execution_count": 203,
   "metadata": {},
   "outputs": [
    {
     "data": {
      "image/png": "[encoded data removed]",
      "text/plain": [
       "<Figure size 1000x600 with 1 Axes>"
      ]
     },
     "metadata": {},
     "output_type": "display_data"
    },
    {
     "name": "stdout",
     "output_type": "stream",
     "text": [
      "Wait time statistics by school holiday status:\n",
      "  Is_School_Holiday       mean  median        std\n",
      "0       Regular Day  25.396353    25.0  14.020469\n",
      "1    School Holiday  31.504211    30.0  12.138321\n"
     ]
    }
   ],
   "source": [
    "# Explore relationship between wait time and holidays\n",
    "wait_time_columns = [col for col in final_merged.columns if 'WaitTime' in col]\n",
    "if wait_time_columns and 'Is_School_Holiday' in final_merged.columns:\n",
    "    # Pick a representative wait time column\n",
    "    wait_col = wait_time_columns[0]\n",
    "    \n",
    "    # Filter out values < 0 (probably maintenance or closed)\n",
    "    df_filtered = final_merged[final_merged[wait_col] >= 0].copy()\n",
    "    \n",
    "    # Calculate average wait time on school holidays vs regular days\n",
    "    avg_by_holiday = df_filtered.groupby('Is_School_Holiday')[wait_col].agg(['mean', 'median', 'std']).reset_index()\n",
    "    avg_by_holiday['Is_School_Holiday'] = avg_by_holiday['Is_School_Holiday'].map({0: 'Regular Day', 1: 'School Holiday'})\n",
    "    \n",
    "    plt.figure(figsize=(10, 6))\n",
    "    sns.barplot(x='Is_School_Holiday', y='mean', data=avg_by_holiday)\n",
    "    plt.title(f'Average {wait_col} by School Holiday Status')\n",
    "    plt.ylabel('Average Wait Time (minutes)')\n",
    "    plt.show()\n",
    "    \n",
    "    print(f\"Wait time statistics by school holiday status:\\n{avg_by_holiday}\")"
   ]
  },
  {
   "cell_type": "code",
   "execution_count": 206,
   "metadata": {},
   "outputs": [
    {
     "name": "stderr",
     "output_type": "stream",
     "text": [
      "/tmp/ipykernel_340526/2252718740.py:7: UserWarning: Could not infer format, so each element will be parsed individually, falling back to `dateutil`. To ensure parsing is consistent and as-expected, please specify a format.\n",
      "  df_time['Hour'] = pd.to_datetime(df_time['Time']).dt.hour\n"
     ]
    },
    {
     "data": {
      "image/png": "[encoded data removed]",
      "text/plain": [
       "<Figure size 1200x600 with 1 Axes>"
      ]
     },
     "metadata": {},
     "output_type": "display_data"
    }
   ],
   "source": [
    "# Explore wait time by time of day\n",
    "if wait_time_columns and 'Time' in final_merged.columns:\n",
    "    # Extract hour from time column\n",
    "    df_time = final_merged.copy()\n",
    "    try:\n",
    "        # Try to extract hour directly if Time is already properly formatted\n",
    "        df_time['Hour'] = pd.to_datetime(df_time['Time']).dt.hour\n",
    "    except:\n",
    "        # If that fails, try a different approach assuming 'Time' is a string like '10:30'\n",
    "        df_time['Hour'] = df_time['Time'].str.split(':', expand=True)[0].astype(int)\n",
    "    \n",
    "    # Filter out negative wait times\n",
    "    wait_col = wait_time_columns[0]\n",
    "    df_time = df_time[df_time[wait_col] >= 0]\n",
    "    \n",
    "    # Group by hour and calculate average wait time\n",
    "    hourly_avg = df_time.groupby('Hour')[wait_col].mean().reset_index()\n",
    "    \n",
    "    plt.figure(figsize=(12, 6))\n",
    "    sns.lineplot(x='Hour', y=wait_col, data=hourly_avg, marker='o')\n",
    "    plt.title(f'Average {wait_col} by Hour of Day')\n",
    "    plt.xlabel('Hour of Day')\n",
    "    plt.ylabel('Average Wait Time (minutes)')\n",
    "    plt.xticks(range(0, 24))\n",
    "    plt.grid(True, alpha=0.3)\n",
    "    plt.show()"
   ]
  },
  {
   "cell_type": "code",
   "execution_count": 208,
   "metadata": {},
   "outputs": [],
   "source": [
    "# Explore the relationship between weather and wait times\n",
    "if wait_time_columns and 'temp_value' in final_merged.columns:\n",
    "    wait_col = wait_time_columns[0]\n",
    "    df_filtered = final_merged[(final_merged[wait_col] >= 0) & (~final_merged['temp_value'].isna())].copy()\n",
    "    \n",
    "    plt.figure(figsize=(12, 6))\n",
    "    sns.scatterplot(x='temp_value', y=wait_col, data=df_filtered, alpha=0.5)\n",
    "    plt.title(f'Relationship Between Temperature and {wait_col}')\n",
    "    plt.xlabel('Temperature (°C)')\n",
    "    plt.ylabel('Wait Time (minutes)')\n",
    "    \n",
    "    # Add a trend line\n",
    "    sns.regplot(x='temp_value', y=wait_col, data=df_filtered, scatter=False, color='red')\n",
    "    plt.show()\n",
    "    \n",
    "    # Calculate correlation\n",
    "    correlation = df_filtered[['temp_value', wait_col]].corr().iloc[0, 1]\n",
    "    print(f\"Correlation between temperature and {wait_col}: {correlation:.3f}\")"
   ]
  }
 ],
 "metadata": {
  "kernelspec": {
   "display_name": "base",
   "language": "python",
   "name": "python3"
  },
  "language_info": {
   "codemirror_mode": {
    "name": "ipython",
    "version": 3
   },
   "file_extension": ".py",
   "mimetype": "text/x-python",
   "name": "python",
   "nbconvert_exporter": "python",
   "pygments_lexer": "ipython3",
   "version": "3.12.2"
  },
  "orig_nbformat": 4
 },
 "nbformat": 4,
 "nbformat_minor": 2
}
